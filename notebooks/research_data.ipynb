{
 "cells": [
  {
   "cell_type": "markdown",
   "id": "621b72fb88f513b2",
   "metadata": {
    "collapsed": false
   },
   "source": [
    "# Прогноз часового спроса такси по районам — итоговый ноутбук"
   ]
  },
  {
   "cell_type": "markdown",
   "id": "4567775dd830c2b0",
   "metadata": {
    "collapsed": false
   },
   "source": [
    "## Введение\n",
    "В этом ноутбуке реализую полный конвейер прогнозирования часового спроса такси по районам города:\n",
    "1. **Загрузка и очистка данных** — объединяем наборы (FHV, Yellow, Green и FHVHV), приводим к единому формату, обрабатываем пропуски и дубликаты.\n",
    "2. **Исследовательский анализ данных (EDA)** — визуализируем временные ряды, распределения, сезонность, различия между районами.\n",
    "3. **Feature Engineering** — добавляем временные признаки (час, день недели), бинарный признак праздника.\n",
    "4. **Baseline-модели** — Naive, Seasonal, MovingAvg, Linear Regression.\n",
    "5. **LSTM** — прогноз следующего дня для всех районов.\n",
    "6. **Сравнение результатов** — MAE, RMSE, MAPE, Composite для каждого подхода."
   ]
  },
  {
   "cell_type": "code",
   "execution_count": 1,
   "id": "5961dea4c6fadd24",
   "metadata": {
    "ExecuteTime": {
     "end_time": "2025-05-16T20:20:16.672618Z",
     "start_time": "2025-05-16T20:17:09.524953Z"
    },
    "collapsed": false
   },
   "outputs": [
    {
     "name": "stderr",
     "output_type": "stream",
     "text": [
      "Downloading...\n",
      "From (original): https://drive.google.com/uc?id=1sSrnWmisGwuzi8pg704eiJskENzgrGvY\n",
      "From (redirected): https://drive.google.com/uc?id=1sSrnWmisGwuzi8pg704eiJskENzgrGvY&confirm=t&uuid=06857659-ca17-4c33-81b6-c601b8ed098b\n",
      "To: C:\\Users\\Misha\\PycharmProjects\\mfdp\\mfdp_data_v1.zip\n",
      "100%|██████████| 1.97G/1.97G [02:57<00:00, 11.1MB/s]\n"
     ]
    },
    {
     "name": "stdout",
     "output_type": "stream",
     "text": [
      "Архив скачан и распакован.\n"
     ]
    }
   ],
   "source": [
    "import gdown\n",
    "import zipfile\n",
    "import os\n",
    "\n",
    "file_id = '1sSrnWmisGwuzi8pg704eiJskENzgrGvY'\n",
    "archive = 'mfdp_data_v1.zip'\n",
    "\n",
    "gdown.download(id=file_id, output=archive, quiet=False)\n",
    "\n",
    "with zipfile.ZipFile(archive, 'r') as zip_ref:\n",
    "    zip_ref.extractall()\n",
    "for f in os.listdir():\n",
    "    if f.startswith(archive): os.remove(f)\n",
    "\n",
    "print('Архив скачан и распакован.')"
   ]
  },
  {
   "cell_type": "markdown",
   "id": "3b50675195dee582",
   "metadata": {
    "collapsed": false
   },
   "source": [
    "Для удобства датасет скачивается с публичного диска как архив. Затем распаковывается в папку mfdp_data, в которой находятся .parquet файлы"
   ]
  },
  {
   "cell_type": "code",
   "execution_count": 2,
   "id": "b73fb02200089a92",
   "metadata": {
    "ExecuteTime": {
     "end_time": "2025-05-16T20:20:34.235557Z",
     "start_time": "2025-05-16T20:20:16.673623Z"
    },
    "collapsed": false
   },
   "outputs": [],
   "source": [
    "import pandas as pd\n",
    "import glob\n",
    "\n",
    "\n",
    "files = glob.glob('mfdp_data/*.parquet')\n",
    "yellow_list = []\n",
    "green_list = []\n",
    "fhv_list = []\n",
    "hvfhv_list = []\n",
    "\n",
    "for path in files:\n",
    "    df = pd.read_parquet(path)\n",
    "    fname = path.lower()\n",
    "\n",
    "    if 'yellow' in fname and 'tpep_pickup_datetime' in df.columns and 'PULocationID' in df.columns:\n",
    "        df = df.rename(columns={'tpep_pickup_datetime': 'pickup_datetime', 'PULocationID': 'location_id'})\n",
    "        df['pickup_datetime'] = pd.to_datetime(df['pickup_datetime'], errors='coerce')\n",
    "        yellow_list.append(df)\n",
    "    elif 'green' in fname and 'lpep_pickup_datetime' in df.columns and 'PULocationID' in df.columns:\n",
    "        df = df.rename(columns={'lpep_pickup_datetime': 'pickup_datetime', 'PULocationID': 'location_id'})\n",
    "        df['pickup_datetime'] = pd.to_datetime(df['pickup_datetime'], errors='coerce')\n",
    "        green_list.append(df)\n",
    "    elif 'fhvhv' in fname and 'pickup_datetime' in df.columns and 'PULocationID' in df.columns:\n",
    "        df = df.rename(columns={'PULocationID': 'location_id'})\n",
    "        df['pickup_datetime'] = pd.to_datetime(df['pickup_datetime'], errors='coerce')\n",
    "        hvfhv_list.append(df)\n",
    "    elif 'fhv' in fname and 'pickup_datetime' in df.columns and 'PUlocationID' in df.columns:\n",
    "        df = df.rename(columns={'PUlocationID': 'location_id'})\n",
    "        df['pickup_datetime'] = pd.to_datetime(df['pickup_datetime'], errors='coerce')\n",
    "        fhv_list.append(df)\n",
    "\n",
    "yellow_df = pd.concat(yellow_list, ignore_index=True) if yellow_list else pd.DataFrame()\n",
    "green_df = pd.concat(green_list, ignore_index=True) if green_list else pd.DataFrame()\n",
    "fhv_df = pd.concat(fhv_list, ignore_index=True) if fhv_list else pd.DataFrame()\n",
    "hvfhv_df = pd.concat(hvfhv_list, ignore_index=True) if hvfhv_list else pd.DataFrame()"
   ]
  },
  {
   "cell_type": "code",
   "execution_count": 3,
   "id": "f18401147124c427",
   "metadata": {
    "ExecuteTime": {
     "end_time": "2025-05-16T20:20:34.714848Z",
     "start_time": "2025-05-16T20:20:34.235557Z"
    },
    "collapsed": false
   },
   "outputs": [
    {
     "data": {
      "text/html": "<div>\n<style scoped>\n    .dataframe tbody tr th:only-of-type {\n        vertical-align: middle;\n    }\n\n    .dataframe tbody tr th {\n        vertical-align: top;\n    }\n\n    .dataframe thead th {\n        text-align: right;\n    }\n</style>\n<table border=\"1\" class=\"dataframe\">\n  <thead>\n    <tr style=\"text-align: right;\">\n      <th></th>\n      <th>VendorID</th>\n      <th>pickup_datetime</th>\n      <th>tpep_dropoff_datetime</th>\n      <th>passenger_count</th>\n      <th>trip_distance</th>\n      <th>RatecodeID</th>\n      <th>store_and_fwd_flag</th>\n      <th>location_id</th>\n      <th>DOLocationID</th>\n      <th>payment_type</th>\n      <th>fare_amount</th>\n      <th>extra</th>\n      <th>mta_tax</th>\n      <th>tip_amount</th>\n      <th>tolls_amount</th>\n      <th>improvement_surcharge</th>\n      <th>total_amount</th>\n      <th>congestion_surcharge</th>\n      <th>Airport_fee</th>\n      <th>cbd_congestion_fee</th>\n    </tr>\n  </thead>\n  <tbody>\n    <tr>\n      <th>256</th>\n      <td>2</td>\n      <td>2023-12-31 23:56:46</td>\n      <td>2024-01-01 00:12:06</td>\n      <td>2.0</td>\n      <td>2.38</td>\n      <td>1.0</td>\n      <td>N</td>\n      <td>236</td>\n      <td>142</td>\n      <td>1</td>\n      <td>15.6</td>\n      <td>1.00</td>\n      <td>0.5</td>\n      <td>1.00</td>\n      <td>0.00</td>\n      <td>1.0</td>\n      <td>21.60</td>\n      <td>2.5</td>\n      <td>0.00</td>\n      <td>NaN</td>\n    </tr>\n    <tr>\n      <th>369</th>\n      <td>2</td>\n      <td>2023-12-31 23:39:17</td>\n      <td>2023-12-31 23:42:00</td>\n      <td>2.0</td>\n      <td>0.47</td>\n      <td>1.0</td>\n      <td>N</td>\n      <td>90</td>\n      <td>68</td>\n      <td>1</td>\n      <td>5.1</td>\n      <td>1.00</td>\n      <td>0.5</td>\n      <td>0.00</td>\n      <td>0.00</td>\n      <td>1.0</td>\n      <td>10.10</td>\n      <td>2.5</td>\n      <td>0.00</td>\n      <td>NaN</td>\n    </tr>\n    <tr>\n      <th>753</th>\n      <td>2</td>\n      <td>2023-12-31 23:41:02</td>\n      <td>2023-12-31 23:48:03</td>\n      <td>1.0</td>\n      <td>0.40</td>\n      <td>1.0</td>\n      <td>N</td>\n      <td>246</td>\n      <td>246</td>\n      <td>2</td>\n      <td>7.2</td>\n      <td>1.00</td>\n      <td>0.5</td>\n      <td>0.00</td>\n      <td>0.00</td>\n      <td>1.0</td>\n      <td>12.20</td>\n      <td>2.5</td>\n      <td>0.00</td>\n      <td>NaN</td>\n    </tr>\n    <tr>\n      <th>2210</th>\n      <td>2</td>\n      <td>2023-12-31 23:57:17</td>\n      <td>2024-01-01 00:01:50</td>\n      <td>1.0</td>\n      <td>0.53</td>\n      <td>1.0</td>\n      <td>N</td>\n      <td>144</td>\n      <td>211</td>\n      <td>1</td>\n      <td>5.8</td>\n      <td>1.00</td>\n      <td>0.5</td>\n      <td>2.16</td>\n      <td>0.00</td>\n      <td>1.0</td>\n      <td>12.96</td>\n      <td>2.5</td>\n      <td>0.00</td>\n      <td>NaN</td>\n    </tr>\n    <tr>\n      <th>2615</th>\n      <td>2</td>\n      <td>2023-12-31 23:56:45</td>\n      <td>2024-01-01 00:00:28</td>\n      <td>1.0</td>\n      <td>0.97</td>\n      <td>1.0</td>\n      <td>N</td>\n      <td>163</td>\n      <td>237</td>\n      <td>1</td>\n      <td>6.5</td>\n      <td>1.00</td>\n      <td>0.5</td>\n      <td>2.00</td>\n      <td>0.00</td>\n      <td>1.0</td>\n      <td>13.50</td>\n      <td>2.5</td>\n      <td>0.00</td>\n      <td>NaN</td>\n    </tr>\n    <tr>\n      <th>2985</th>\n      <td>2</td>\n      <td>2023-12-31 23:49:12</td>\n      <td>2024-01-01 00:04:32</td>\n      <td>1.0</td>\n      <td>3.14</td>\n      <td>1.0</td>\n      <td>N</td>\n      <td>234</td>\n      <td>237</td>\n      <td>1</td>\n      <td>17.0</td>\n      <td>1.00</td>\n      <td>0.5</td>\n      <td>6.60</td>\n      <td>0.00</td>\n      <td>1.0</td>\n      <td>28.60</td>\n      <td>2.5</td>\n      <td>0.00</td>\n      <td>NaN</td>\n    </tr>\n    <tr>\n      <th>3176</th>\n      <td>2</td>\n      <td>2023-12-31 23:47:28</td>\n      <td>2023-12-31 23:57:07</td>\n      <td>2.0</td>\n      <td>1.44</td>\n      <td>1.0</td>\n      <td>N</td>\n      <td>68</td>\n      <td>137</td>\n      <td>1</td>\n      <td>10.7</td>\n      <td>1.00</td>\n      <td>0.5</td>\n      <td>3.14</td>\n      <td>0.00</td>\n      <td>1.0</td>\n      <td>18.84</td>\n      <td>2.5</td>\n      <td>0.00</td>\n      <td>NaN</td>\n    </tr>\n    <tr>\n      <th>4137</th>\n      <td>2</td>\n      <td>2023-12-31 23:58:35</td>\n      <td>2024-01-01 00:13:06</td>\n      <td>6.0</td>\n      <td>8.39</td>\n      <td>1.0</td>\n      <td>N</td>\n      <td>138</td>\n      <td>217</td>\n      <td>2</td>\n      <td>33.1</td>\n      <td>6.00</td>\n      <td>0.5</td>\n      <td>0.00</td>\n      <td>0.00</td>\n      <td>1.0</td>\n      <td>42.35</td>\n      <td>0.0</td>\n      <td>1.75</td>\n      <td>NaN</td>\n    </tr>\n    <tr>\n      <th>4142</th>\n      <td>2</td>\n      <td>2023-12-31 23:58:37</td>\n      <td>2024-01-01 00:08:37</td>\n      <td>2.0</td>\n      <td>0.59</td>\n      <td>1.0</td>\n      <td>N</td>\n      <td>161</td>\n      <td>170</td>\n      <td>1</td>\n      <td>10.0</td>\n      <td>1.00</td>\n      <td>0.5</td>\n      <td>3.75</td>\n      <td>0.00</td>\n      <td>1.0</td>\n      <td>18.75</td>\n      <td>2.5</td>\n      <td>0.00</td>\n      <td>NaN</td>\n    </tr>\n    <tr>\n      <th>8628</th>\n      <td>2</td>\n      <td>2023-12-31 23:54:27</td>\n      <td>2024-01-01 00:13:12</td>\n      <td>1.0</td>\n      <td>7.70</td>\n      <td>1.0</td>\n      <td>N</td>\n      <td>229</td>\n      <td>244</td>\n      <td>1</td>\n      <td>33.1</td>\n      <td>1.00</td>\n      <td>0.5</td>\n      <td>7.62</td>\n      <td>0.00</td>\n      <td>1.0</td>\n      <td>45.72</td>\n      <td>2.5</td>\n      <td>0.00</td>\n      <td>NaN</td>\n    </tr>\n    <tr>\n      <th>10915</th>\n      <td>2</td>\n      <td>2009-01-01 23:58:40</td>\n      <td>2009-01-02 00:01:40</td>\n      <td>1.0</td>\n      <td>0.46</td>\n      <td>1.0</td>\n      <td>N</td>\n      <td>137</td>\n      <td>264</td>\n      <td>2</td>\n      <td>4.4</td>\n      <td>3.50</td>\n      <td>0.5</td>\n      <td>0.00</td>\n      <td>0.00</td>\n      <td>1.0</td>\n      <td>9.40</td>\n      <td>0.0</td>\n      <td>0.00</td>\n      <td>NaN</td>\n    </tr>\n    <tr>\n      <th>53119</th>\n      <td>2</td>\n      <td>2002-12-31 22:59:39</td>\n      <td>2002-12-31 23:05:41</td>\n      <td>1.0</td>\n      <td>0.63</td>\n      <td>1.0</td>\n      <td>N</td>\n      <td>170</td>\n      <td>170</td>\n      <td>3</td>\n      <td>-6.5</td>\n      <td>0.00</td>\n      <td>-0.5</td>\n      <td>0.00</td>\n      <td>0.00</td>\n      <td>-1.0</td>\n      <td>-10.50</td>\n      <td>-2.5</td>\n      <td>0.00</td>\n      <td>NaN</td>\n    </tr>\n    <tr>\n      <th>53120</th>\n      <td>2</td>\n      <td>2002-12-31 22:59:39</td>\n      <td>2002-12-31 23:05:41</td>\n      <td>1.0</td>\n      <td>0.63</td>\n      <td>1.0</td>\n      <td>N</td>\n      <td>170</td>\n      <td>170</td>\n      <td>3</td>\n      <td>6.5</td>\n      <td>0.00</td>\n      <td>0.5</td>\n      <td>0.00</td>\n      <td>0.00</td>\n      <td>1.0</td>\n      <td>10.50</td>\n      <td>2.5</td>\n      <td>0.00</td>\n      <td>NaN</td>\n    </tr>\n    <tr>\n      <th>1230169</th>\n      <td>2</td>\n      <td>2009-01-01 23:30:39</td>\n      <td>2009-01-02 00:01:39</td>\n      <td>1.0</td>\n      <td>10.99</td>\n      <td>1.0</td>\n      <td>N</td>\n      <td>237</td>\n      <td>264</td>\n      <td>2</td>\n      <td>45.0</td>\n      <td>3.50</td>\n      <td>0.5</td>\n      <td>0.00</td>\n      <td>0.00</td>\n      <td>1.0</td>\n      <td>50.00</td>\n      <td>0.0</td>\n      <td>0.00</td>\n      <td>NaN</td>\n    </tr>\n    <tr>\n      <th>2558056</th>\n      <td>2</td>\n      <td>2009-01-01 00:24:09</td>\n      <td>2009-01-01 01:13:00</td>\n      <td>2.0</td>\n      <td>10.88</td>\n      <td>1.0</td>\n      <td>N</td>\n      <td>138</td>\n      <td>264</td>\n      <td>2</td>\n      <td>50.6</td>\n      <td>9.25</td>\n      <td>0.5</td>\n      <td>0.00</td>\n      <td>6.94</td>\n      <td>1.0</td>\n      <td>68.29</td>\n      <td>0.0</td>\n      <td>0.00</td>\n      <td>NaN</td>\n    </tr>\n    <tr>\n      <th>3145907</th>\n      <td>2</td>\n      <td>2008-12-31 22:52:49</td>\n      <td>2008-12-31 23:04:09</td>\n      <td>1.0</td>\n      <td>1.62</td>\n      <td>1.0</td>\n      <td>N</td>\n      <td>141</td>\n      <td>211</td>\n      <td>1</td>\n      <td>11.4</td>\n      <td>2.50</td>\n      <td>0.5</td>\n      <td>2.00</td>\n      <td>0.00</td>\n      <td>1.0</td>\n      <td>19.90</td>\n      <td>2.5</td>\n      <td>0.00</td>\n      <td>NaN</td>\n    </tr>\n    <tr>\n      <th>3863477</th>\n      <td>2</td>\n      <td>2009-01-01 00:02:13</td>\n      <td>2009-01-01 00:48:28</td>\n      <td>1.0</td>\n      <td>0.57</td>\n      <td>1.0</td>\n      <td>N</td>\n      <td>79</td>\n      <td>148</td>\n      <td>1</td>\n      <td>9.3</td>\n      <td>1.00</td>\n      <td>0.5</td>\n      <td>2.86</td>\n      <td>0.00</td>\n      <td>1.0</td>\n      <td>17.16</td>\n      <td>2.5</td>\n      <td>0.00</td>\n      <td>NaN</td>\n    </tr>\n    <tr>\n      <th>7642901</th>\n      <td>2</td>\n      <td>2002-12-31 22:17:10</td>\n      <td>2002-12-31 22:42:24</td>\n      <td>1.0</td>\n      <td>1.40</td>\n      <td>1.0</td>\n      <td>N</td>\n      <td>50</td>\n      <td>162</td>\n      <td>1</td>\n      <td>10.0</td>\n      <td>1.00</td>\n      <td>0.5</td>\n      <td>3.00</td>\n      <td>0.00</td>\n      <td>1.0</td>\n      <td>18.00</td>\n      <td>2.5</td>\n      <td>0.00</td>\n      <td>NaN</td>\n    </tr>\n    <tr>\n      <th>7783242</th>\n      <td>2</td>\n      <td>2002-12-31 23:08:30</td>\n      <td>2003-01-01 14:58:35</td>\n      <td>1.0</td>\n      <td>5.34</td>\n      <td>1.0</td>\n      <td>N</td>\n      <td>132</td>\n      <td>124</td>\n      <td>2</td>\n      <td>21.9</td>\n      <td>0.00</td>\n      <td>0.5</td>\n      <td>0.00</td>\n      <td>0.00</td>\n      <td>1.0</td>\n      <td>25.15</td>\n      <td>0.0</td>\n      <td>1.75</td>\n      <td>NaN</td>\n    </tr>\n    <tr>\n      <th>9850987</th>\n      <td>2</td>\n      <td>2002-12-31 22:10:04</td>\n      <td>2002-12-31 22:14:22</td>\n      <td>1.0</td>\n      <td>7.55</td>\n      <td>1.0</td>\n      <td>N</td>\n      <td>170</td>\n      <td>231</td>\n      <td>1</td>\n      <td>33.1</td>\n      <td>1.00</td>\n      <td>0.5</td>\n      <td>7.62</td>\n      <td>0.00</td>\n      <td>1.0</td>\n      <td>45.72</td>\n      <td>2.5</td>\n      <td>0.00</td>\n      <td>NaN</td>\n    </tr>\n    <tr>\n      <th>10069496</th>\n      <td>2</td>\n      <td>2002-12-31 23:09:40</td>\n      <td>2003-01-01 20:22:32</td>\n      <td>1.0</td>\n      <td>2.12</td>\n      <td>1.0</td>\n      <td>N</td>\n      <td>234</td>\n      <td>148</td>\n      <td>2</td>\n      <td>17.7</td>\n      <td>1.00</td>\n      <td>0.5</td>\n      <td>0.00</td>\n      <td>0.00</td>\n      <td>1.0</td>\n      <td>22.70</td>\n      <td>2.5</td>\n      <td>0.00</td>\n      <td>NaN</td>\n    </tr>\n    <tr>\n      <th>10165949</th>\n      <td>2</td>\n      <td>2002-12-31 22:19:28</td>\n      <td>2003-01-01 18:58:09</td>\n      <td>1.0</td>\n      <td>0.55</td>\n      <td>1.0</td>\n      <td>N</td>\n      <td>246</td>\n      <td>68</td>\n      <td>2</td>\n      <td>7.2</td>\n      <td>0.00</td>\n      <td>0.5</td>\n      <td>0.00</td>\n      <td>0.00</td>\n      <td>1.0</td>\n      <td>11.20</td>\n      <td>2.5</td>\n      <td>0.00</td>\n      <td>NaN</td>\n    </tr>\n    <tr>\n      <th>11379411</th>\n      <td>2</td>\n      <td>2008-12-31 23:06:01</td>\n      <td>2009-01-01 16:10:33</td>\n      <td>1.0</td>\n      <td>16.87</td>\n      <td>2.0</td>\n      <td>N</td>\n      <td>132</td>\n      <td>161</td>\n      <td>1</td>\n      <td>70.0</td>\n      <td>0.00</td>\n      <td>0.5</td>\n      <td>13.00</td>\n      <td>6.94</td>\n      <td>1.0</td>\n      <td>95.69</td>\n      <td>2.5</td>\n      <td>1.75</td>\n      <td>NaN</td>\n    </tr>\n    <tr>\n      <th>14151372</th>\n      <td>2</td>\n      <td>2002-12-31 16:46:07</td>\n      <td>2002-12-31 17:24:07</td>\n      <td>1.0</td>\n      <td>7.77</td>\n      <td>1.0</td>\n      <td>N</td>\n      <td>138</td>\n      <td>263</td>\n      <td>1</td>\n      <td>37.3</td>\n      <td>2.50</td>\n      <td>0.5</td>\n      <td>5.00</td>\n      <td>13.88</td>\n      <td>1.0</td>\n      <td>62.68</td>\n      <td>2.5</td>\n      <td>0.00</td>\n      <td>NaN</td>\n    </tr>\n    <tr>\n      <th>14476602</th>\n      <td>2</td>\n      <td>2009-01-01 00:13:29</td>\n      <td>2009-01-01 01:05:22</td>\n      <td>1.0</td>\n      <td>19.97</td>\n      <td>2.0</td>\n      <td>N</td>\n      <td>132</td>\n      <td>238</td>\n      <td>2</td>\n      <td>70.0</td>\n      <td>5.00</td>\n      <td>0.5</td>\n      <td>0.00</td>\n      <td>6.94</td>\n      <td>1.0</td>\n      <td>87.69</td>\n      <td>2.5</td>\n      <td>1.75</td>\n      <td>NaN</td>\n    </tr>\n    <tr>\n      <th>14734357</th>\n      <td>2</td>\n      <td>2009-01-01 00:01:41</td>\n      <td>2009-01-01 21:39:10</td>\n      <td>1.0</td>\n      <td>1.24</td>\n      <td>1.0</td>\n      <td>N</td>\n      <td>161</td>\n      <td>163</td>\n      <td>1</td>\n      <td>11.4</td>\n      <td>1.00</td>\n      <td>0.5</td>\n      <td>3.28</td>\n      <td>0.00</td>\n      <td>1.0</td>\n      <td>19.68</td>\n      <td>2.5</td>\n      <td>0.00</td>\n      <td>NaN</td>\n    </tr>\n    <tr>\n      <th>14759169</th>\n      <td>2</td>\n      <td>2008-12-31 23:04:30</td>\n      <td>2009-01-01 09:31:29</td>\n      <td>1.0</td>\n      <td>19.06</td>\n      <td>2.0</td>\n      <td>N</td>\n      <td>132</td>\n      <td>211</td>\n      <td>1</td>\n      <td>70.0</td>\n      <td>0.00</td>\n      <td>0.5</td>\n      <td>7.25</td>\n      <td>0.00</td>\n      <td>1.0</td>\n      <td>83.00</td>\n      <td>2.5</td>\n      <td>1.75</td>\n      <td>NaN</td>\n    </tr>\n    <tr>\n      <th>15577993</th>\n      <td>2</td>\n      <td>2002-12-31 23:10:22</td>\n      <td>2003-01-01 15:12:59</td>\n      <td>1.0</td>\n      <td>11.08</td>\n      <td>1.0</td>\n      <td>N</td>\n      <td>162</td>\n      <td>138</td>\n      <td>1</td>\n      <td>45.7</td>\n      <td>2.50</td>\n      <td>0.5</td>\n      <td>11.83</td>\n      <td>6.94</td>\n      <td>1.0</td>\n      <td>70.97</td>\n      <td>2.5</td>\n      <td>0.00</td>\n      <td>NaN</td>\n    </tr>\n    <tr>\n      <th>15949301</th>\n      <td>2</td>\n      <td>2002-12-31 23:19:30</td>\n      <td>2003-01-01 21:07:48</td>\n      <td>1.0</td>\n      <td>12.21</td>\n      <td>1.0</td>\n      <td>N</td>\n      <td>138</td>\n      <td>177</td>\n      <td>1</td>\n      <td>48.5</td>\n      <td>6.00</td>\n      <td>0.5</td>\n      <td>11.55</td>\n      <td>0.00</td>\n      <td>1.0</td>\n      <td>69.30</td>\n      <td>0.0</td>\n      <td>1.75</td>\n      <td>NaN</td>\n    </tr>\n    <tr>\n      <th>16256422</th>\n      <td>2</td>\n      <td>2009-01-01 05:36:19</td>\n      <td>2009-01-01 06:08:16</td>\n      <td>1.0</td>\n      <td>9.65</td>\n      <td>1.0</td>\n      <td>N</td>\n      <td>132</td>\n      <td>61</td>\n      <td>2</td>\n      <td>43.6</td>\n      <td>1.00</td>\n      <td>0.5</td>\n      <td>0.00</td>\n      <td>0.00</td>\n      <td>1.0</td>\n      <td>47.85</td>\n      <td>0.0</td>\n      <td>1.75</td>\n      <td>NaN</td>\n    </tr>\n    <tr>\n      <th>17720171</th>\n      <td>2</td>\n      <td>2008-12-31 23:36:56</td>\n      <td>2009-01-01 16:23:07</td>\n      <td>1.0</td>\n      <td>18.93</td>\n      <td>2.0</td>\n      <td>N</td>\n      <td>230</td>\n      <td>132</td>\n      <td>1</td>\n      <td>70.0</td>\n      <td>0.00</td>\n      <td>0.5</td>\n      <td>16.19</td>\n      <td>6.94</td>\n      <td>1.0</td>\n      <td>97.13</td>\n      <td>2.5</td>\n      <td>0.00</td>\n      <td>NaN</td>\n    </tr>\n    <tr>\n      <th>18457272</th>\n      <td>2</td>\n      <td>2008-12-31 00:00:00</td>\n      <td>2008-12-31 23:01:42</td>\n      <td>1.0</td>\n      <td>5.19</td>\n      <td>1.0</td>\n      <td>N</td>\n      <td>193</td>\n      <td>264</td>\n      <td>2</td>\n      <td>49.9</td>\n      <td>2.50</td>\n      <td>0.5</td>\n      <td>0.00</td>\n      <td>0.00</td>\n      <td>1.0</td>\n      <td>53.90</td>\n      <td>0.0</td>\n      <td>0.00</td>\n      <td>NaN</td>\n    </tr>\n    <tr>\n      <th>18896588</th>\n      <td>2</td>\n      <td>2009-01-01 02:39:53</td>\n      <td>2009-01-01 02:52:13</td>\n      <td>1.0</td>\n      <td>2.98</td>\n      <td>1.0</td>\n      <td>N</td>\n      <td>138</td>\n      <td>129</td>\n      <td>2</td>\n      <td>16.3</td>\n      <td>6.00</td>\n      <td>0.5</td>\n      <td>0.00</td>\n      <td>0.00</td>\n      <td>1.0</td>\n      <td>25.55</td>\n      <td>0.0</td>\n      <td>1.75</td>\n      <td>NaN</td>\n    </tr>\n    <tr>\n      <th>19470657</th>\n      <td>2</td>\n      <td>2009-01-01 22:52:24</td>\n      <td>2009-01-02 14:18:27</td>\n      <td>5.0</td>\n      <td>8.50</td>\n      <td>1.0</td>\n      <td>N</td>\n      <td>138</td>\n      <td>137</td>\n      <td>1</td>\n      <td>40.8</td>\n      <td>5.00</td>\n      <td>0.5</td>\n      <td>11.70</td>\n      <td>6.94</td>\n      <td>1.0</td>\n      <td>70.19</td>\n      <td>2.5</td>\n      <td>1.75</td>\n      <td>NaN</td>\n    </tr>\n    <tr>\n      <th>19517646</th>\n      <td>2</td>\n      <td>2026-06-26 23:26:55</td>\n      <td>2026-06-26 23:47:51</td>\n      <td>1.0</td>\n      <td>10.96</td>\n      <td>1.0</td>\n      <td>N</td>\n      <td>138</td>\n      <td>233</td>\n      <td>1</td>\n      <td>42.2</td>\n      <td>6.00</td>\n      <td>0.5</td>\n      <td>12.18</td>\n      <td>6.94</td>\n      <td>1.0</td>\n      <td>73.07</td>\n      <td>2.5</td>\n      <td>1.75</td>\n      <td>NaN</td>\n    </tr>\n    <tr>\n      <th>19517647</th>\n      <td>2</td>\n      <td>2026-06-26 23:53:12</td>\n      <td>2026-06-27 20:59:10</td>\n      <td>1.0</td>\n      <td>0.56</td>\n      <td>1.0</td>\n      <td>N</td>\n      <td>233</td>\n      <td>264</td>\n      <td>1</td>\n      <td>5.8</td>\n      <td>1.00</td>\n      <td>0.5</td>\n      <td>2.70</td>\n      <td>0.00</td>\n      <td>1.0</td>\n      <td>13.50</td>\n      <td>2.5</td>\n      <td>0.00</td>\n      <td>NaN</td>\n    </tr>\n    <tr>\n      <th>22005603</th>\n      <td>2</td>\n      <td>2009-01-01 00:03:01</td>\n      <td>2009-01-01 00:31:45</td>\n      <td>1.0</td>\n      <td>10.43</td>\n      <td>1.0</td>\n      <td>N</td>\n      <td>138</td>\n      <td>114</td>\n      <td>2</td>\n      <td>44.3</td>\n      <td>6.00</td>\n      <td>0.5</td>\n      <td>0.00</td>\n      <td>0.00</td>\n      <td>1.0</td>\n      <td>56.05</td>\n      <td>2.5</td>\n      <td>1.75</td>\n      <td>NaN</td>\n    </tr>\n    <tr>\n      <th>22909781</th>\n      <td>2</td>\n      <td>2009-01-01 00:02:36</td>\n      <td>2009-01-01 00:13:25</td>\n      <td>1.0</td>\n      <td>1.32</td>\n      <td>1.0</td>\n      <td>N</td>\n      <td>237</td>\n      <td>161</td>\n      <td>2</td>\n      <td>11.4</td>\n      <td>2.50</td>\n      <td>0.5</td>\n      <td>0.00</td>\n      <td>0.00</td>\n      <td>1.0</td>\n      <td>17.90</td>\n      <td>2.5</td>\n      <td>0.00</td>\n      <td>NaN</td>\n    </tr>\n    <tr>\n      <th>22988079</th>\n      <td>2</td>\n      <td>2009-01-01 00:02:24</td>\n      <td>2009-01-01 17:31:49</td>\n      <td>3.0</td>\n      <td>1.52</td>\n      <td>1.0</td>\n      <td>N</td>\n      <td>163</td>\n      <td>164</td>\n      <td>1</td>\n      <td>16.3</td>\n      <td>2.50</td>\n      <td>0.5</td>\n      <td>6.84</td>\n      <td>0.00</td>\n      <td>1.0</td>\n      <td>29.64</td>\n      <td>2.5</td>\n      <td>0.00</td>\n      <td>NaN</td>\n    </tr>\n    <tr>\n      <th>23495244</th>\n      <td>2</td>\n      <td>2009-01-01 00:05:17</td>\n      <td>2009-01-01 20:28:16</td>\n      <td>2.0</td>\n      <td>2.50</td>\n      <td>1.0</td>\n      <td>N</td>\n      <td>90</td>\n      <td>79</td>\n      <td>1</td>\n      <td>17.7</td>\n      <td>1.00</td>\n      <td>0.5</td>\n      <td>4.00</td>\n      <td>0.00</td>\n      <td>1.0</td>\n      <td>26.70</td>\n      <td>2.5</td>\n      <td>0.00</td>\n      <td>NaN</td>\n    </tr>\n    <tr>\n      <th>23964524</th>\n      <td>2</td>\n      <td>2009-01-01 00:02:52</td>\n      <td>2009-01-01 22:05:41</td>\n      <td>2.0</td>\n      <td>1.92</td>\n      <td>1.0</td>\n      <td>N</td>\n      <td>229</td>\n      <td>262</td>\n      <td>1</td>\n      <td>10.7</td>\n      <td>1.00</td>\n      <td>0.5</td>\n      <td>3.14</td>\n      <td>0.00</td>\n      <td>1.0</td>\n      <td>18.84</td>\n      <td>2.5</td>\n      <td>0.00</td>\n      <td>NaN</td>\n    </tr>\n    <tr>\n      <th>26706001</th>\n      <td>2</td>\n      <td>2008-12-31 23:05:26</td>\n      <td>2009-01-01 19:10:54</td>\n      <td>1.0</td>\n      <td>17.86</td>\n      <td>2.0</td>\n      <td>N</td>\n      <td>132</td>\n      <td>100</td>\n      <td>1</td>\n      <td>70.0</td>\n      <td>5.00</td>\n      <td>0.5</td>\n      <td>17.54</td>\n      <td>6.94</td>\n      <td>1.0</td>\n      <td>105.23</td>\n      <td>2.5</td>\n      <td>1.75</td>\n      <td>NaN</td>\n    </tr>\n    <tr>\n      <th>28156354</th>\n      <td>2</td>\n      <td>2009-01-01 14:02:23</td>\n      <td>2009-01-01 14:28:23</td>\n      <td>2.0</td>\n      <td>2.05</td>\n      <td>1.0</td>\n      <td>N</td>\n      <td>68</td>\n      <td>230</td>\n      <td>1</td>\n      <td>22.6</td>\n      <td>0.00</td>\n      <td>0.5</td>\n      <td>6.65</td>\n      <td>0.00</td>\n      <td>1.0</td>\n      <td>33.25</td>\n      <td>2.5</td>\n      <td>0.00</td>\n      <td>NaN</td>\n    </tr>\n    <tr>\n      <th>29319524</th>\n      <td>2</td>\n      <td>2008-12-31 23:03:46</td>\n      <td>2009-01-01 20:25:11</td>\n      <td>1.0</td>\n      <td>0.71</td>\n      <td>1.0</td>\n      <td>N</td>\n      <td>163</td>\n      <td>237</td>\n      <td>2</td>\n      <td>7.2</td>\n      <td>1.00</td>\n      <td>0.5</td>\n      <td>0.00</td>\n      <td>0.00</td>\n      <td>1.0</td>\n      <td>12.20</td>\n      <td>2.5</td>\n      <td>0.00</td>\n      <td>NaN</td>\n    </tr>\n    <tr>\n      <th>33027570</th>\n      <td>2</td>\n      <td>2009-01-01 00:35:59</td>\n      <td>2009-01-01 01:29:28</td>\n      <td>2.0</td>\n      <td>28.80</td>\n      <td>2.0</td>\n      <td>N</td>\n      <td>132</td>\n      <td>13</td>\n      <td>2</td>\n      <td>70.0</td>\n      <td>0.00</td>\n      <td>0.5</td>\n      <td>0.00</td>\n      <td>6.94</td>\n      <td>1.0</td>\n      <td>82.69</td>\n      <td>2.5</td>\n      <td>1.75</td>\n      <td>NaN</td>\n    </tr>\n    <tr>\n      <th>34432590</th>\n      <td>2</td>\n      <td>2009-01-01 00:38:49</td>\n      <td>2009-01-01 00:55:12</td>\n      <td>2.0</td>\n      <td>2.99</td>\n      <td>1.0</td>\n      <td>N</td>\n      <td>100</td>\n      <td>231</td>\n      <td>2</td>\n      <td>17.7</td>\n      <td>0.00</td>\n      <td>0.5</td>\n      <td>0.00</td>\n      <td>0.00</td>\n      <td>1.0</td>\n      <td>21.70</td>\n      <td>2.5</td>\n      <td>0.00</td>\n      <td>NaN</td>\n    </tr>\n    <tr>\n      <th>35226997</th>\n      <td>2</td>\n      <td>2008-12-31 23:03:07</td>\n      <td>2009-01-01 16:38:13</td>\n      <td>1.0</td>\n      <td>20.74</td>\n      <td>3.0</td>\n      <td>N</td>\n      <td>230</td>\n      <td>1</td>\n      <td>2</td>\n      <td>99.3</td>\n      <td>0.00</td>\n      <td>0.0</td>\n      <td>0.00</td>\n      <td>21.00</td>\n      <td>1.0</td>\n      <td>121.30</td>\n      <td>0.0</td>\n      <td>0.00</td>\n      <td>NaN</td>\n    </tr>\n    <tr>\n      <th>36894900</th>\n      <td>2</td>\n      <td>2002-12-31 22:17:43</td>\n      <td>2002-12-31 22:23:55</td>\n      <td>1.0</td>\n      <td>0.67</td>\n      <td>1.0</td>\n      <td>N</td>\n      <td>237</td>\n      <td>140</td>\n      <td>2</td>\n      <td>7.9</td>\n      <td>0.00</td>\n      <td>0.5</td>\n      <td>0.00</td>\n      <td>0.00</td>\n      <td>1.0</td>\n      <td>11.90</td>\n      <td>2.5</td>\n      <td>0.00</td>\n      <td>NaN</td>\n    </tr>\n    <tr>\n      <th>38328615</th>\n      <td>2</td>\n      <td>2025-03-02 11:38:31</td>\n      <td>2025-03-02 12:12:43</td>\n      <td>1.0</td>\n      <td>2.71</td>\n      <td>1.0</td>\n      <td>N</td>\n      <td>234</td>\n      <td>163</td>\n      <td>2</td>\n      <td>28.2</td>\n      <td>1.00</td>\n      <td>0.5</td>\n      <td>0.00</td>\n      <td>0.00</td>\n      <td>1.0</td>\n      <td>33.20</td>\n      <td>2.5</td>\n      <td>0.00</td>\n      <td>NaN</td>\n    </tr>\n    <tr>\n      <th>38336076</th>\n      <td>2</td>\n      <td>2025-03-23 20:42:06</td>\n      <td>2025-03-23 22:52:56</td>\n      <td>1.0</td>\n      <td>2.19</td>\n      <td>1.0</td>\n      <td>N</td>\n      <td>48</td>\n      <td>239</td>\n      <td>1</td>\n      <td>11.4</td>\n      <td>1.00</td>\n      <td>0.5</td>\n      <td>3.28</td>\n      <td>0.00</td>\n      <td>1.0</td>\n      <td>19.68</td>\n      <td>2.5</td>\n      <td>0.00</td>\n      <td>NaN</td>\n    </tr>\n    <tr>\n      <th>39387839</th>\n      <td>2</td>\n      <td>2008-12-31 23:58:01</td>\n      <td>2009-01-01 13:22:34</td>\n      <td>1.0</td>\n      <td>17.77</td>\n      <td>2.0</td>\n      <td>N</td>\n      <td>132</td>\n      <td>162</td>\n      <td>1</td>\n      <td>70.0</td>\n      <td>0.00</td>\n      <td>0.5</td>\n      <td>16.54</td>\n      <td>6.94</td>\n      <td>1.0</td>\n      <td>99.23</td>\n      <td>2.5</td>\n      <td>1.75</td>\n      <td>NaN</td>\n    </tr>\n    <tr>\n      <th>40559768</th>\n      <td>2</td>\n      <td>2009-01-01 00:06:17</td>\n      <td>2009-01-01 00:30:36</td>\n      <td>1.0</td>\n      <td>11.17</td>\n      <td>1.0</td>\n      <td>N</td>\n      <td>138</td>\n      <td>182</td>\n      <td>2</td>\n      <td>45.7</td>\n      <td>5.00</td>\n      <td>0.5</td>\n      <td>0.00</td>\n      <td>6.94</td>\n      <td>1.0</td>\n      <td>60.89</td>\n      <td>0.0</td>\n      <td>1.75</td>\n      <td>NaN</td>\n    </tr>\n    <tr>\n      <th>40567925</th>\n      <td>2</td>\n      <td>2008-12-31 23:03:59</td>\n      <td>2009-01-01 16:16:12</td>\n      <td>1.0</td>\n      <td>2.40</td>\n      <td>1.0</td>\n      <td>N</td>\n      <td>43</td>\n      <td>170</td>\n      <td>1</td>\n      <td>19.8</td>\n      <td>0.00</td>\n      <td>0.5</td>\n      <td>5.95</td>\n      <td>0.00</td>\n      <td>1.0</td>\n      <td>29.75</td>\n      <td>2.5</td>\n      <td>0.00</td>\n      <td>NaN</td>\n    </tr>\n    <tr>\n      <th>47409300</th>\n      <td>2</td>\n      <td>2025-03-01 00:06:32</td>\n      <td>2025-03-01 00:30:14</td>\n      <td>1.0</td>\n      <td>3.24</td>\n      <td>1.0</td>\n      <td>N</td>\n      <td>224</td>\n      <td>48</td>\n      <td>1</td>\n      <td>22.6</td>\n      <td>1.00</td>\n      <td>0.5</td>\n      <td>5.67</td>\n      <td>0.00</td>\n      <td>1.0</td>\n      <td>34.02</td>\n      <td>2.5</td>\n      <td>0.00</td>\n      <td>0.75</td>\n    </tr>\n  </tbody>\n</table>\n</div>",
      "text/plain": "          VendorID     pickup_datetime tpep_dropoff_datetime  passenger_count  \\\n256              2 2023-12-31 23:56:46   2024-01-01 00:12:06              2.0   \n369              2 2023-12-31 23:39:17   2023-12-31 23:42:00              2.0   \n753              2 2023-12-31 23:41:02   2023-12-31 23:48:03              1.0   \n2210             2 2023-12-31 23:57:17   2024-01-01 00:01:50              1.0   \n2615             2 2023-12-31 23:56:45   2024-01-01 00:00:28              1.0   \n2985             2 2023-12-31 23:49:12   2024-01-01 00:04:32              1.0   \n3176             2 2023-12-31 23:47:28   2023-12-31 23:57:07              2.0   \n4137             2 2023-12-31 23:58:35   2024-01-01 00:13:06              6.0   \n4142             2 2023-12-31 23:58:37   2024-01-01 00:08:37              2.0   \n8628             2 2023-12-31 23:54:27   2024-01-01 00:13:12              1.0   \n10915            2 2009-01-01 23:58:40   2009-01-02 00:01:40              1.0   \n53119            2 2002-12-31 22:59:39   2002-12-31 23:05:41              1.0   \n53120            2 2002-12-31 22:59:39   2002-12-31 23:05:41              1.0   \n1230169          2 2009-01-01 23:30:39   2009-01-02 00:01:39              1.0   \n2558056          2 2009-01-01 00:24:09   2009-01-01 01:13:00              2.0   \n3145907          2 2008-12-31 22:52:49   2008-12-31 23:04:09              1.0   \n3863477          2 2009-01-01 00:02:13   2009-01-01 00:48:28              1.0   \n7642901          2 2002-12-31 22:17:10   2002-12-31 22:42:24              1.0   \n7783242          2 2002-12-31 23:08:30   2003-01-01 14:58:35              1.0   \n9850987          2 2002-12-31 22:10:04   2002-12-31 22:14:22              1.0   \n10069496         2 2002-12-31 23:09:40   2003-01-01 20:22:32              1.0   \n10165949         2 2002-12-31 22:19:28   2003-01-01 18:58:09              1.0   \n11379411         2 2008-12-31 23:06:01   2009-01-01 16:10:33              1.0   \n14151372         2 2002-12-31 16:46:07   2002-12-31 17:24:07              1.0   \n14476602         2 2009-01-01 00:13:29   2009-01-01 01:05:22              1.0   \n14734357         2 2009-01-01 00:01:41   2009-01-01 21:39:10              1.0   \n14759169         2 2008-12-31 23:04:30   2009-01-01 09:31:29              1.0   \n15577993         2 2002-12-31 23:10:22   2003-01-01 15:12:59              1.0   \n15949301         2 2002-12-31 23:19:30   2003-01-01 21:07:48              1.0   \n16256422         2 2009-01-01 05:36:19   2009-01-01 06:08:16              1.0   \n17720171         2 2008-12-31 23:36:56   2009-01-01 16:23:07              1.0   \n18457272         2 2008-12-31 00:00:00   2008-12-31 23:01:42              1.0   \n18896588         2 2009-01-01 02:39:53   2009-01-01 02:52:13              1.0   \n19470657         2 2009-01-01 22:52:24   2009-01-02 14:18:27              5.0   \n19517646         2 2026-06-26 23:26:55   2026-06-26 23:47:51              1.0   \n19517647         2 2026-06-26 23:53:12   2026-06-27 20:59:10              1.0   \n22005603         2 2009-01-01 00:03:01   2009-01-01 00:31:45              1.0   \n22909781         2 2009-01-01 00:02:36   2009-01-01 00:13:25              1.0   \n22988079         2 2009-01-01 00:02:24   2009-01-01 17:31:49              3.0   \n23495244         2 2009-01-01 00:05:17   2009-01-01 20:28:16              2.0   \n23964524         2 2009-01-01 00:02:52   2009-01-01 22:05:41              2.0   \n26706001         2 2008-12-31 23:05:26   2009-01-01 19:10:54              1.0   \n28156354         2 2009-01-01 14:02:23   2009-01-01 14:28:23              2.0   \n29319524         2 2008-12-31 23:03:46   2009-01-01 20:25:11              1.0   \n33027570         2 2009-01-01 00:35:59   2009-01-01 01:29:28              2.0   \n34432590         2 2009-01-01 00:38:49   2009-01-01 00:55:12              2.0   \n35226997         2 2008-12-31 23:03:07   2009-01-01 16:38:13              1.0   \n36894900         2 2002-12-31 22:17:43   2002-12-31 22:23:55              1.0   \n38328615         2 2025-03-02 11:38:31   2025-03-02 12:12:43              1.0   \n38336076         2 2025-03-23 20:42:06   2025-03-23 22:52:56              1.0   \n39387839         2 2008-12-31 23:58:01   2009-01-01 13:22:34              1.0   \n40559768         2 2009-01-01 00:06:17   2009-01-01 00:30:36              1.0   \n40567925         2 2008-12-31 23:03:59   2009-01-01 16:16:12              1.0   \n47409300         2 2025-03-01 00:06:32   2025-03-01 00:30:14              1.0   \n\n          trip_distance  RatecodeID store_and_fwd_flag  location_id  \\\n256                2.38         1.0                  N          236   \n369                0.47         1.0                  N           90   \n753                0.40         1.0                  N          246   \n2210               0.53         1.0                  N          144   \n2615               0.97         1.0                  N          163   \n2985               3.14         1.0                  N          234   \n3176               1.44         1.0                  N           68   \n4137               8.39         1.0                  N          138   \n4142               0.59         1.0                  N          161   \n8628               7.70         1.0                  N          229   \n10915              0.46         1.0                  N          137   \n53119              0.63         1.0                  N          170   \n53120              0.63         1.0                  N          170   \n1230169           10.99         1.0                  N          237   \n2558056           10.88         1.0                  N          138   \n3145907            1.62         1.0                  N          141   \n3863477            0.57         1.0                  N           79   \n7642901            1.40         1.0                  N           50   \n7783242            5.34         1.0                  N          132   \n9850987            7.55         1.0                  N          170   \n10069496           2.12         1.0                  N          234   \n10165949           0.55         1.0                  N          246   \n11379411          16.87         2.0                  N          132   \n14151372           7.77         1.0                  N          138   \n14476602          19.97         2.0                  N          132   \n14734357           1.24         1.0                  N          161   \n14759169          19.06         2.0                  N          132   \n15577993          11.08         1.0                  N          162   \n15949301          12.21         1.0                  N          138   \n16256422           9.65         1.0                  N          132   \n17720171          18.93         2.0                  N          230   \n18457272           5.19         1.0                  N          193   \n18896588           2.98         1.0                  N          138   \n19470657           8.50         1.0                  N          138   \n19517646          10.96         1.0                  N          138   \n19517647           0.56         1.0                  N          233   \n22005603          10.43         1.0                  N          138   \n22909781           1.32         1.0                  N          237   \n22988079           1.52         1.0                  N          163   \n23495244           2.50         1.0                  N           90   \n23964524           1.92         1.0                  N          229   \n26706001          17.86         2.0                  N          132   \n28156354           2.05         1.0                  N           68   \n29319524           0.71         1.0                  N          163   \n33027570          28.80         2.0                  N          132   \n34432590           2.99         1.0                  N          100   \n35226997          20.74         3.0                  N          230   \n36894900           0.67         1.0                  N          237   \n38328615           2.71         1.0                  N          234   \n38336076           2.19         1.0                  N           48   \n39387839          17.77         2.0                  N          132   \n40559768          11.17         1.0                  N          138   \n40567925           2.40         1.0                  N           43   \n47409300           3.24         1.0                  N          224   \n\n          DOLocationID  payment_type  fare_amount  extra  mta_tax  tip_amount  \\\n256                142             1         15.6   1.00      0.5        1.00   \n369                 68             1          5.1   1.00      0.5        0.00   \n753                246             2          7.2   1.00      0.5        0.00   \n2210               211             1          5.8   1.00      0.5        2.16   \n2615               237             1          6.5   1.00      0.5        2.00   \n2985               237             1         17.0   1.00      0.5        6.60   \n3176               137             1         10.7   1.00      0.5        3.14   \n4137               217             2         33.1   6.00      0.5        0.00   \n4142               170             1         10.0   1.00      0.5        3.75   \n8628               244             1         33.1   1.00      0.5        7.62   \n10915              264             2          4.4   3.50      0.5        0.00   \n53119              170             3         -6.5   0.00     -0.5        0.00   \n53120              170             3          6.5   0.00      0.5        0.00   \n1230169            264             2         45.0   3.50      0.5        0.00   \n2558056            264             2         50.6   9.25      0.5        0.00   \n3145907            211             1         11.4   2.50      0.5        2.00   \n3863477            148             1          9.3   1.00      0.5        2.86   \n7642901            162             1         10.0   1.00      0.5        3.00   \n7783242            124             2         21.9   0.00      0.5        0.00   \n9850987            231             1         33.1   1.00      0.5        7.62   \n10069496           148             2         17.7   1.00      0.5        0.00   \n10165949            68             2          7.2   0.00      0.5        0.00   \n11379411           161             1         70.0   0.00      0.5       13.00   \n14151372           263             1         37.3   2.50      0.5        5.00   \n14476602           238             2         70.0   5.00      0.5        0.00   \n14734357           163             1         11.4   1.00      0.5        3.28   \n14759169           211             1         70.0   0.00      0.5        7.25   \n15577993           138             1         45.7   2.50      0.5       11.83   \n15949301           177             1         48.5   6.00      0.5       11.55   \n16256422            61             2         43.6   1.00      0.5        0.00   \n17720171           132             1         70.0   0.00      0.5       16.19   \n18457272           264             2         49.9   2.50      0.5        0.00   \n18896588           129             2         16.3   6.00      0.5        0.00   \n19470657           137             1         40.8   5.00      0.5       11.70   \n19517646           233             1         42.2   6.00      0.5       12.18   \n19517647           264             1          5.8   1.00      0.5        2.70   \n22005603           114             2         44.3   6.00      0.5        0.00   \n22909781           161             2         11.4   2.50      0.5        0.00   \n22988079           164             1         16.3   2.50      0.5        6.84   \n23495244            79             1         17.7   1.00      0.5        4.00   \n23964524           262             1         10.7   1.00      0.5        3.14   \n26706001           100             1         70.0   5.00      0.5       17.54   \n28156354           230             1         22.6   0.00      0.5        6.65   \n29319524           237             2          7.2   1.00      0.5        0.00   \n33027570            13             2         70.0   0.00      0.5        0.00   \n34432590           231             2         17.7   0.00      0.5        0.00   \n35226997             1             2         99.3   0.00      0.0        0.00   \n36894900           140             2          7.9   0.00      0.5        0.00   \n38328615           163             2         28.2   1.00      0.5        0.00   \n38336076           239             1         11.4   1.00      0.5        3.28   \n39387839           162             1         70.0   0.00      0.5       16.54   \n40559768           182             2         45.7   5.00      0.5        0.00   \n40567925           170             1         19.8   0.00      0.5        5.95   \n47409300            48             1         22.6   1.00      0.5        5.67   \n\n          tolls_amount  improvement_surcharge  total_amount  \\\n256               0.00                    1.0         21.60   \n369               0.00                    1.0         10.10   \n753               0.00                    1.0         12.20   \n2210              0.00                    1.0         12.96   \n2615              0.00                    1.0         13.50   \n2985              0.00                    1.0         28.60   \n3176              0.00                    1.0         18.84   \n4137              0.00                    1.0         42.35   \n4142              0.00                    1.0         18.75   \n8628              0.00                    1.0         45.72   \n10915             0.00                    1.0          9.40   \n53119             0.00                   -1.0        -10.50   \n53120             0.00                    1.0         10.50   \n1230169           0.00                    1.0         50.00   \n2558056           6.94                    1.0         68.29   \n3145907           0.00                    1.0         19.90   \n3863477           0.00                    1.0         17.16   \n7642901           0.00                    1.0         18.00   \n7783242           0.00                    1.0         25.15   \n9850987           0.00                    1.0         45.72   \n10069496          0.00                    1.0         22.70   \n10165949          0.00                    1.0         11.20   \n11379411          6.94                    1.0         95.69   \n14151372         13.88                    1.0         62.68   \n14476602          6.94                    1.0         87.69   \n14734357          0.00                    1.0         19.68   \n14759169          0.00                    1.0         83.00   \n15577993          6.94                    1.0         70.97   \n15949301          0.00                    1.0         69.30   \n16256422          0.00                    1.0         47.85   \n17720171          6.94                    1.0         97.13   \n18457272          0.00                    1.0         53.90   \n18896588          0.00                    1.0         25.55   \n19470657          6.94                    1.0         70.19   \n19517646          6.94                    1.0         73.07   \n19517647          0.00                    1.0         13.50   \n22005603          0.00                    1.0         56.05   \n22909781          0.00                    1.0         17.90   \n22988079          0.00                    1.0         29.64   \n23495244          0.00                    1.0         26.70   \n23964524          0.00                    1.0         18.84   \n26706001          6.94                    1.0        105.23   \n28156354          0.00                    1.0         33.25   \n29319524          0.00                    1.0         12.20   \n33027570          6.94                    1.0         82.69   \n34432590          0.00                    1.0         21.70   \n35226997         21.00                    1.0        121.30   \n36894900          0.00                    1.0         11.90   \n38328615          0.00                    1.0         33.20   \n38336076          0.00                    1.0         19.68   \n39387839          6.94                    1.0         99.23   \n40559768          6.94                    1.0         60.89   \n40567925          0.00                    1.0         29.75   \n47409300          0.00                    1.0         34.02   \n\n          congestion_surcharge  Airport_fee  cbd_congestion_fee  \n256                        2.5         0.00                 NaN  \n369                        2.5         0.00                 NaN  \n753                        2.5         0.00                 NaN  \n2210                       2.5         0.00                 NaN  \n2615                       2.5         0.00                 NaN  \n2985                       2.5         0.00                 NaN  \n3176                       2.5         0.00                 NaN  \n4137                       0.0         1.75                 NaN  \n4142                       2.5         0.00                 NaN  \n8628                       2.5         0.00                 NaN  \n10915                      0.0         0.00                 NaN  \n53119                     -2.5         0.00                 NaN  \n53120                      2.5         0.00                 NaN  \n1230169                    0.0         0.00                 NaN  \n2558056                    0.0         0.00                 NaN  \n3145907                    2.5         0.00                 NaN  \n3863477                    2.5         0.00                 NaN  \n7642901                    2.5         0.00                 NaN  \n7783242                    0.0         1.75                 NaN  \n9850987                    2.5         0.00                 NaN  \n10069496                   2.5         0.00                 NaN  \n10165949                   2.5         0.00                 NaN  \n11379411                   2.5         1.75                 NaN  \n14151372                   2.5         0.00                 NaN  \n14476602                   2.5         1.75                 NaN  \n14734357                   2.5         0.00                 NaN  \n14759169                   2.5         1.75                 NaN  \n15577993                   2.5         0.00                 NaN  \n15949301                   0.0         1.75                 NaN  \n16256422                   0.0         1.75                 NaN  \n17720171                   2.5         0.00                 NaN  \n18457272                   0.0         0.00                 NaN  \n18896588                   0.0         1.75                 NaN  \n19470657                   2.5         1.75                 NaN  \n19517646                   2.5         1.75                 NaN  \n19517647                   2.5         0.00                 NaN  \n22005603                   2.5         1.75                 NaN  \n22909781                   2.5         0.00                 NaN  \n22988079                   2.5         0.00                 NaN  \n23495244                   2.5         0.00                 NaN  \n23964524                   2.5         0.00                 NaN  \n26706001                   2.5         1.75                 NaN  \n28156354                   2.5         0.00                 NaN  \n29319524                   2.5         0.00                 NaN  \n33027570                   2.5         1.75                 NaN  \n34432590                   2.5         0.00                 NaN  \n35226997                   0.0         0.00                 NaN  \n36894900                   2.5         0.00                 NaN  \n38328615                   2.5         0.00                 NaN  \n38336076                   2.5         0.00                 NaN  \n39387839                   2.5         1.75                 NaN  \n40559768                   0.0         1.75                 NaN  \n40567925                   2.5         0.00                 NaN  \n47409300                   2.5         0.00                0.75  "
     },
     "metadata": {},
     "output_type": "display_data"
    },
    {
     "data": {
      "text/html": "<div>\n<style scoped>\n    .dataframe tbody tr th:only-of-type {\n        vertical-align: middle;\n    }\n\n    .dataframe tbody tr th {\n        vertical-align: top;\n    }\n\n    .dataframe thead th {\n        text-align: right;\n    }\n</style>\n<table border=\"1\" class=\"dataframe\">\n  <thead>\n    <tr style=\"text-align: right;\">\n      <th></th>\n      <th>VendorID</th>\n      <th>pickup_datetime</th>\n      <th>lpep_dropoff_datetime</th>\n      <th>store_and_fwd_flag</th>\n      <th>RatecodeID</th>\n      <th>location_id</th>\n      <th>DOLocationID</th>\n      <th>passenger_count</th>\n      <th>trip_distance</th>\n      <th>fare_amount</th>\n      <th>...</th>\n      <th>mta_tax</th>\n      <th>tip_amount</th>\n      <th>tolls_amount</th>\n      <th>ehail_fee</th>\n      <th>improvement_surcharge</th>\n      <th>total_amount</th>\n      <th>payment_type</th>\n      <th>trip_type</th>\n      <th>congestion_surcharge</th>\n      <th>cbd_congestion_fee</th>\n    </tr>\n  </thead>\n  <tbody>\n    <tr>\n      <th>90729</th>\n      <td>2</td>\n      <td>2025-03-01 00:05:02</td>\n      <td>2025-03-01 00:11:23</td>\n      <td>N</td>\n      <td>1.0</td>\n      <td>95</td>\n      <td>95</td>\n      <td>1.0</td>\n      <td>1.04</td>\n      <td>8.6</td>\n      <td>...</td>\n      <td>0.5</td>\n      <td>2.22</td>\n      <td>0.0</td>\n      <td>NaN</td>\n      <td>1.0</td>\n      <td>13.32</td>\n      <td>1.0</td>\n      <td>1.0</td>\n      <td>0.00</td>\n      <td>0.00</td>\n    </tr>\n    <tr>\n      <th>90730</th>\n      <td>2</td>\n      <td>2025-03-01 01:00:17</td>\n      <td>2025-03-01 01:08:33</td>\n      <td>N</td>\n      <td>1.0</td>\n      <td>95</td>\n      <td>95</td>\n      <td>1.0</td>\n      <td>1.34</td>\n      <td>10.7</td>\n      <td>...</td>\n      <td>0.5</td>\n      <td>1.80</td>\n      <td>0.0</td>\n      <td>NaN</td>\n      <td>1.0</td>\n      <td>15.00</td>\n      <td>1.0</td>\n      <td>1.0</td>\n      <td>0.00</td>\n      <td>0.00</td>\n    </tr>\n    <tr>\n      <th>90762</th>\n      <td>2</td>\n      <td>2025-03-01 02:04:22</td>\n      <td>2025-03-01 02:11:33</td>\n      <td>N</td>\n      <td>1.0</td>\n      <td>95</td>\n      <td>95</td>\n      <td>1.0</td>\n      <td>1.18</td>\n      <td>9.3</td>\n      <td>...</td>\n      <td>0.5</td>\n      <td>3.54</td>\n      <td>0.0</td>\n      <td>NaN</td>\n      <td>1.0</td>\n      <td>15.34</td>\n      <td>1.0</td>\n      <td>1.0</td>\n      <td>0.00</td>\n      <td>0.00</td>\n    </tr>\n    <tr>\n      <th>90774</th>\n      <td>2</td>\n      <td>2025-03-01 02:19:29</td>\n      <td>2025-03-01 02:25:03</td>\n      <td>N</td>\n      <td>1.0</td>\n      <td>42</td>\n      <td>159</td>\n      <td>1.0</td>\n      <td>1.63</td>\n      <td>9.3</td>\n      <td>...</td>\n      <td>0.5</td>\n      <td>0.00</td>\n      <td>0.0</td>\n      <td>NaN</td>\n      <td>1.0</td>\n      <td>11.80</td>\n      <td>1.0</td>\n      <td>1.0</td>\n      <td>0.00</td>\n      <td>0.00</td>\n    </tr>\n    <tr>\n      <th>90785</th>\n      <td>2</td>\n      <td>2025-03-01 04:11:13</td>\n      <td>2025-03-01 04:11:20</td>\n      <td>N</td>\n      <td>5.0</td>\n      <td>74</td>\n      <td>74</td>\n      <td>1.0</td>\n      <td>0.00</td>\n      <td>25.0</td>\n      <td>...</td>\n      <td>0.0</td>\n      <td>0.00</td>\n      <td>0.0</td>\n      <td>NaN</td>\n      <td>1.0</td>\n      <td>26.00</td>\n      <td>1.0</td>\n      <td>2.0</td>\n      <td>0.00</td>\n      <td>0.00</td>\n    </tr>\n    <tr>\n      <th>91073</th>\n      <td>2</td>\n      <td>2025-03-01 10:28:17</td>\n      <td>2025-03-01 10:43:42</td>\n      <td>N</td>\n      <td>1.0</td>\n      <td>95</td>\n      <td>56</td>\n      <td>1.0</td>\n      <td>2.02</td>\n      <td>15.6</td>\n      <td>...</td>\n      <td>0.5</td>\n      <td>1.75</td>\n      <td>0.0</td>\n      <td>NaN</td>\n      <td>1.0</td>\n      <td>18.85</td>\n      <td>1.0</td>\n      <td>1.0</td>\n      <td>0.00</td>\n      <td>0.00</td>\n    </tr>\n    <tr>\n      <th>91148</th>\n      <td>2</td>\n      <td>2025-03-01 11:33:01</td>\n      <td>2025-03-01 11:40:56</td>\n      <td>N</td>\n      <td>1.0</td>\n      <td>95</td>\n      <td>95</td>\n      <td>1.0</td>\n      <td>0.91</td>\n      <td>8.6</td>\n      <td>...</td>\n      <td>0.5</td>\n      <td>0.00</td>\n      <td>0.0</td>\n      <td>NaN</td>\n      <td>1.0</td>\n      <td>10.10</td>\n      <td>2.0</td>\n      <td>1.0</td>\n      <td>0.00</td>\n      <td>0.00</td>\n    </tr>\n    <tr>\n      <th>92229</th>\n      <td>2</td>\n      <td>2025-03-01 20:30:40</td>\n      <td>2025-03-01 20:38:49</td>\n      <td>N</td>\n      <td>1.0</td>\n      <td>74</td>\n      <td>263</td>\n      <td>1.0</td>\n      <td>2.02</td>\n      <td>11.4</td>\n      <td>...</td>\n      <td>0.5</td>\n      <td>1.00</td>\n      <td>0.0</td>\n      <td>NaN</td>\n      <td>1.0</td>\n      <td>14.90</td>\n      <td>1.0</td>\n      <td>1.0</td>\n      <td>0.00</td>\n      <td>0.00</td>\n    </tr>\n    <tr>\n      <th>92303</th>\n      <td>2</td>\n      <td>2025-03-01 21:34:44</td>\n      <td>2025-03-01 21:47:53</td>\n      <td>N</td>\n      <td>1.0</td>\n      <td>74</td>\n      <td>238</td>\n      <td>1.0</td>\n      <td>2.69</td>\n      <td>15.6</td>\n      <td>...</td>\n      <td>0.5</td>\n      <td>0.00</td>\n      <td>0.0</td>\n      <td>NaN</td>\n      <td>1.0</td>\n      <td>18.10</td>\n      <td>1.0</td>\n      <td>1.0</td>\n      <td>0.00</td>\n      <td>0.00</td>\n    </tr>\n    <tr>\n      <th>92353</th>\n      <td>2</td>\n      <td>2025-03-01 22:04:44</td>\n      <td>2025-03-01 22:14:26</td>\n      <td>N</td>\n      <td>1.0</td>\n      <td>74</td>\n      <td>41</td>\n      <td>1.0</td>\n      <td>1.45</td>\n      <td>11.4</td>\n      <td>...</td>\n      <td>0.5</td>\n      <td>2.78</td>\n      <td>0.0</td>\n      <td>NaN</td>\n      <td>1.0</td>\n      <td>16.68</td>\n      <td>1.0</td>\n      <td>1.0</td>\n      <td>0.00</td>\n      <td>0.00</td>\n    </tr>\n    <tr>\n      <th>92354</th>\n      <td>2</td>\n      <td>2025-03-01 22:32:10</td>\n      <td>2025-03-01 22:37:11</td>\n      <td>N</td>\n      <td>1.0</td>\n      <td>74</td>\n      <td>41</td>\n      <td>1.0</td>\n      <td>1.16</td>\n      <td>7.9</td>\n      <td>...</td>\n      <td>0.5</td>\n      <td>2.08</td>\n      <td>0.0</td>\n      <td>NaN</td>\n      <td>1.0</td>\n      <td>12.48</td>\n      <td>1.0</td>\n      <td>1.0</td>\n      <td>0.00</td>\n      <td>0.00</td>\n    </tr>\n    <tr>\n      <th>92355</th>\n      <td>2</td>\n      <td>2025-03-01 22:56:58</td>\n      <td>2025-03-01 22:59:37</td>\n      <td>N</td>\n      <td>1.0</td>\n      <td>74</td>\n      <td>75</td>\n      <td>1.0</td>\n      <td>0.97</td>\n      <td>5.8</td>\n      <td>...</td>\n      <td>0.5</td>\n      <td>0.00</td>\n      <td>0.0</td>\n      <td>NaN</td>\n      <td>1.0</td>\n      <td>8.30</td>\n      <td>1.0</td>\n      <td>1.0</td>\n      <td>0.00</td>\n      <td>0.00</td>\n    </tr>\n    <tr>\n      <th>92418</th>\n      <td>2</td>\n      <td>2025-03-01 23:29:24</td>\n      <td>2025-03-01 23:36:36</td>\n      <td>N</td>\n      <td>1.0</td>\n      <td>74</td>\n      <td>152</td>\n      <td>1.0</td>\n      <td>1.62</td>\n      <td>10.0</td>\n      <td>...</td>\n      <td>0.5</td>\n      <td>2.50</td>\n      <td>0.0</td>\n      <td>NaN</td>\n      <td>1.0</td>\n      <td>15.00</td>\n      <td>1.0</td>\n      <td>1.0</td>\n      <td>0.00</td>\n      <td>0.00</td>\n    </tr>\n    <tr>\n      <th>92429</th>\n      <td>2</td>\n      <td>2025-03-01 00:02:10</td>\n      <td>2025-03-01 00:27:50</td>\n      <td>N</td>\n      <td>1.0</td>\n      <td>223</td>\n      <td>79</td>\n      <td>1.0</td>\n      <td>6.45</td>\n      <td>29.6</td>\n      <td>...</td>\n      <td>0.5</td>\n      <td>2.00</td>\n      <td>0.0</td>\n      <td>NaN</td>\n      <td>1.0</td>\n      <td>37.60</td>\n      <td>1.0</td>\n      <td>1.0</td>\n      <td>2.75</td>\n      <td>0.75</td>\n    </tr>\n  </tbody>\n</table>\n<p>14 rows × 21 columns</p>\n</div>",
      "text/plain": "       VendorID     pickup_datetime lpep_dropoff_datetime store_and_fwd_flag  \\\n90729         2 2025-03-01 00:05:02   2025-03-01 00:11:23                  N   \n90730         2 2025-03-01 01:00:17   2025-03-01 01:08:33                  N   \n90762         2 2025-03-01 02:04:22   2025-03-01 02:11:33                  N   \n90774         2 2025-03-01 02:19:29   2025-03-01 02:25:03                  N   \n90785         2 2025-03-01 04:11:13   2025-03-01 04:11:20                  N   \n91073         2 2025-03-01 10:28:17   2025-03-01 10:43:42                  N   \n91148         2 2025-03-01 11:33:01   2025-03-01 11:40:56                  N   \n92229         2 2025-03-01 20:30:40   2025-03-01 20:38:49                  N   \n92303         2 2025-03-01 21:34:44   2025-03-01 21:47:53                  N   \n92353         2 2025-03-01 22:04:44   2025-03-01 22:14:26                  N   \n92354         2 2025-03-01 22:32:10   2025-03-01 22:37:11                  N   \n92355         2 2025-03-01 22:56:58   2025-03-01 22:59:37                  N   \n92418         2 2025-03-01 23:29:24   2025-03-01 23:36:36                  N   \n92429         2 2025-03-01 00:02:10   2025-03-01 00:27:50                  N   \n\n       RatecodeID  location_id  DOLocationID  passenger_count  trip_distance  \\\n90729         1.0           95            95              1.0           1.04   \n90730         1.0           95            95              1.0           1.34   \n90762         1.0           95            95              1.0           1.18   \n90774         1.0           42           159              1.0           1.63   \n90785         5.0           74            74              1.0           0.00   \n91073         1.0           95            56              1.0           2.02   \n91148         1.0           95            95              1.0           0.91   \n92229         1.0           74           263              1.0           2.02   \n92303         1.0           74           238              1.0           2.69   \n92353         1.0           74            41              1.0           1.45   \n92354         1.0           74            41              1.0           1.16   \n92355         1.0           74            75              1.0           0.97   \n92418         1.0           74           152              1.0           1.62   \n92429         1.0          223            79              1.0           6.45   \n\n       fare_amount  ...  mta_tax  tip_amount  tolls_amount  ehail_fee  \\\n90729          8.6  ...      0.5        2.22           0.0        NaN   \n90730         10.7  ...      0.5        1.80           0.0        NaN   \n90762          9.3  ...      0.5        3.54           0.0        NaN   \n90774          9.3  ...      0.5        0.00           0.0        NaN   \n90785         25.0  ...      0.0        0.00           0.0        NaN   \n91073         15.6  ...      0.5        1.75           0.0        NaN   \n91148          8.6  ...      0.5        0.00           0.0        NaN   \n92229         11.4  ...      0.5        1.00           0.0        NaN   \n92303         15.6  ...      0.5        0.00           0.0        NaN   \n92353         11.4  ...      0.5        2.78           0.0        NaN   \n92354          7.9  ...      0.5        2.08           0.0        NaN   \n92355          5.8  ...      0.5        0.00           0.0        NaN   \n92418         10.0  ...      0.5        2.50           0.0        NaN   \n92429         29.6  ...      0.5        2.00           0.0        NaN   \n\n       improvement_surcharge  total_amount  payment_type  trip_type  \\\n90729                    1.0         13.32           1.0        1.0   \n90730                    1.0         15.00           1.0        1.0   \n90762                    1.0         15.34           1.0        1.0   \n90774                    1.0         11.80           1.0        1.0   \n90785                    1.0         26.00           1.0        2.0   \n91073                    1.0         18.85           1.0        1.0   \n91148                    1.0         10.10           2.0        1.0   \n92229                    1.0         14.90           1.0        1.0   \n92303                    1.0         18.10           1.0        1.0   \n92353                    1.0         16.68           1.0        1.0   \n92354                    1.0         12.48           1.0        1.0   \n92355                    1.0          8.30           1.0        1.0   \n92418                    1.0         15.00           1.0        1.0   \n92429                    1.0         37.60           1.0        1.0   \n\n       congestion_surcharge  cbd_congestion_fee  \n90729                  0.00                0.00  \n90730                  0.00                0.00  \n90762                  0.00                0.00  \n90774                  0.00                0.00  \n90785                  0.00                0.00  \n91073                  0.00                0.00  \n91148                  0.00                0.00  \n92229                  0.00                0.00  \n92303                  0.00                0.00  \n92353                  0.00                0.00  \n92354                  0.00                0.00  \n92355                  0.00                0.00  \n92418                  0.00                0.00  \n92429                  2.75                0.75  \n\n[14 rows x 21 columns]"
     },
     "metadata": {},
     "output_type": "display_data"
    },
    {
     "data": {
      "text/html": "<div>\n<style scoped>\n    .dataframe tbody tr th:only-of-type {\n        vertical-align: middle;\n    }\n\n    .dataframe tbody tr th {\n        vertical-align: top;\n    }\n\n    .dataframe thead th {\n        text-align: right;\n    }\n</style>\n<table border=\"1\" class=\"dataframe\">\n  <thead>\n    <tr style=\"text-align: right;\">\n      <th></th>\n      <th>hvfhs_license_num</th>\n      <th>dispatching_base_num</th>\n      <th>originating_base_num</th>\n      <th>request_datetime</th>\n      <th>on_scene_datetime</th>\n      <th>pickup_datetime</th>\n      <th>dropoff_datetime</th>\n      <th>location_id</th>\n      <th>DOLocationID</th>\n      <th>trip_miles</th>\n      <th>...</th>\n      <th>congestion_surcharge</th>\n      <th>airport_fee</th>\n      <th>tips</th>\n      <th>driver_pay</th>\n      <th>shared_request_flag</th>\n      <th>shared_match_flag</th>\n      <th>access_a_ride_flag</th>\n      <th>wav_request_flag</th>\n      <th>wav_match_flag</th>\n      <th>cbd_congestion_fee</th>\n    </tr>\n  </thead>\n  <tbody>\n  </tbody>\n</table>\n<p>0 rows × 25 columns</p>\n</div>",
      "text/plain": "Empty DataFrame\nColumns: [hvfhs_license_num, dispatching_base_num, originating_base_num, request_datetime, on_scene_datetime, pickup_datetime, dropoff_datetime, location_id, DOLocationID, trip_miles, trip_time, base_passenger_fare, tolls, bcf, sales_tax, congestion_surcharge, airport_fee, tips, driver_pay, shared_request_flag, shared_match_flag, access_a_ride_flag, wav_request_flag, wav_match_flag, cbd_congestion_fee]\nIndex: []\n\n[0 rows x 25 columns]"
     },
     "metadata": {},
     "output_type": "display_data"
    }
   ],
   "source": [
    "display(yellow_df[(yellow_df['pickup_datetime'] < '2024-01-01') | (yellow_df['pickup_datetime'] > '2025-03-01')])\n",
    "display(green_df[(green_df['pickup_datetime'] < '2024-01-01') | (green_df['pickup_datetime'] > '2025-03-01')])\n",
    "display(hvfhv_df[(hvfhv_df['pickup_datetime'] < '2024-01-01') | (hvfhv_df['pickup_datetime'] > '2025-03-01')])"
   ]
  },
  {
   "cell_type": "markdown",
   "id": "58532689b566f959",
   "metadata": {
    "collapsed": false
   },
   "source": [
    "Отфильтруем лишние даты"
   ]
  },
  {
   "cell_type": "code",
   "execution_count": 4,
   "id": "e2d7abe8cbf292da",
   "metadata": {
    "ExecuteTime": {
     "end_time": "2025-05-16T20:20:46.594216Z",
     "start_time": "2025-05-16T20:20:34.714848Z"
    },
    "collapsed": false
   },
   "outputs": [],
   "source": [
    "yellow_df = yellow_df[(yellow_df['pickup_datetime'] >= '2024-01-01') & \n",
    "                     (yellow_df['pickup_datetime'] < '2025-03-01')]\n",
    "                     \n",
    "green_df = green_df[(green_df['pickup_datetime'] >= '2024-01-01') & \n",
    "                   (green_df['pickup_datetime'] < '2025-03-01')]\n",
    "                   \n",
    "hvfhv_df = hvfhv_df[(hvfhv_df['pickup_datetime'] >= '2024-01-01') & \n",
    "                   (hvfhv_df['pickup_datetime'] < '2025-03-01')]"
   ]
  },
  {
   "cell_type": "code",
   "execution_count": 5,
   "id": "a7396565e542cd2e",
   "metadata": {
    "ExecuteTime": {
     "end_time": "2025-05-16T20:20:46.613086Z",
     "start_time": "2025-05-16T20:20:46.598220Z"
    },
    "collapsed": false
   },
   "outputs": [],
   "source": [
    "from IPython.display import display, Markdown\n",
    "import pandas as pd\n",
    "\n",
    "def analyze_dataset(name, df):\n",
    "    display(Markdown(f'### Анализ набора данных: {name}'))\n",
    "    display(Markdown(f'**Размерность:** {df.shape[0]} строк × {df.shape[1]} столбцов'))\n",
    "    \n",
    "    display(Markdown('#### Общая информация'))\n",
    "    df.info()\n",
    "    \n",
    "    display(Markdown('#### Первые 5 строк'))\n",
    "    display(df.head())\n",
    "    \n",
    "    display(Markdown('#### Пропущенные значения'))\n",
    "    missing = pd.DataFrame({\n",
    "        'Количество пропусков': df.isna().sum(),\n",
    "        'Процент': (df.isna().mean() * 100).round(2)\n",
    "    })\n",
    "    display(missing)\n",
    "\n",
    "    if 'location_id' in df.columns:\n",
    "        ratio = df['location_id'].isna().mean()\n",
    "        display(Markdown(f'**Доля пропусков в location_id:** {ratio:.2%}'))\n",
    "        \n",
    "        display(Markdown('#### Анализ location_id'))\n",
    "        loc_stats = pd.Series(dtype='int')\n",
    "        if df['location_id'].notna().any():\n",
    "            loc_stats = df['location_id'].value_counts()\n",
    "            value = df['location_id'].nunique()\n",
    "            display(Markdown(f'- Уникальных значений: {value}'))\n",
    "            display(Markdown('**Топ-10 самых популярных локаций:**'))\n",
    "            display(loc_stats.head(10))\n",
    "    \n",
    "\n",
    "    if 'pickup_datetime' in df.columns:\n",
    "        display(Markdown('#### Топ-10 часов с наибольшим числом поездок'))\n",
    "        if pd.api.types.is_datetime64_any_dtype(df['pickup_datetime']):\n",
    "            df['_hour'] = df['pickup_datetime'].dt.hour\n",
    "            hour_counts = df['_hour'].value_counts().sort_values(ascending=False)\n",
    "            display(hour_counts.head(10))\n",
    "            df.drop(columns=['_hour'], inplace=True, errors='ignore')\n",
    "\n",
    "    display(Markdown('---'))\n"
   ]
  },
  {
   "cell_type": "code",
   "execution_count": 6,
   "id": "f94c0bb4a4de73ef",
   "metadata": {
    "ExecuteTime": {
     "end_time": "2025-05-16T20:20:53.436149Z",
     "start_time": "2025-05-16T20:20:46.614091Z"
    },
    "collapsed": false
   },
   "outputs": [
    {
     "data": {
      "text/markdown": "### Анализ набора данных: Yellow Taxi",
      "text/plain": "<IPython.core.display.Markdown object>"
     },
     "metadata": {},
     "output_type": "display_data"
    },
    {
     "data": {
      "text/markdown": "**Размерность:** 48222435 строк × 20 столбцов",
      "text/plain": "<IPython.core.display.Markdown object>"
     },
     "metadata": {},
     "output_type": "display_data"
    },
    {
     "data": {
      "text/markdown": "#### Общая информация",
      "text/plain": "<IPython.core.display.Markdown object>"
     },
     "metadata": {},
     "output_type": "display_data"
    },
    {
     "name": "stdout",
     "output_type": "stream",
     "text": [
      "<class 'pandas.core.frame.DataFrame'>\n",
      "Index: 48222435 entries, 0 to 48222488\n",
      "Data columns (total 20 columns):\n",
      " #   Column                 Dtype         \n",
      "---  ------                 -----         \n",
      " 0   VendorID               int32         \n",
      " 1   pickup_datetime        datetime64[us]\n",
      " 2   tpep_dropoff_datetime  datetime64[us]\n",
      " 3   passenger_count        float64       \n",
      " 4   trip_distance          float64       \n",
      " 5   RatecodeID             float64       \n",
      " 6   store_and_fwd_flag     object        \n",
      " 7   location_id            int32         \n",
      " 8   DOLocationID           int32         \n",
      " 9   payment_type           int64         \n",
      " 10  fare_amount            float64       \n",
      " 11  extra                  float64       \n",
      " 12  mta_tax                float64       \n",
      " 13  tip_amount             float64       \n",
      " 14  tolls_amount           float64       \n",
      " 15  improvement_surcharge  float64       \n",
      " 16  total_amount           float64       \n",
      " 17  congestion_surcharge   float64       \n",
      " 18  Airport_fee            float64       \n",
      " 19  cbd_congestion_fee     float64       \n",
      "dtypes: datetime64[us](2), float64(13), int32(3), int64(1), object(1)\n",
      "memory usage: 7.0+ GB\n"
     ]
    },
    {
     "data": {
      "text/markdown": "#### Первые 5 строк",
      "text/plain": "<IPython.core.display.Markdown object>"
     },
     "metadata": {},
     "output_type": "display_data"
    },
    {
     "data": {
      "text/html": "<div>\n<style scoped>\n    .dataframe tbody tr th:only-of-type {\n        vertical-align: middle;\n    }\n\n    .dataframe tbody tr th {\n        vertical-align: top;\n    }\n\n    .dataframe thead th {\n        text-align: right;\n    }\n</style>\n<table border=\"1\" class=\"dataframe\">\n  <thead>\n    <tr style=\"text-align: right;\">\n      <th></th>\n      <th>VendorID</th>\n      <th>pickup_datetime</th>\n      <th>tpep_dropoff_datetime</th>\n      <th>passenger_count</th>\n      <th>trip_distance</th>\n      <th>RatecodeID</th>\n      <th>store_and_fwd_flag</th>\n      <th>location_id</th>\n      <th>DOLocationID</th>\n      <th>payment_type</th>\n      <th>fare_amount</th>\n      <th>extra</th>\n      <th>mta_tax</th>\n      <th>tip_amount</th>\n      <th>tolls_amount</th>\n      <th>improvement_surcharge</th>\n      <th>total_amount</th>\n      <th>congestion_surcharge</th>\n      <th>Airport_fee</th>\n      <th>cbd_congestion_fee</th>\n    </tr>\n  </thead>\n  <tbody>\n    <tr>\n      <th>0</th>\n      <td>2</td>\n      <td>2024-01-01 00:57:55</td>\n      <td>2024-01-01 01:17:43</td>\n      <td>1.0</td>\n      <td>1.72</td>\n      <td>1.0</td>\n      <td>N</td>\n      <td>186</td>\n      <td>79</td>\n      <td>2</td>\n      <td>17.7</td>\n      <td>1.0</td>\n      <td>0.5</td>\n      <td>0.00</td>\n      <td>0.0</td>\n      <td>1.0</td>\n      <td>22.70</td>\n      <td>2.5</td>\n      <td>0.0</td>\n      <td>NaN</td>\n    </tr>\n    <tr>\n      <th>1</th>\n      <td>1</td>\n      <td>2024-01-01 00:03:00</td>\n      <td>2024-01-01 00:09:36</td>\n      <td>1.0</td>\n      <td>1.80</td>\n      <td>1.0</td>\n      <td>N</td>\n      <td>140</td>\n      <td>236</td>\n      <td>1</td>\n      <td>10.0</td>\n      <td>3.5</td>\n      <td>0.5</td>\n      <td>3.75</td>\n      <td>0.0</td>\n      <td>1.0</td>\n      <td>18.75</td>\n      <td>2.5</td>\n      <td>0.0</td>\n      <td>NaN</td>\n    </tr>\n    <tr>\n      <th>2</th>\n      <td>1</td>\n      <td>2024-01-01 00:17:06</td>\n      <td>2024-01-01 00:35:01</td>\n      <td>1.0</td>\n      <td>4.70</td>\n      <td>1.0</td>\n      <td>N</td>\n      <td>236</td>\n      <td>79</td>\n      <td>1</td>\n      <td>23.3</td>\n      <td>3.5</td>\n      <td>0.5</td>\n      <td>3.00</td>\n      <td>0.0</td>\n      <td>1.0</td>\n      <td>31.30</td>\n      <td>2.5</td>\n      <td>0.0</td>\n      <td>NaN</td>\n    </tr>\n    <tr>\n      <th>3</th>\n      <td>1</td>\n      <td>2024-01-01 00:36:38</td>\n      <td>2024-01-01 00:44:56</td>\n      <td>1.0</td>\n      <td>1.40</td>\n      <td>1.0</td>\n      <td>N</td>\n      <td>79</td>\n      <td>211</td>\n      <td>1</td>\n      <td>10.0</td>\n      <td>3.5</td>\n      <td>0.5</td>\n      <td>2.00</td>\n      <td>0.0</td>\n      <td>1.0</td>\n      <td>17.00</td>\n      <td>2.5</td>\n      <td>0.0</td>\n      <td>NaN</td>\n    </tr>\n    <tr>\n      <th>4</th>\n      <td>1</td>\n      <td>2024-01-01 00:46:51</td>\n      <td>2024-01-01 00:52:57</td>\n      <td>1.0</td>\n      <td>0.80</td>\n      <td>1.0</td>\n      <td>N</td>\n      <td>211</td>\n      <td>148</td>\n      <td>1</td>\n      <td>7.9</td>\n      <td>3.5</td>\n      <td>0.5</td>\n      <td>3.20</td>\n      <td>0.0</td>\n      <td>1.0</td>\n      <td>16.10</td>\n      <td>2.5</td>\n      <td>0.0</td>\n      <td>NaN</td>\n    </tr>\n  </tbody>\n</table>\n</div>",
      "text/plain": "   VendorID     pickup_datetime tpep_dropoff_datetime  passenger_count  \\\n0         2 2024-01-01 00:57:55   2024-01-01 01:17:43              1.0   \n1         1 2024-01-01 00:03:00   2024-01-01 00:09:36              1.0   \n2         1 2024-01-01 00:17:06   2024-01-01 00:35:01              1.0   \n3         1 2024-01-01 00:36:38   2024-01-01 00:44:56              1.0   \n4         1 2024-01-01 00:46:51   2024-01-01 00:52:57              1.0   \n\n   trip_distance  RatecodeID store_and_fwd_flag  location_id  DOLocationID  \\\n0           1.72         1.0                  N          186            79   \n1           1.80         1.0                  N          140           236   \n2           4.70         1.0                  N          236            79   \n3           1.40         1.0                  N           79           211   \n4           0.80         1.0                  N          211           148   \n\n   payment_type  fare_amount  extra  mta_tax  tip_amount  tolls_amount  \\\n0             2         17.7    1.0      0.5        0.00           0.0   \n1             1         10.0    3.5      0.5        3.75           0.0   \n2             1         23.3    3.5      0.5        3.00           0.0   \n3             1         10.0    3.5      0.5        2.00           0.0   \n4             1          7.9    3.5      0.5        3.20           0.0   \n\n   improvement_surcharge  total_amount  congestion_surcharge  Airport_fee  \\\n0                    1.0         22.70                   2.5          0.0   \n1                    1.0         18.75                   2.5          0.0   \n2                    1.0         31.30                   2.5          0.0   \n3                    1.0         17.00                   2.5          0.0   \n4                    1.0         16.10                   2.5          0.0   \n\n   cbd_congestion_fee  \n0                 NaN  \n1                 NaN  \n2                 NaN  \n3                 NaN  \n4                 NaN  "
     },
     "metadata": {},
     "output_type": "display_data"
    },
    {
     "data": {
      "text/markdown": "#### Пропущенные значения",
      "text/plain": "<IPython.core.display.Markdown object>"
     },
     "metadata": {},
     "output_type": "display_data"
    },
    {
     "data": {
      "text/html": "<div>\n<style scoped>\n    .dataframe tbody tr th:only-of-type {\n        vertical-align: middle;\n    }\n\n    .dataframe tbody tr th {\n        vertical-align: top;\n    }\n\n    .dataframe thead th {\n        text-align: right;\n    }\n</style>\n<table border=\"1\" class=\"dataframe\">\n  <thead>\n    <tr style=\"text-align: right;\">\n      <th></th>\n      <th>Количество пропусков</th>\n      <th>Процент</th>\n    </tr>\n  </thead>\n  <tbody>\n    <tr>\n      <th>VendorID</th>\n      <td>0</td>\n      <td>0.00</td>\n    </tr>\n    <tr>\n      <th>pickup_datetime</th>\n      <td>0</td>\n      <td>0.00</td>\n    </tr>\n    <tr>\n      <th>tpep_dropoff_datetime</th>\n      <td>0</td>\n      <td>0.00</td>\n    </tr>\n    <tr>\n      <th>passenger_count</th>\n      <td>5438318</td>\n      <td>11.28</td>\n    </tr>\n    <tr>\n      <th>trip_distance</th>\n      <td>0</td>\n      <td>0.00</td>\n    </tr>\n    <tr>\n      <th>RatecodeID</th>\n      <td>5438318</td>\n      <td>11.28</td>\n    </tr>\n    <tr>\n      <th>store_and_fwd_flag</th>\n      <td>5438318</td>\n      <td>11.28</td>\n    </tr>\n    <tr>\n      <th>location_id</th>\n      <td>0</td>\n      <td>0.00</td>\n    </tr>\n    <tr>\n      <th>DOLocationID</th>\n      <td>0</td>\n      <td>0.00</td>\n    </tr>\n    <tr>\n      <th>payment_type</th>\n      <td>0</td>\n      <td>0.00</td>\n    </tr>\n    <tr>\n      <th>fare_amount</th>\n      <td>0</td>\n      <td>0.00</td>\n    </tr>\n    <tr>\n      <th>extra</th>\n      <td>0</td>\n      <td>0.00</td>\n    </tr>\n    <tr>\n      <th>mta_tax</th>\n      <td>0</td>\n      <td>0.00</td>\n    </tr>\n    <tr>\n      <th>tip_amount</th>\n      <td>0</td>\n      <td>0.00</td>\n    </tr>\n    <tr>\n      <th>tolls_amount</th>\n      <td>0</td>\n      <td>0.00</td>\n    </tr>\n    <tr>\n      <th>improvement_surcharge</th>\n      <td>0</td>\n      <td>0.00</td>\n    </tr>\n    <tr>\n      <th>total_amount</th>\n      <td>0</td>\n      <td>0.00</td>\n    </tr>\n    <tr>\n      <th>congestion_surcharge</th>\n      <td>5438318</td>\n      <td>11.28</td>\n    </tr>\n    <tr>\n      <th>Airport_fee</th>\n      <td>5438318</td>\n      <td>11.28</td>\n    </tr>\n    <tr>\n      <th>cbd_congestion_fee</th>\n      <td>41169667</td>\n      <td>85.37</td>\n    </tr>\n  </tbody>\n</table>\n</div>",
      "text/plain": "                       Количество пропусков  Процент\nVendorID                                  0     0.00\npickup_datetime                           0     0.00\ntpep_dropoff_datetime                     0     0.00\npassenger_count                     5438318    11.28\ntrip_distance                             0     0.00\nRatecodeID                          5438318    11.28\nstore_and_fwd_flag                  5438318    11.28\nlocation_id                               0     0.00\nDOLocationID                              0     0.00\npayment_type                              0     0.00\nfare_amount                               0     0.00\nextra                                     0     0.00\nmta_tax                                   0     0.00\ntip_amount                                0     0.00\ntolls_amount                              0     0.00\nimprovement_surcharge                     0     0.00\ntotal_amount                              0     0.00\ncongestion_surcharge                5438318    11.28\nAirport_fee                         5438318    11.28\ncbd_congestion_fee                 41169667    85.37"
     },
     "metadata": {},
     "output_type": "display_data"
    },
    {
     "data": {
      "text/markdown": "**Доля пропусков в location_id:** 0.00%",
      "text/plain": "<IPython.core.display.Markdown object>"
     },
     "metadata": {},
     "output_type": "display_data"
    },
    {
     "data": {
      "text/markdown": "#### Анализ location_id",
      "text/plain": "<IPython.core.display.Markdown object>"
     },
     "metadata": {},
     "output_type": "display_data"
    },
    {
     "data": {
      "text/markdown": "- Уникальных значений: 263",
      "text/plain": "<IPython.core.display.Markdown object>"
     },
     "metadata": {},
     "output_type": "display_data"
    },
    {
     "data": {
      "text/markdown": "**Топ-10 самых популярных локаций:**",
      "text/plain": "<IPython.core.display.Markdown object>"
     },
     "metadata": {},
     "output_type": "display_data"
    },
    {
     "data": {
      "text/plain": "location_id\n132    2261586\n161    2245993\n237    2236434\n236    2033635\n162    1650497\n230    1631514\n186    1594676\n142    1529634\n138    1469974\n170    1369487\nName: count, dtype: int64"
     },
     "metadata": {},
     "output_type": "display_data"
    },
    {
     "data": {
      "text/markdown": "#### Топ-10 часов с наибольшим числом поездок",
      "text/plain": "<IPython.core.display.Markdown object>"
     },
     "metadata": {},
     "output_type": "display_data"
    },
    {
     "data": {
      "text/plain": "_hour\n18    3498089\n17    3315094\n19    3056528\n16    2991723\n15    2932319\n21    2832343\n14    2828785\n20    2768931\n13    2634541\n22    2617815\nName: count, dtype: int64"
     },
     "metadata": {},
     "output_type": "display_data"
    },
    {
     "data": {
      "text/markdown": "---",
      "text/plain": "<IPython.core.display.Markdown object>"
     },
     "metadata": {},
     "output_type": "display_data"
    }
   ],
   "source": [
    "analyze_dataset('Yellow Taxi', yellow_df)"
   ]
  },
  {
   "cell_type": "code",
   "execution_count": 7,
   "id": "c7857fad9982ddfd",
   "metadata": {
    "ExecuteTime": {
     "end_time": "2025-05-16T20:20:53.485068Z",
     "start_time": "2025-05-16T20:20:53.437152Z"
    },
    "collapsed": false
   },
   "outputs": [
    {
     "data": {
      "text/markdown": "### Анализ набора данных: Green Taxi",
      "text/plain": "<IPython.core.display.Markdown object>"
     },
     "metadata": {},
     "output_type": "display_data"
    },
    {
     "data": {
      "text/markdown": "**Размерность:** 94933 строк × 21 столбцов",
      "text/plain": "<IPython.core.display.Markdown object>"
     },
     "metadata": {},
     "output_type": "display_data"
    },
    {
     "data": {
      "text/markdown": "#### Общая информация",
      "text/plain": "<IPython.core.display.Markdown object>"
     },
     "metadata": {},
     "output_type": "display_data"
    },
    {
     "name": "stdout",
     "output_type": "stream",
     "text": [
      "<class 'pandas.core.frame.DataFrame'>\n",
      "Index: 94933 entries, 0 to 94946\n",
      "Data columns (total 21 columns):\n",
      " #   Column                 Non-Null Count  Dtype         \n",
      "---  ------                 --------------  -----         \n",
      " 0   VendorID               94933 non-null  int32         \n",
      " 1   pickup_datetime        94933 non-null  datetime64[us]\n",
      " 2   lpep_dropoff_datetime  94933 non-null  datetime64[us]\n",
      " 3   store_and_fwd_flag     90580 non-null  object        \n",
      " 4   RatecodeID             90580 non-null  float64       \n",
      " 5   location_id            94933 non-null  int32         \n",
      " 6   DOLocationID           94933 non-null  int32         \n",
      " 7   passenger_count        90580 non-null  float64       \n",
      " 8   trip_distance          94933 non-null  float64       \n",
      " 9   fare_amount            94933 non-null  float64       \n",
      " 10  extra                  94933 non-null  float64       \n",
      " 11  mta_tax                94933 non-null  float64       \n",
      " 12  tip_amount             94933 non-null  float64       \n",
      " 13  tolls_amount           94933 non-null  float64       \n",
      " 14  ehail_fee              0 non-null      float64       \n",
      " 15  improvement_surcharge  94933 non-null  float64       \n",
      " 16  total_amount           94933 non-null  float64       \n",
      " 17  payment_type           90580 non-null  float64       \n",
      " 18  trip_type              90563 non-null  float64       \n",
      " 19  congestion_surcharge   90580 non-null  float64       \n",
      " 20  cbd_congestion_fee     91109 non-null  float64       \n",
      "dtypes: datetime64[us](2), float64(15), int32(3), object(1)\n",
      "memory usage: 14.8+ MB\n"
     ]
    },
    {
     "data": {
      "text/markdown": "#### Первые 5 строк",
      "text/plain": "<IPython.core.display.Markdown object>"
     },
     "metadata": {},
     "output_type": "display_data"
    },
    {
     "data": {
      "text/html": "<div>\n<style scoped>\n    .dataframe tbody tr th:only-of-type {\n        vertical-align: middle;\n    }\n\n    .dataframe tbody tr th {\n        vertical-align: top;\n    }\n\n    .dataframe thead th {\n        text-align: right;\n    }\n</style>\n<table border=\"1\" class=\"dataframe\">\n  <thead>\n    <tr style=\"text-align: right;\">\n      <th></th>\n      <th>VendorID</th>\n      <th>pickup_datetime</th>\n      <th>lpep_dropoff_datetime</th>\n      <th>store_and_fwd_flag</th>\n      <th>RatecodeID</th>\n      <th>location_id</th>\n      <th>DOLocationID</th>\n      <th>passenger_count</th>\n      <th>trip_distance</th>\n      <th>fare_amount</th>\n      <th>...</th>\n      <th>mta_tax</th>\n      <th>tip_amount</th>\n      <th>tolls_amount</th>\n      <th>ehail_fee</th>\n      <th>improvement_surcharge</th>\n      <th>total_amount</th>\n      <th>payment_type</th>\n      <th>trip_type</th>\n      <th>congestion_surcharge</th>\n      <th>cbd_congestion_fee</th>\n    </tr>\n  </thead>\n  <tbody>\n    <tr>\n      <th>0</th>\n      <td>2</td>\n      <td>2025-01-01 00:03:01</td>\n      <td>2025-01-01 00:17:12</td>\n      <td>N</td>\n      <td>1.0</td>\n      <td>75</td>\n      <td>235</td>\n      <td>1.0</td>\n      <td>5.93</td>\n      <td>24.70</td>\n      <td>...</td>\n      <td>0.5</td>\n      <td>6.80</td>\n      <td>0.00</td>\n      <td>NaN</td>\n      <td>1.0</td>\n      <td>34.00</td>\n      <td>1.0</td>\n      <td>1.0</td>\n      <td>0.00</td>\n      <td>0.0</td>\n    </tr>\n    <tr>\n      <th>1</th>\n      <td>2</td>\n      <td>2025-01-01 00:19:59</td>\n      <td>2025-01-01 00:25:52</td>\n      <td>N</td>\n      <td>1.0</td>\n      <td>166</td>\n      <td>75</td>\n      <td>1.0</td>\n      <td>1.32</td>\n      <td>8.60</td>\n      <td>...</td>\n      <td>0.5</td>\n      <td>0.00</td>\n      <td>0.00</td>\n      <td>NaN</td>\n      <td>1.0</td>\n      <td>11.10</td>\n      <td>2.0</td>\n      <td>1.0</td>\n      <td>0.00</td>\n      <td>0.0</td>\n    </tr>\n    <tr>\n      <th>2</th>\n      <td>2</td>\n      <td>2025-01-01 00:05:29</td>\n      <td>2025-01-01 00:07:21</td>\n      <td>N</td>\n      <td>5.0</td>\n      <td>171</td>\n      <td>73</td>\n      <td>1.0</td>\n      <td>0.41</td>\n      <td>25.55</td>\n      <td>...</td>\n      <td>0.0</td>\n      <td>0.00</td>\n      <td>0.00</td>\n      <td>NaN</td>\n      <td>1.0</td>\n      <td>26.55</td>\n      <td>2.0</td>\n      <td>2.0</td>\n      <td>0.00</td>\n      <td>0.0</td>\n    </tr>\n    <tr>\n      <th>3</th>\n      <td>2</td>\n      <td>2025-01-01 00:52:24</td>\n      <td>2025-01-01 01:07:52</td>\n      <td>N</td>\n      <td>1.0</td>\n      <td>74</td>\n      <td>223</td>\n      <td>1.0</td>\n      <td>4.12</td>\n      <td>21.20</td>\n      <td>...</td>\n      <td>0.5</td>\n      <td>6.13</td>\n      <td>6.94</td>\n      <td>NaN</td>\n      <td>1.0</td>\n      <td>36.77</td>\n      <td>1.0</td>\n      <td>1.0</td>\n      <td>0.00</td>\n      <td>0.0</td>\n    </tr>\n    <tr>\n      <th>4</th>\n      <td>2</td>\n      <td>2025-01-01 00:25:05</td>\n      <td>2025-01-01 01:01:10</td>\n      <td>N</td>\n      <td>1.0</td>\n      <td>66</td>\n      <td>158</td>\n      <td>1.0</td>\n      <td>4.71</td>\n      <td>33.80</td>\n      <td>...</td>\n      <td>0.5</td>\n      <td>7.81</td>\n      <td>0.00</td>\n      <td>NaN</td>\n      <td>1.0</td>\n      <td>46.86</td>\n      <td>1.0</td>\n      <td>1.0</td>\n      <td>2.75</td>\n      <td>0.0</td>\n    </tr>\n  </tbody>\n</table>\n<p>5 rows × 21 columns</p>\n</div>",
      "text/plain": "   VendorID     pickup_datetime lpep_dropoff_datetime store_and_fwd_flag  \\\n0         2 2025-01-01 00:03:01   2025-01-01 00:17:12                  N   \n1         2 2025-01-01 00:19:59   2025-01-01 00:25:52                  N   \n2         2 2025-01-01 00:05:29   2025-01-01 00:07:21                  N   \n3         2 2025-01-01 00:52:24   2025-01-01 01:07:52                  N   \n4         2 2025-01-01 00:25:05   2025-01-01 01:01:10                  N   \n\n   RatecodeID  location_id  DOLocationID  passenger_count  trip_distance  \\\n0         1.0           75           235              1.0           5.93   \n1         1.0          166            75              1.0           1.32   \n2         5.0          171            73              1.0           0.41   \n3         1.0           74           223              1.0           4.12   \n4         1.0           66           158              1.0           4.71   \n\n   fare_amount  ...  mta_tax  tip_amount  tolls_amount  ehail_fee  \\\n0        24.70  ...      0.5        6.80          0.00        NaN   \n1         8.60  ...      0.5        0.00          0.00        NaN   \n2        25.55  ...      0.0        0.00          0.00        NaN   \n3        21.20  ...      0.5        6.13          6.94        NaN   \n4        33.80  ...      0.5        7.81          0.00        NaN   \n\n   improvement_surcharge  total_amount  payment_type  trip_type  \\\n0                    1.0         34.00           1.0        1.0   \n1                    1.0         11.10           2.0        1.0   \n2                    1.0         26.55           2.0        2.0   \n3                    1.0         36.77           1.0        1.0   \n4                    1.0         46.86           1.0        1.0   \n\n   congestion_surcharge  cbd_congestion_fee  \n0                  0.00                 0.0  \n1                  0.00                 0.0  \n2                  0.00                 0.0  \n3                  0.00                 0.0  \n4                  2.75                 0.0  \n\n[5 rows x 21 columns]"
     },
     "metadata": {},
     "output_type": "display_data"
    },
    {
     "data": {
      "text/markdown": "#### Пропущенные значения",
      "text/plain": "<IPython.core.display.Markdown object>"
     },
     "metadata": {},
     "output_type": "display_data"
    },
    {
     "data": {
      "text/html": "<div>\n<style scoped>\n    .dataframe tbody tr th:only-of-type {\n        vertical-align: middle;\n    }\n\n    .dataframe tbody tr th {\n        vertical-align: top;\n    }\n\n    .dataframe thead th {\n        text-align: right;\n    }\n</style>\n<table border=\"1\" class=\"dataframe\">\n  <thead>\n    <tr style=\"text-align: right;\">\n      <th></th>\n      <th>Количество пропусков</th>\n      <th>Процент</th>\n    </tr>\n  </thead>\n  <tbody>\n    <tr>\n      <th>VendorID</th>\n      <td>0</td>\n      <td>0.00</td>\n    </tr>\n    <tr>\n      <th>pickup_datetime</th>\n      <td>0</td>\n      <td>0.00</td>\n    </tr>\n    <tr>\n      <th>lpep_dropoff_datetime</th>\n      <td>0</td>\n      <td>0.00</td>\n    </tr>\n    <tr>\n      <th>store_and_fwd_flag</th>\n      <td>4353</td>\n      <td>4.59</td>\n    </tr>\n    <tr>\n      <th>RatecodeID</th>\n      <td>4353</td>\n      <td>4.59</td>\n    </tr>\n    <tr>\n      <th>location_id</th>\n      <td>0</td>\n      <td>0.00</td>\n    </tr>\n    <tr>\n      <th>DOLocationID</th>\n      <td>0</td>\n      <td>0.00</td>\n    </tr>\n    <tr>\n      <th>passenger_count</th>\n      <td>4353</td>\n      <td>4.59</td>\n    </tr>\n    <tr>\n      <th>trip_distance</th>\n      <td>0</td>\n      <td>0.00</td>\n    </tr>\n    <tr>\n      <th>fare_amount</th>\n      <td>0</td>\n      <td>0.00</td>\n    </tr>\n    <tr>\n      <th>extra</th>\n      <td>0</td>\n      <td>0.00</td>\n    </tr>\n    <tr>\n      <th>mta_tax</th>\n      <td>0</td>\n      <td>0.00</td>\n    </tr>\n    <tr>\n      <th>tip_amount</th>\n      <td>0</td>\n      <td>0.00</td>\n    </tr>\n    <tr>\n      <th>tolls_amount</th>\n      <td>0</td>\n      <td>0.00</td>\n    </tr>\n    <tr>\n      <th>ehail_fee</th>\n      <td>94933</td>\n      <td>100.00</td>\n    </tr>\n    <tr>\n      <th>improvement_surcharge</th>\n      <td>0</td>\n      <td>0.00</td>\n    </tr>\n    <tr>\n      <th>total_amount</th>\n      <td>0</td>\n      <td>0.00</td>\n    </tr>\n    <tr>\n      <th>payment_type</th>\n      <td>4353</td>\n      <td>4.59</td>\n    </tr>\n    <tr>\n      <th>trip_type</th>\n      <td>4370</td>\n      <td>4.60</td>\n    </tr>\n    <tr>\n      <th>congestion_surcharge</th>\n      <td>4353</td>\n      <td>4.59</td>\n    </tr>\n    <tr>\n      <th>cbd_congestion_fee</th>\n      <td>3824</td>\n      <td>4.03</td>\n    </tr>\n  </tbody>\n</table>\n</div>",
      "text/plain": "                       Количество пропусков  Процент\nVendorID                                  0     0.00\npickup_datetime                           0     0.00\nlpep_dropoff_datetime                     0     0.00\nstore_and_fwd_flag                     4353     4.59\nRatecodeID                             4353     4.59\nlocation_id                               0     0.00\nDOLocationID                              0     0.00\npassenger_count                        4353     4.59\ntrip_distance                             0     0.00\nfare_amount                               0     0.00\nextra                                     0     0.00\nmta_tax                                   0     0.00\ntip_amount                                0     0.00\ntolls_amount                              0     0.00\nehail_fee                             94933   100.00\nimprovement_surcharge                     0     0.00\ntotal_amount                              0     0.00\npayment_type                           4353     4.59\ntrip_type                              4370     4.60\ncongestion_surcharge                   4353     4.59\ncbd_congestion_fee                     3824     4.03"
     },
     "metadata": {},
     "output_type": "display_data"
    },
    {
     "data": {
      "text/markdown": "**Доля пропусков в location_id:** 0.00%",
      "text/plain": "<IPython.core.display.Markdown object>"
     },
     "metadata": {},
     "output_type": "display_data"
    },
    {
     "data": {
      "text/markdown": "#### Анализ location_id",
      "text/plain": "<IPython.core.display.Markdown object>"
     },
     "metadata": {},
     "output_type": "display_data"
    },
    {
     "data": {
      "text/markdown": "- Уникальных значений: 231",
      "text/plain": "<IPython.core.display.Markdown object>"
     },
     "metadata": {},
     "output_type": "display_data"
    },
    {
     "data": {
      "text/markdown": "**Топ-10 самых популярных локаций:**",
      "text/plain": "<IPython.core.display.Markdown object>"
     },
     "metadata": {},
     "output_type": "display_data"
    },
    {
     "data": {
      "text/plain": "location_id\n74     22768\n75     15791\n43      5149\n166     4501\n95      4294\n41      3992\n97      3731\n82      3504\n65      2869\n130     2634\nName: count, dtype: int64"
     },
     "metadata": {},
     "output_type": "display_data"
    },
    {
     "data": {
      "text/markdown": "#### Топ-10 часов с наибольшим числом поездок",
      "text/plain": "<IPython.core.display.Markdown object>"
     },
     "metadata": {},
     "output_type": "display_data"
    },
    {
     "data": {
      "text/plain": "_hour\n17    8062\n18    7484\n16    7473\n15    6599\n19    5852\n14    5842\n13    5570\n12    5057\n9     5028\n10    5003\nName: count, dtype: int64"
     },
     "metadata": {},
     "output_type": "display_data"
    },
    {
     "data": {
      "text/markdown": "---",
      "text/plain": "<IPython.core.display.Markdown object>"
     },
     "metadata": {},
     "output_type": "display_data"
    }
   ],
   "source": [
    "analyze_dataset('Green Taxi', green_df)"
   ]
  },
  {
   "cell_type": "code",
   "execution_count": 8,
   "id": "bb11762e95bad43f",
   "metadata": {
    "ExecuteTime": {
     "end_time": "2025-05-16T20:20:56.534123Z",
     "start_time": "2025-05-16T20:20:53.485068Z"
    },
    "collapsed": false
   },
   "outputs": [
    {
     "data": {
      "text/markdown": "### Анализ набора данных: FHV",
      "text/plain": "<IPython.core.display.Markdown object>"
     },
     "metadata": {},
     "output_type": "display_data"
    },
    {
     "data": {
      "text/markdown": "**Размерность:** 21107156 строк × 7 столбцов",
      "text/plain": "<IPython.core.display.Markdown object>"
     },
     "metadata": {},
     "output_type": "display_data"
    },
    {
     "data": {
      "text/markdown": "#### Общая информация",
      "text/plain": "<IPython.core.display.Markdown object>"
     },
     "metadata": {},
     "output_type": "display_data"
    },
    {
     "name": "stdout",
     "output_type": "stream",
     "text": [
      "<class 'pandas.core.frame.DataFrame'>\n",
      "RangeIndex: 21107156 entries, 0 to 21107155\n",
      "Data columns (total 7 columns):\n",
      " #   Column                  Dtype         \n",
      "---  ------                  -----         \n",
      " 0   dispatching_base_num    object        \n",
      " 1   pickup_datetime         datetime64[us]\n",
      " 2   dropOff_datetime        datetime64[us]\n",
      " 3   location_id             float64       \n",
      " 4   DOlocationID            float64       \n",
      " 5   SR_Flag                 float64       \n",
      " 6   Affiliated_base_number  object        \n",
      "dtypes: datetime64[us](2), float64(3), object(2)\n",
      "memory usage: 1.1+ GB\n"
     ]
    },
    {
     "data": {
      "text/markdown": "#### Первые 5 строк",
      "text/plain": "<IPython.core.display.Markdown object>"
     },
     "metadata": {},
     "output_type": "display_data"
    },
    {
     "data": {
      "text/html": "<div>\n<style scoped>\n    .dataframe tbody tr th:only-of-type {\n        vertical-align: middle;\n    }\n\n    .dataframe tbody tr th {\n        vertical-align: top;\n    }\n\n    .dataframe thead th {\n        text-align: right;\n    }\n</style>\n<table border=\"1\" class=\"dataframe\">\n  <thead>\n    <tr style=\"text-align: right;\">\n      <th></th>\n      <th>dispatching_base_num</th>\n      <th>pickup_datetime</th>\n      <th>dropOff_datetime</th>\n      <th>location_id</th>\n      <th>DOlocationID</th>\n      <th>SR_Flag</th>\n      <th>Affiliated_base_number</th>\n    </tr>\n  </thead>\n  <tbody>\n    <tr>\n      <th>0</th>\n      <td>B00053</td>\n      <td>2024-01-01 00:15:00</td>\n      <td>2024-01-01 02:13:00</td>\n      <td>NaN</td>\n      <td>NaN</td>\n      <td>NaN</td>\n      <td>B00014</td>\n    </tr>\n    <tr>\n      <th>1</th>\n      <td>B00111</td>\n      <td>2024-01-01 00:30:00</td>\n      <td>2024-01-01 02:37:00</td>\n      <td>NaN</td>\n      <td>NaN</td>\n      <td>NaN</td>\n      <td>B00111</td>\n    </tr>\n    <tr>\n      <th>2</th>\n      <td>B00112</td>\n      <td>2024-01-01 00:27:24</td>\n      <td>2024-01-01 01:12:05</td>\n      <td>NaN</td>\n      <td>14.0</td>\n      <td>NaN</td>\n      <td>B00112</td>\n    </tr>\n    <tr>\n      <th>3</th>\n      <td>B00112</td>\n      <td>2024-01-01 00:10:09</td>\n      <td>2024-01-01 00:25:39</td>\n      <td>NaN</td>\n      <td>133.0</td>\n      <td>NaN</td>\n      <td>B00112</td>\n    </tr>\n    <tr>\n      <th>4</th>\n      <td>B00112</td>\n      <td>2024-01-01 00:57:07</td>\n      <td>2024-01-01 01:05:04</td>\n      <td>NaN</td>\n      <td>14.0</td>\n      <td>NaN</td>\n      <td>B00112</td>\n    </tr>\n  </tbody>\n</table>\n</div>",
      "text/plain": "  dispatching_base_num     pickup_datetime    dropOff_datetime  location_id  \\\n0               B00053 2024-01-01 00:15:00 2024-01-01 02:13:00          NaN   \n1               B00111 2024-01-01 00:30:00 2024-01-01 02:37:00          NaN   \n2               B00112 2024-01-01 00:27:24 2024-01-01 01:12:05          NaN   \n3               B00112 2024-01-01 00:10:09 2024-01-01 00:25:39          NaN   \n4               B00112 2024-01-01 00:57:07 2024-01-01 01:05:04          NaN   \n\n   DOlocationID  SR_Flag Affiliated_base_number  \n0           NaN      NaN                 B00014  \n1           NaN      NaN                 B00111  \n2          14.0      NaN                 B00112  \n3         133.0      NaN                 B00112  \n4          14.0      NaN                 B00112  "
     },
     "metadata": {},
     "output_type": "display_data"
    },
    {
     "data": {
      "text/markdown": "#### Пропущенные значения",
      "text/plain": "<IPython.core.display.Markdown object>"
     },
     "metadata": {},
     "output_type": "display_data"
    },
    {
     "data": {
      "text/html": "<div>\n<style scoped>\n    .dataframe tbody tr th:only-of-type {\n        vertical-align: middle;\n    }\n\n    .dataframe tbody tr th {\n        vertical-align: top;\n    }\n\n    .dataframe thead th {\n        text-align: right;\n    }\n</style>\n<table border=\"1\" class=\"dataframe\">\n  <thead>\n    <tr style=\"text-align: right;\">\n      <th></th>\n      <th>Количество пропусков</th>\n      <th>Процент</th>\n    </tr>\n  </thead>\n  <tbody>\n    <tr>\n      <th>dispatching_base_num</th>\n      <td>0</td>\n      <td>0.00</td>\n    </tr>\n    <tr>\n      <th>pickup_datetime</th>\n      <td>0</td>\n      <td>0.00</td>\n    </tr>\n    <tr>\n      <th>dropOff_datetime</th>\n      <td>0</td>\n      <td>0.00</td>\n    </tr>\n    <tr>\n      <th>location_id</th>\n      <td>16867704</td>\n      <td>79.91</td>\n    </tr>\n    <tr>\n      <th>DOlocationID</th>\n      <td>3475719</td>\n      <td>16.47</td>\n    </tr>\n    <tr>\n      <th>SR_Flag</th>\n      <td>21107156</td>\n      <td>100.00</td>\n    </tr>\n    <tr>\n      <th>Affiliated_base_number</th>\n      <td>0</td>\n      <td>0.00</td>\n    </tr>\n  </tbody>\n</table>\n</div>",
      "text/plain": "                        Количество пропусков  Процент\ndispatching_base_num                       0     0.00\npickup_datetime                            0     0.00\ndropOff_datetime                           0     0.00\nlocation_id                         16867704    79.91\nDOlocationID                         3475719    16.47\nSR_Flag                             21107156   100.00\nAffiliated_base_number                     0     0.00"
     },
     "metadata": {},
     "output_type": "display_data"
    },
    {
     "data": {
      "text/markdown": "**Доля пропусков в location_id:** 79.91%",
      "text/plain": "<IPython.core.display.Markdown object>"
     },
     "metadata": {},
     "output_type": "display_data"
    },
    {
     "data": {
      "text/markdown": "#### Анализ location_id",
      "text/plain": "<IPython.core.display.Markdown object>"
     },
     "metadata": {},
     "output_type": "display_data"
    },
    {
     "data": {
      "text/markdown": "- Уникальных значений: 263",
      "text/plain": "<IPython.core.display.Markdown object>"
     },
     "metadata": {},
     "output_type": "display_data"
    },
    {
     "data": {
      "text/markdown": "**Топ-10 самых популярных локаций:**",
      "text/plain": "<IPython.core.display.Markdown object>"
     },
     "metadata": {},
     "output_type": "display_data"
    },
    {
     "data": {
      "text/plain": "location_id\n206.0    100245\n221.0     99344\n92.0      58378\n138.0     58023\n129.0     56946\n214.0     55879\n123.0     54958\n7.0       53558\n23.0      53145\n210.0     52149\nName: count, dtype: int64"
     },
     "metadata": {},
     "output_type": "display_data"
    },
    {
     "data": {
      "text/markdown": "#### Топ-10 часов с наибольшим числом поездок",
      "text/plain": "<IPython.core.display.Markdown object>"
     },
     "metadata": {},
     "output_type": "display_data"
    },
    {
     "data": {
      "text/plain": "_hour\n9     1659288\n10    1594512\n8     1487103\n12    1471234\n11    1470112\n13    1437010\n14    1364874\n15    1234706\n7     1129352\n16    1104770\nName: count, dtype: int64"
     },
     "metadata": {},
     "output_type": "display_data"
    },
    {
     "data": {
      "text/markdown": "---",
      "text/plain": "<IPython.core.display.Markdown object>"
     },
     "metadata": {},
     "output_type": "display_data"
    }
   ],
   "source": [
    "analyze_dataset('FHV', fhv_df)"
   ]
  },
  {
   "cell_type": "code",
   "execution_count": 9,
   "id": "5e61e6fe166882b6",
   "metadata": {
    "ExecuteTime": {
     "end_time": "2025-05-16T20:21:14.750716Z",
     "start_time": "2025-05-16T20:20:56.534123Z"
    },
    "collapsed": false
   },
   "outputs": [
    {
     "data": {
      "text/markdown": "### Анализ набора данных: High-Volume FHV",
      "text/plain": "<IPython.core.display.Markdown object>"
     },
     "metadata": {},
     "output_type": "display_data"
    },
    {
     "data": {
      "text/markdown": "**Размерность:** 39745127 строк × 25 столбцов",
      "text/plain": "<IPython.core.display.Markdown object>"
     },
     "metadata": {},
     "output_type": "display_data"
    },
    {
     "data": {
      "text/markdown": "#### Общая информация",
      "text/plain": "<IPython.core.display.Markdown object>"
     },
     "metadata": {},
     "output_type": "display_data"
    },
    {
     "name": "stdout",
     "output_type": "stream",
     "text": [
      "<class 'pandas.core.frame.DataFrame'>\n",
      "RangeIndex: 39745127 entries, 0 to 39745126\n",
      "Data columns (total 25 columns):\n",
      " #   Column                Dtype         \n",
      "---  ------                -----         \n",
      " 0   hvfhs_license_num     object        \n",
      " 1   dispatching_base_num  object        \n",
      " 2   originating_base_num  object        \n",
      " 3   request_datetime      datetime64[us]\n",
      " 4   on_scene_datetime     datetime64[us]\n",
      " 5   pickup_datetime       datetime64[us]\n",
      " 6   dropoff_datetime      datetime64[us]\n",
      " 7   location_id           int32         \n",
      " 8   DOLocationID          int32         \n",
      " 9   trip_miles            float64       \n",
      " 10  trip_time             int64         \n",
      " 11  base_passenger_fare   float64       \n",
      " 12  tolls                 float64       \n",
      " 13  bcf                   float64       \n",
      " 14  sales_tax             float64       \n",
      " 15  congestion_surcharge  float64       \n",
      " 16  airport_fee           float64       \n",
      " 17  tips                  float64       \n",
      " 18  driver_pay            float64       \n",
      " 19  shared_request_flag   object        \n",
      " 20  shared_match_flag     object        \n",
      " 21  access_a_ride_flag    object        \n",
      " 22  wav_request_flag      object        \n",
      " 23  wav_match_flag        object        \n",
      " 24  cbd_congestion_fee    float64       \n",
      "dtypes: datetime64[us](4), float64(10), int32(2), int64(1), object(8)\n",
      "memory usage: 7.1+ GB\n"
     ]
    },
    {
     "data": {
      "text/markdown": "#### Первые 5 строк",
      "text/plain": "<IPython.core.display.Markdown object>"
     },
     "metadata": {},
     "output_type": "display_data"
    },
    {
     "data": {
      "text/html": "<div>\n<style scoped>\n    .dataframe tbody tr th:only-of-type {\n        vertical-align: middle;\n    }\n\n    .dataframe tbody tr th {\n        vertical-align: top;\n    }\n\n    .dataframe thead th {\n        text-align: right;\n    }\n</style>\n<table border=\"1\" class=\"dataframe\">\n  <thead>\n    <tr style=\"text-align: right;\">\n      <th></th>\n      <th>hvfhs_license_num</th>\n      <th>dispatching_base_num</th>\n      <th>originating_base_num</th>\n      <th>request_datetime</th>\n      <th>on_scene_datetime</th>\n      <th>pickup_datetime</th>\n      <th>dropoff_datetime</th>\n      <th>location_id</th>\n      <th>DOLocationID</th>\n      <th>trip_miles</th>\n      <th>...</th>\n      <th>congestion_surcharge</th>\n      <th>airport_fee</th>\n      <th>tips</th>\n      <th>driver_pay</th>\n      <th>shared_request_flag</th>\n      <th>shared_match_flag</th>\n      <th>access_a_ride_flag</th>\n      <th>wav_request_flag</th>\n      <th>wav_match_flag</th>\n      <th>cbd_congestion_fee</th>\n    </tr>\n  </thead>\n  <tbody>\n    <tr>\n      <th>0</th>\n      <td>HV0003</td>\n      <td>B03404</td>\n      <td>B03404</td>\n      <td>2025-01-01 00:28:07</td>\n      <td>2025-01-01 00:31:17</td>\n      <td>2025-01-01 00:33:25</td>\n      <td>2025-01-01 00:54:24</td>\n      <td>148</td>\n      <td>211</td>\n      <td>1.320</td>\n      <td>...</td>\n      <td>2.75</td>\n      <td>0.0</td>\n      <td>0.0</td>\n      <td>15.71</td>\n      <td>N</td>\n      <td>N</td>\n      <td>N</td>\n      <td>N</td>\n      <td>N</td>\n      <td>0.0</td>\n    </tr>\n    <tr>\n      <th>1</th>\n      <td>HV0005</td>\n      <td>B03406</td>\n      <td>None</td>\n      <td>2025-01-01 00:18:33</td>\n      <td>NaT</td>\n      <td>2025-01-01 00:29:49</td>\n      <td>2025-01-01 00:41:52</td>\n      <td>127</td>\n      <td>244</td>\n      <td>3.313</td>\n      <td>...</td>\n      <td>0.00</td>\n      <td>0.0</td>\n      <td>0.0</td>\n      <td>23.57</td>\n      <td>N</td>\n      <td>N</td>\n      <td>N</td>\n      <td>N</td>\n      <td>N</td>\n      <td>0.0</td>\n    </tr>\n    <tr>\n      <th>2</th>\n      <td>HV0003</td>\n      <td>B03404</td>\n      <td>B03404</td>\n      <td>2025-01-01 00:28:22</td>\n      <td>2025-01-01 00:31:52</td>\n      <td>2025-01-01 00:32:39</td>\n      <td>2025-01-01 01:20:33</td>\n      <td>132</td>\n      <td>181</td>\n      <td>13.430</td>\n      <td>...</td>\n      <td>0.00</td>\n      <td>2.5</td>\n      <td>0.0</td>\n      <td>47.75</td>\n      <td>N</td>\n      <td>N</td>\n      <td>N</td>\n      <td>N</td>\n      <td>N</td>\n      <td>0.0</td>\n    </tr>\n    <tr>\n      <th>3</th>\n      <td>HV0003</td>\n      <td>B03404</td>\n      <td>B03404</td>\n      <td>2025-01-01 00:27:13</td>\n      <td>2025-01-01 00:33:58</td>\n      <td>2025-01-01 00:34:55</td>\n      <td>2025-01-01 00:39:19</td>\n      <td>76</td>\n      <td>76</td>\n      <td>0.820</td>\n      <td>...</td>\n      <td>0.00</td>\n      <td>0.0</td>\n      <td>0.0</td>\n      <td>12.20</td>\n      <td>N</td>\n      <td>N</td>\n      <td>N</td>\n      <td>N</td>\n      <td>N</td>\n      <td>0.0</td>\n    </tr>\n    <tr>\n      <th>4</th>\n      <td>HV0003</td>\n      <td>B03404</td>\n      <td>B03404</td>\n      <td>2025-01-01 00:33:29</td>\n      <td>2025-01-01 00:45:46</td>\n      <td>2025-01-01 00:46:19</td>\n      <td>2025-01-01 00:53:56</td>\n      <td>76</td>\n      <td>76</td>\n      <td>1.610</td>\n      <td>...</td>\n      <td>0.00</td>\n      <td>0.0</td>\n      <td>0.0</td>\n      <td>17.67</td>\n      <td>N</td>\n      <td>N</td>\n      <td>N</td>\n      <td>N</td>\n      <td>N</td>\n      <td>0.0</td>\n    </tr>\n  </tbody>\n</table>\n<p>5 rows × 25 columns</p>\n</div>",
      "text/plain": "  hvfhs_license_num dispatching_base_num originating_base_num  \\\n0            HV0003               B03404               B03404   \n1            HV0005               B03406                 None   \n2            HV0003               B03404               B03404   \n3            HV0003               B03404               B03404   \n4            HV0003               B03404               B03404   \n\n     request_datetime   on_scene_datetime     pickup_datetime  \\\n0 2025-01-01 00:28:07 2025-01-01 00:31:17 2025-01-01 00:33:25   \n1 2025-01-01 00:18:33                 NaT 2025-01-01 00:29:49   \n2 2025-01-01 00:28:22 2025-01-01 00:31:52 2025-01-01 00:32:39   \n3 2025-01-01 00:27:13 2025-01-01 00:33:58 2025-01-01 00:34:55   \n4 2025-01-01 00:33:29 2025-01-01 00:45:46 2025-01-01 00:46:19   \n\n     dropoff_datetime  location_id  DOLocationID  trip_miles  ...  \\\n0 2025-01-01 00:54:24          148           211       1.320  ...   \n1 2025-01-01 00:41:52          127           244       3.313  ...   \n2 2025-01-01 01:20:33          132           181      13.430  ...   \n3 2025-01-01 00:39:19           76            76       0.820  ...   \n4 2025-01-01 00:53:56           76            76       1.610  ...   \n\n   congestion_surcharge  airport_fee  tips  driver_pay  shared_request_flag  \\\n0                  2.75          0.0   0.0       15.71                    N   \n1                  0.00          0.0   0.0       23.57                    N   \n2                  0.00          2.5   0.0       47.75                    N   \n3                  0.00          0.0   0.0       12.20                    N   \n4                  0.00          0.0   0.0       17.67                    N   \n\n   shared_match_flag  access_a_ride_flag  wav_request_flag  wav_match_flag  \\\n0                  N                   N                 N               N   \n1                  N                   N                 N               N   \n2                  N                   N                 N               N   \n3                  N                   N                 N               N   \n4                  N                   N                 N               N   \n\n  cbd_congestion_fee  \n0                0.0  \n1                0.0  \n2                0.0  \n3                0.0  \n4                0.0  \n\n[5 rows x 25 columns]"
     },
     "metadata": {},
     "output_type": "display_data"
    },
    {
     "data": {
      "text/markdown": "#### Пропущенные значения",
      "text/plain": "<IPython.core.display.Markdown object>"
     },
     "metadata": {},
     "output_type": "display_data"
    },
    {
     "data": {
      "text/html": "<div>\n<style scoped>\n    .dataframe tbody tr th:only-of-type {\n        vertical-align: middle;\n    }\n\n    .dataframe tbody tr th {\n        vertical-align: top;\n    }\n\n    .dataframe thead th {\n        text-align: right;\n    }\n</style>\n<table border=\"1\" class=\"dataframe\">\n  <thead>\n    <tr style=\"text-align: right;\">\n      <th></th>\n      <th>Количество пропусков</th>\n      <th>Процент</th>\n    </tr>\n  </thead>\n  <tbody>\n    <tr>\n      <th>hvfhs_license_num</th>\n      <td>0</td>\n      <td>0.00</td>\n    </tr>\n    <tr>\n      <th>dispatching_base_num</th>\n      <td>0</td>\n      <td>0.00</td>\n    </tr>\n    <tr>\n      <th>originating_base_num</th>\n      <td>9941523</td>\n      <td>25.01</td>\n    </tr>\n    <tr>\n      <th>request_datetime</th>\n      <td>0</td>\n      <td>0.00</td>\n    </tr>\n    <tr>\n      <th>on_scene_datetime</th>\n      <td>9941523</td>\n      <td>25.01</td>\n    </tr>\n    <tr>\n      <th>pickup_datetime</th>\n      <td>0</td>\n      <td>0.00</td>\n    </tr>\n    <tr>\n      <th>dropoff_datetime</th>\n      <td>0</td>\n      <td>0.00</td>\n    </tr>\n    <tr>\n      <th>location_id</th>\n      <td>0</td>\n      <td>0.00</td>\n    </tr>\n    <tr>\n      <th>DOLocationID</th>\n      <td>0</td>\n      <td>0.00</td>\n    </tr>\n    <tr>\n      <th>trip_miles</th>\n      <td>0</td>\n      <td>0.00</td>\n    </tr>\n    <tr>\n      <th>trip_time</th>\n      <td>0</td>\n      <td>0.00</td>\n    </tr>\n    <tr>\n      <th>base_passenger_fare</th>\n      <td>0</td>\n      <td>0.00</td>\n    </tr>\n    <tr>\n      <th>tolls</th>\n      <td>0</td>\n      <td>0.00</td>\n    </tr>\n    <tr>\n      <th>bcf</th>\n      <td>0</td>\n      <td>0.00</td>\n    </tr>\n    <tr>\n      <th>sales_tax</th>\n      <td>0</td>\n      <td>0.00</td>\n    </tr>\n    <tr>\n      <th>congestion_surcharge</th>\n      <td>0</td>\n      <td>0.00</td>\n    </tr>\n    <tr>\n      <th>airport_fee</th>\n      <td>0</td>\n      <td>0.00</td>\n    </tr>\n    <tr>\n      <th>tips</th>\n      <td>0</td>\n      <td>0.00</td>\n    </tr>\n    <tr>\n      <th>driver_pay</th>\n      <td>0</td>\n      <td>0.00</td>\n    </tr>\n    <tr>\n      <th>shared_request_flag</th>\n      <td>0</td>\n      <td>0.00</td>\n    </tr>\n    <tr>\n      <th>shared_match_flag</th>\n      <td>0</td>\n      <td>0.00</td>\n    </tr>\n    <tr>\n      <th>access_a_ride_flag</th>\n      <td>0</td>\n      <td>0.00</td>\n    </tr>\n    <tr>\n      <th>wav_request_flag</th>\n      <td>0</td>\n      <td>0.00</td>\n    </tr>\n    <tr>\n      <th>wav_match_flag</th>\n      <td>0</td>\n      <td>0.00</td>\n    </tr>\n    <tr>\n      <th>cbd_congestion_fee</th>\n      <td>0</td>\n      <td>0.00</td>\n    </tr>\n  </tbody>\n</table>\n</div>",
      "text/plain": "                      Количество пропусков  Процент\nhvfhs_license_num                        0     0.00\ndispatching_base_num                     0     0.00\noriginating_base_num               9941523    25.01\nrequest_datetime                         0     0.00\non_scene_datetime                  9941523    25.01\npickup_datetime                          0     0.00\ndropoff_datetime                         0     0.00\nlocation_id                              0     0.00\nDOLocationID                             0     0.00\ntrip_miles                               0     0.00\ntrip_time                                0     0.00\nbase_passenger_fare                      0     0.00\ntolls                                    0     0.00\nbcf                                      0     0.00\nsales_tax                                0     0.00\ncongestion_surcharge                     0     0.00\nairport_fee                              0     0.00\ntips                                     0     0.00\ndriver_pay                               0     0.00\nshared_request_flag                      0     0.00\nshared_match_flag                        0     0.00\naccess_a_ride_flag                       0     0.00\nwav_request_flag                         0     0.00\nwav_match_flag                           0     0.00\ncbd_congestion_fee                       0     0.00"
     },
     "metadata": {},
     "output_type": "display_data"
    },
    {
     "data": {
      "text/markdown": "**Доля пропусков в location_id:** 0.00%",
      "text/plain": "<IPython.core.display.Markdown object>"
     },
     "metadata": {},
     "output_type": "display_data"
    },
    {
     "data": {
      "text/markdown": "#### Анализ location_id",
      "text/plain": "<IPython.core.display.Markdown object>"
     },
     "metadata": {},
     "output_type": "display_data"
    },
    {
     "data": {
      "text/markdown": "- Уникальных значений: 263",
      "text/plain": "<IPython.core.display.Markdown object>"
     },
     "metadata": {},
     "output_type": "display_data"
    },
    {
     "data": {
      "text/markdown": "**Топ-10 самых популярных локаций:**",
      "text/plain": "<IPython.core.display.Markdown object>"
     },
     "metadata": {},
     "output_type": "display_data"
    },
    {
     "data": {
      "text/plain": "location_id\n138    700349\n132    683001\n61     516062\n79     504633\n230    475537\n161    468250\n231    452232\n234    434557\n37     427973\n76     426650\nName: count, dtype: int64"
     },
     "metadata": {},
     "output_type": "display_data"
    },
    {
     "data": {
      "text/markdown": "#### Топ-10 часов с наибольшим числом поездок",
      "text/plain": "<IPython.core.display.Markdown object>"
     },
     "metadata": {},
     "output_type": "display_data"
    },
    {
     "data": {
      "text/plain": "_hour\n18    2454363\n17    2347454\n19    2339058\n20    2168253\n8     2118752\n16    2086584\n21    2073300\n15    2010394\n22    2003361\n14    1963209\nName: count, dtype: int64"
     },
     "metadata": {},
     "output_type": "display_data"
    },
    {
     "data": {
      "text/markdown": "---",
      "text/plain": "<IPython.core.display.Markdown object>"
     },
     "metadata": {},
     "output_type": "display_data"
    }
   ],
   "source": [
    "analyze_dataset('High-Volume FHV', hvfhv_df)"
   ]
  },
  {
   "cell_type": "code",
   "execution_count": 10,
   "id": "f9c80871a367b65e",
   "metadata": {
    "ExecuteTime": {
     "end_time": "2025-05-16T20:22:47.773989Z",
     "start_time": "2025-05-16T20:21:14.750716Z"
    },
    "collapsed": false
   },
   "outputs": [
    {
     "name": "stdout",
     "output_type": "stream",
     "text": [
      "Дубликатов в Yellow: 4\n",
      "Дубликатов в Green: 0\n",
      "Дубликатов в FHV: 32418\n",
      "Дубликатов в High-Volume FHV: 0\n"
     ]
    }
   ],
   "source": [
    "print('Дубликатов в Yellow:', yellow_df.duplicated().sum())\n",
    "print('Дубликатов в Green:', green_df.duplicated().sum())\n",
    "print('Дубликатов в FHV:', fhv_df.duplicated().sum())\n",
    "print('Дубликатов в High-Volume FHV:', hvfhv_df.duplicated().sum())"
   ]
  },
  {
   "cell_type": "markdown",
   "id": "28da43231f701d0b",
   "metadata": {
    "collapsed": false
   },
   "source": [
    "# Анализ\n",
    "Судя по информации о четырех датасетах все показали довольно хорошие результаты по содержанию полей важных для анализа, кроме For-Hire Vehicle Trip Records. В нём очень много отсутствующих полей location_id, а также очень много дубликатов. Его не будем использовать в исследовании.\n",
    "Далее избавимся от дубликатов в yellow_df и произведем объединение в общий датасет и проверим на повторы общий датасет. После чего выберем ключевые поля"
   ]
  },
  {
   "cell_type": "code",
   "execution_count": 11,
   "id": "632c0ba63ebbe60f",
   "metadata": {
    "ExecuteTime": {
     "end_time": "2025-05-16T20:24:24.037553Z",
     "start_time": "2025-05-16T20:22:47.773989Z"
    },
    "collapsed": false
   },
   "outputs": [
    {
     "name": "stdout",
     "output_type": "stream",
     "text": [
      "После удаления дубликатов: 48222431 строк\n",
      "Дубликатов в Yellow: 0\n"
     ]
    }
   ],
   "source": [
    "yellow_df = yellow_df.drop_duplicates().reset_index(drop=True)\n",
    "print(f'После удаления дубликатов: {yellow_df.shape[0]} строк')\n",
    "print('Дубликатов в Yellow:', yellow_df.duplicated().sum())"
   ]
  },
  {
   "cell_type": "code",
   "execution_count": 12,
   "id": "dac9ae96e7f3d810",
   "metadata": {
    "ExecuteTime": {
     "end_time": "2025-05-16T20:24:28.569704Z",
     "start_time": "2025-05-16T20:24:24.038557Z"
    },
    "collapsed": false
   },
   "outputs": [
    {
     "name": "stdout",
     "output_type": "stream",
     "text": [
      "Поля Yellow Taxi:\n",
      "['Airport_fee', 'DOLocationID', 'RatecodeID', 'VendorID', 'cbd_congestion_fee', 'congestion_surcharge', 'extra', 'fare_amount', 'improvement_surcharge', 'location_id', 'mta_tax', 'passenger_count', 'payment_type', 'pickup_datetime', 'store_and_fwd_flag', 'tip_amount', 'tolls_amount', 'total_amount', 'tpep_dropoff_datetime', 'trip_distance']\n",
      "\n",
      "Поля Green Taxi:\n",
      "['DOLocationID', 'RatecodeID', 'VendorID', 'cbd_congestion_fee', 'congestion_surcharge', 'ehail_fee', 'extra', 'fare_amount', 'improvement_surcharge', 'location_id', 'lpep_dropoff_datetime', 'mta_tax', 'passenger_count', 'payment_type', 'pickup_datetime', 'store_and_fwd_flag', 'tip_amount', 'tolls_amount', 'total_amount', 'trip_distance', 'trip_type']\n",
      "\n",
      "Поля High-Volume FHV:\n",
      "['DOLocationID', 'access_a_ride_flag', 'airport_fee', 'base_passenger_fare', 'bcf', 'cbd_congestion_fee', 'congestion_surcharge', 'dispatching_base_num', 'driver_pay', 'dropoff_datetime', 'hvfhs_license_num', 'location_id', 'on_scene_datetime', 'originating_base_num', 'pickup_datetime', 'request_datetime', 'sales_tax', 'shared_match_flag', 'shared_request_flag', 'tips', 'tolls', 'trip_miles', 'trip_time', 'wav_match_flag', 'wav_request_flag']\n",
      "Датасет: 88062491 строк, 8 столбцов\n",
      "Общие поля:\n",
      "['DOLocationID', 'cbd_congestion_fee', 'congestion_surcharge', 'location_id', 'pickup_datetime', 'tip_amount', 'tolls_amount', 'trip_distance']\n"
     ]
    }
   ],
   "source": [
    "print('Поля Yellow Taxi:')\n",
    "print(sorted(yellow_df.columns))\n",
    "print('\\nПоля Green Taxi:')\n",
    "print(sorted(green_df.columns))\n",
    "print('\\nПоля High-Volume FHV:')\n",
    "print(sorted(hvfhv_df.columns))\n",
    "\n",
    "hvfhv_df = hvfhv_df.rename(columns={\n",
    "    'tips': 'tip_amount',\n",
    "    'tolls': 'tolls_amount',\n",
    "    'trip_miles': 'trip_distance',\n",
    "    'airport_fee': 'Airport_fee',\n",
    "    'dropoff_datetime': 'tpep_dropoff_datetime'\n",
    "})\n",
    "\n",
    "\n",
    "common_cols_all = list(set(yellow_df.columns) & set(green_df.columns) & set(hvfhv_df.columns))\n",
    "combined_df = pd.concat([\n",
    "    yellow_df[common_cols_all],\n",
    "    green_df[common_cols_all],\n",
    "    hvfhv_df[common_cols_all]\n",
    "], ignore_index=True)\n",
    "\n",
    "print(f'Датасет: {combined_df.shape[0]} строк, {combined_df.shape[1]} столбцов')\n",
    "print('Общие поля:')\n",
    "print(sorted(common_cols_all))"
   ]
  },
  {
   "cell_type": "code",
   "execution_count": 13,
   "id": "9656d63aea1e4a79",
   "metadata": {
    "ExecuteTime": {
     "end_time": "2025-05-16T20:24:33.000922Z",
     "start_time": "2025-05-16T20:24:28.570707Z"
    },
    "collapsed": false
   },
   "outputs": [
    {
     "data": {
      "text/markdown": "### Анализ набора данных: Объединенный датасет",
      "text/plain": "<IPython.core.display.Markdown object>"
     },
     "metadata": {},
     "output_type": "display_data"
    },
    {
     "data": {
      "text/markdown": "**Размерность:** 88062491 строк × 8 столбцов",
      "text/plain": "<IPython.core.display.Markdown object>"
     },
     "metadata": {},
     "output_type": "display_data"
    },
    {
     "data": {
      "text/markdown": "#### Общая информация",
      "text/plain": "<IPython.core.display.Markdown object>"
     },
     "metadata": {},
     "output_type": "display_data"
    },
    {
     "name": "stdout",
     "output_type": "stream",
     "text": [
      "<class 'pandas.core.frame.DataFrame'>\n",
      "RangeIndex: 88062491 entries, 0 to 88062490\n",
      "Data columns (total 8 columns):\n",
      " #   Column                Dtype         \n",
      "---  ------                -----         \n",
      " 0   DOLocationID          int32         \n",
      " 1   tolls_amount          float64       \n",
      " 2   cbd_congestion_fee    float64       \n",
      " 3   trip_distance         float64       \n",
      " 4   congestion_surcharge  float64       \n",
      " 5   tip_amount            float64       \n",
      " 6   pickup_datetime       datetime64[us]\n",
      " 7   location_id           int32         \n",
      "dtypes: datetime64[us](1), float64(5), int32(2)\n",
      "memory usage: 4.6 GB\n"
     ]
    },
    {
     "data": {
      "text/markdown": "#### Первые 5 строк",
      "text/plain": "<IPython.core.display.Markdown object>"
     },
     "metadata": {},
     "output_type": "display_data"
    },
    {
     "data": {
      "text/html": "<div>\n<style scoped>\n    .dataframe tbody tr th:only-of-type {\n        vertical-align: middle;\n    }\n\n    .dataframe tbody tr th {\n        vertical-align: top;\n    }\n\n    .dataframe thead th {\n        text-align: right;\n    }\n</style>\n<table border=\"1\" class=\"dataframe\">\n  <thead>\n    <tr style=\"text-align: right;\">\n      <th></th>\n      <th>DOLocationID</th>\n      <th>tolls_amount</th>\n      <th>cbd_congestion_fee</th>\n      <th>trip_distance</th>\n      <th>congestion_surcharge</th>\n      <th>tip_amount</th>\n      <th>pickup_datetime</th>\n      <th>location_id</th>\n    </tr>\n  </thead>\n  <tbody>\n    <tr>\n      <th>0</th>\n      <td>79</td>\n      <td>0.0</td>\n      <td>NaN</td>\n      <td>1.72</td>\n      <td>2.5</td>\n      <td>0.00</td>\n      <td>2024-01-01 00:57:55</td>\n      <td>186</td>\n    </tr>\n    <tr>\n      <th>1</th>\n      <td>236</td>\n      <td>0.0</td>\n      <td>NaN</td>\n      <td>1.80</td>\n      <td>2.5</td>\n      <td>3.75</td>\n      <td>2024-01-01 00:03:00</td>\n      <td>140</td>\n    </tr>\n    <tr>\n      <th>2</th>\n      <td>79</td>\n      <td>0.0</td>\n      <td>NaN</td>\n      <td>4.70</td>\n      <td>2.5</td>\n      <td>3.00</td>\n      <td>2024-01-01 00:17:06</td>\n      <td>236</td>\n    </tr>\n    <tr>\n      <th>3</th>\n      <td>211</td>\n      <td>0.0</td>\n      <td>NaN</td>\n      <td>1.40</td>\n      <td>2.5</td>\n      <td>2.00</td>\n      <td>2024-01-01 00:36:38</td>\n      <td>79</td>\n    </tr>\n    <tr>\n      <th>4</th>\n      <td>148</td>\n      <td>0.0</td>\n      <td>NaN</td>\n      <td>0.80</td>\n      <td>2.5</td>\n      <td>3.20</td>\n      <td>2024-01-01 00:46:51</td>\n      <td>211</td>\n    </tr>\n  </tbody>\n</table>\n</div>",
      "text/plain": "   DOLocationID  tolls_amount  cbd_congestion_fee  trip_distance  \\\n0            79           0.0                 NaN           1.72   \n1           236           0.0                 NaN           1.80   \n2            79           0.0                 NaN           4.70   \n3           211           0.0                 NaN           1.40   \n4           148           0.0                 NaN           0.80   \n\n   congestion_surcharge  tip_amount     pickup_datetime  location_id  \n0                   2.5        0.00 2024-01-01 00:57:55          186  \n1                   2.5        3.75 2024-01-01 00:03:00          140  \n2                   2.5        3.00 2024-01-01 00:17:06          236  \n3                   2.5        2.00 2024-01-01 00:36:38           79  \n4                   2.5        3.20 2024-01-01 00:46:51          211  "
     },
     "metadata": {},
     "output_type": "display_data"
    },
    {
     "data": {
      "text/markdown": "#### Пропущенные значения",
      "text/plain": "<IPython.core.display.Markdown object>"
     },
     "metadata": {},
     "output_type": "display_data"
    },
    {
     "data": {
      "text/html": "<div>\n<style scoped>\n    .dataframe tbody tr th:only-of-type {\n        vertical-align: middle;\n    }\n\n    .dataframe tbody tr th {\n        vertical-align: top;\n    }\n\n    .dataframe thead th {\n        text-align: right;\n    }\n</style>\n<table border=\"1\" class=\"dataframe\">\n  <thead>\n    <tr style=\"text-align: right;\">\n      <th></th>\n      <th>Количество пропусков</th>\n      <th>Процент</th>\n    </tr>\n  </thead>\n  <tbody>\n    <tr>\n      <th>DOLocationID</th>\n      <td>0</td>\n      <td>0.00</td>\n    </tr>\n    <tr>\n      <th>tolls_amount</th>\n      <td>0</td>\n      <td>0.00</td>\n    </tr>\n    <tr>\n      <th>cbd_congestion_fee</th>\n      <td>41173487</td>\n      <td>46.75</td>\n    </tr>\n    <tr>\n      <th>trip_distance</th>\n      <td>0</td>\n      <td>0.00</td>\n    </tr>\n    <tr>\n      <th>congestion_surcharge</th>\n      <td>5442671</td>\n      <td>6.18</td>\n    </tr>\n    <tr>\n      <th>tip_amount</th>\n      <td>0</td>\n      <td>0.00</td>\n    </tr>\n    <tr>\n      <th>pickup_datetime</th>\n      <td>0</td>\n      <td>0.00</td>\n    </tr>\n    <tr>\n      <th>location_id</th>\n      <td>0</td>\n      <td>0.00</td>\n    </tr>\n  </tbody>\n</table>\n</div>",
      "text/plain": "                      Количество пропусков  Процент\nDOLocationID                             0     0.00\ntolls_amount                             0     0.00\ncbd_congestion_fee                41173487    46.75\ntrip_distance                            0     0.00\ncongestion_surcharge               5442671     6.18\ntip_amount                               0     0.00\npickup_datetime                          0     0.00\nlocation_id                              0     0.00"
     },
     "metadata": {},
     "output_type": "display_data"
    },
    {
     "data": {
      "text/markdown": "**Доля пропусков в location_id:** 0.00%",
      "text/plain": "<IPython.core.display.Markdown object>"
     },
     "metadata": {},
     "output_type": "display_data"
    },
    {
     "data": {
      "text/markdown": "#### Анализ location_id",
      "text/plain": "<IPython.core.display.Markdown object>"
     },
     "metadata": {},
     "output_type": "display_data"
    },
    {
     "data": {
      "text/markdown": "- Уникальных значений: 263",
      "text/plain": "<IPython.core.display.Markdown object>"
     },
     "metadata": {},
     "output_type": "display_data"
    },
    {
     "data": {
      "text/markdown": "**Топ-10 самых популярных локаций:**",
      "text/plain": "<IPython.core.display.Markdown object>"
     },
     "metadata": {},
     "output_type": "display_data"
    },
    {
     "data": {
      "text/plain": "location_id\n132    2944628\n161    2714248\n237    2567968\n236    2331377\n138    2170355\n230    2107053\n162    1962068\n186    1837908\n142    1794372\n234    1738529\nName: count, dtype: int64"
     },
     "metadata": {},
     "output_type": "display_data"
    },
    {
     "data": {
      "text/markdown": "#### Топ-10 часов с наибольшим числом поездок",
      "text/plain": "<IPython.core.display.Markdown object>"
     },
     "metadata": {},
     "output_type": "display_data"
    },
    {
     "data": {
      "text/plain": "_hour\n18    5959935\n17    5670610\n19    5401438\n16    5085780\n15    4949311\n20    4941697\n21    4909147\n14    4797836\n22    4623861\n13    4449648\nName: count, dtype: int64"
     },
     "metadata": {},
     "output_type": "display_data"
    },
    {
     "data": {
      "text/markdown": "---",
      "text/plain": "<IPython.core.display.Markdown object>"
     },
     "metadata": {},
     "output_type": "display_data"
    }
   ],
   "source": [
    "analyze_dataset('Объединенный датасет', combined_df)"
   ]
  },
  {
   "cell_type": "code",
   "execution_count": 14,
   "id": "38110f932cef806c",
   "metadata": {
    "ExecuteTime": {
     "end_time": "2025-05-16T20:24:59.060733Z",
     "start_time": "2025-05-16T20:24:33.008926Z"
    },
    "collapsed": false
   },
   "outputs": [
    {
     "name": "stdout",
     "output_type": "stream",
     "text": [
      "Дубликатов в Объединенном датасете: 118984\n"
     ]
    }
   ],
   "source": [
    "print('Дубликатов в Объединенном датасете:', combined_df.duplicated().sum())"
   ]
  },
  {
   "cell_type": "code",
   "execution_count": 15,
   "id": "101f1d1e308a0dee",
   "metadata": {
    "ExecuteTime": {
     "end_time": "2025-05-16T20:25:55.237446Z",
     "start_time": "2025-05-16T20:24:59.061739Z"
    },
    "collapsed": false
   },
   "outputs": [
    {
     "name": "stdout",
     "output_type": "stream",
     "text": [
      "После удаления дубликатов: 87943507 строк\n",
      "Дубликатов в Объединенном датасете: 0\n"
     ]
    }
   ],
   "source": [
    "combined_df = combined_df.drop_duplicates().reset_index(drop=True)\n",
    "print(f'После удаления дубликатов: {combined_df.shape[0]} строк')\n",
    "print('Дубликатов в Объединенном датасете:', combined_df.duplicated().sum())"
   ]
  },
  {
   "cell_type": "markdown",
   "id": "ede1c9a5640f13b0",
   "metadata": {
    "collapsed": false
   },
   "source": [
    "Сгруппируем строки по часу поездки, дате и локации. Добавим поле количество поездок. Поле является ли дата праздником, а также день недели."
   ]
  },
  {
   "cell_type": "code",
   "execution_count": 16,
   "id": "38e854ecd6600e04",
   "metadata": {
    "ExecuteTime": {
     "end_time": "2025-05-16T20:26:16.356105Z",
     "start_time": "2025-05-16T20:25:55.244450Z"
    },
    "collapsed": false
   },
   "outputs": [
    {
     "data": {
      "text/html": "<div>\n<style scoped>\n    .dataframe tbody tr th:only-of-type {\n        vertical-align: middle;\n    }\n\n    .dataframe tbody tr th {\n        vertical-align: top;\n    }\n\n    .dataframe thead th {\n        text-align: right;\n    }\n</style>\n<table border=\"1\" class=\"dataframe\">\n  <thead>\n    <tr style=\"text-align: right;\">\n      <th></th>\n      <th>pickup_date</th>\n      <th>hour</th>\n      <th>location_id</th>\n      <th>rides_per_hour</th>\n      <th>is_holiday</th>\n      <th>weekday</th>\n      <th>datetime</th>\n    </tr>\n  </thead>\n  <tbody>\n    <tr>\n      <th>0</th>\n      <td>2024-01-01</td>\n      <td>0</td>\n      <td>4</td>\n      <td>25</td>\n      <td>True</td>\n      <td>0</td>\n      <td>2024-01-01</td>\n    </tr>\n    <tr>\n      <th>1</th>\n      <td>2024-01-01</td>\n      <td>0</td>\n      <td>7</td>\n      <td>4</td>\n      <td>True</td>\n      <td>0</td>\n      <td>2024-01-01</td>\n    </tr>\n    <tr>\n      <th>2</th>\n      <td>2024-01-01</td>\n      <td>0</td>\n      <td>9</td>\n      <td>1</td>\n      <td>True</td>\n      <td>0</td>\n      <td>2024-01-01</td>\n    </tr>\n    <tr>\n      <th>3</th>\n      <td>2024-01-01</td>\n      <td>0</td>\n      <td>10</td>\n      <td>6</td>\n      <td>True</td>\n      <td>0</td>\n      <td>2024-01-01</td>\n    </tr>\n    <tr>\n      <th>4</th>\n      <td>2024-01-01</td>\n      <td>0</td>\n      <td>12</td>\n      <td>4</td>\n      <td>True</td>\n      <td>0</td>\n      <td>2024-01-01</td>\n    </tr>\n  </tbody>\n</table>\n</div>",
      "text/plain": "  pickup_date  hour  location_id  rides_per_hour  is_holiday  weekday  \\\n0  2024-01-01     0            4              25        True        0   \n1  2024-01-01     0            7               4        True        0   \n2  2024-01-01     0            9               1        True        0   \n3  2024-01-01     0           10               6        True        0   \n4  2024-01-01     0           12               4        True        0   \n\n    datetime  \n0 2024-01-01  \n1 2024-01-01  \n2 2024-01-01  \n3 2024-01-01  \n4 2024-01-01  "
     },
     "metadata": {},
     "output_type": "display_data"
    },
    {
     "name": "stdout",
     "output_type": "stream",
     "text": [
      "<class 'pandas.core.frame.DataFrame'>\n",
      "RangeIndex: 1420367 entries, 0 to 1420366\n",
      "Data columns (total 7 columns):\n",
      " #   Column          Non-Null Count    Dtype         \n",
      "---  ------          --------------    -----         \n",
      " 0   pickup_date     1420367 non-null  datetime64[ns]\n",
      " 1   hour            1420367 non-null  int32         \n",
      " 2   location_id     1420367 non-null  int32         \n",
      " 3   rides_per_hour  1420367 non-null  int64         \n",
      " 4   is_holiday      1420367 non-null  bool          \n",
      " 5   weekday         1420367 non-null  int32         \n",
      " 6   datetime        1420367 non-null  datetime64[ns]\n",
      "dtypes: bool(1), datetime64[ns](2), int32(3), int64(1)\n",
      "memory usage: 50.1 MB\n"
     ]
    },
    {
     "data": {
      "text/plain": "None"
     },
     "metadata": {},
     "output_type": "display_data"
    }
   ],
   "source": [
    "import holidays\n",
    "\n",
    "df = combined_df.copy(deep=True)\n",
    "df['pickup_date'] = df['pickup_datetime'].dt.date\n",
    "df['hour'] = df['pickup_datetime'].dt.hour\n",
    "\n",
    "df = df.groupby(['pickup_date', 'hour', 'location_id']).size().reset_index(name='rides_per_hour')\n",
    "\n",
    "\n",
    "non_working_holidays = {\n",
    "    'New Year\\'s Day',\n",
    "    'Washington\\'s Birthday',\n",
    "    'Christmas Day',\n",
    "    'Martin Luther King Jr. Day',\n",
    "    'Thanksgiving Day',\n",
    "    'Labor Day',\n",
    "    'Memorial Day',\n",
    "    'Juneteenth National Independence Day',\n",
    "    'Independence Day',   \n",
    "}\n",
    "us_holidays = holidays.US()\n",
    "\n",
    "def is_non_working_holiday(date):\n",
    "    name = us_holidays.get(date)\n",
    "    return name in non_working_holidays if name else False\n",
    "df['is_holiday'] = pd.to_datetime(df['pickup_date']).apply(is_non_working_holiday)\n",
    "df['weekday'] = pd.to_datetime(df['pickup_date']).dt.dayofweek\n",
    "df['pickup_date'] = pd.to_datetime(df['pickup_date'])\n",
    "df['datetime'] = df['pickup_date'] + pd.to_timedelta(df['hour'], unit='h')\n",
    "df.to_csv('dataset.csv', index=False)\n",
    "df.head().to_csv('dataset_mini.csv', index=False)\n",
    "display(df.head())\n",
    "display(df.info())"
   ]
  },
  {
   "cell_type": "code",
   "execution_count": 17,
   "id": "11d1f8e91a8ba35e",
   "metadata": {
    "ExecuteTime": {
     "end_time": "2025-05-16T20:26:17.735488Z",
     "start_time": "2025-05-16T20:26:16.356105Z"
    },
    "collapsed": false
   },
   "outputs": [
    {
     "data": {
      "image/png": "[encoded data removed]",
      "text/plain": "<Figure size 1000x500 with 1 Axes>"
     },
     "metadata": {},
     "output_type": "display_data"
    },
    {
     "data": {
      "image/png": "[encoded data removed]",
      "text/plain": "<Figure size 600x400 with 1 Axes>"
     },
     "metadata": {},
     "output_type": "display_data"
    },
    {
     "data": {
      "image/png": "[encoded data removed]",
      "text/plain": "<Figure size 1000x500 with 1 Axes>"
     },
     "metadata": {},
     "output_type": "display_data"
    },
    {
     "data": {
      "image/png": "[encoded data removed]",
      "text/plain": "<Figure size 800x500 with 1 Axes>"
     },
     "metadata": {},
     "output_type": "display_data"
    }
   ],
   "source": [
    "import matplotlib.pyplot as plt\n",
    "\n",
    "plt.figure(figsize=(10, 5))\n",
    "df.groupby('hour')['rides_per_hour'].sum().plot(kind='bar')\n",
    "plt.title('Общее количество поездок по часам суток')\n",
    "plt.xlabel('Час')\n",
    "plt.ylabel('Количество поездок')\n",
    "plt.grid(True)\n",
    "plt.tight_layout()\n",
    "plt.show()\n",
    "\n",
    "\n",
    "\n",
    "plt.figure(figsize=(6, 4))\n",
    "(\n",
    "    df.groupby(['pickup_date', 'is_holiday'])['rides_per_hour']\n",
    "    .sum()\n",
    "    .groupby('is_holiday')\n",
    "    .mean()\n",
    "    .plot(kind='bar')\n",
    ")\n",
    "plt.title('Среднее количество поездок за день: праздники vs обычные дни')\n",
    "plt.xticks([0, 1], ['Обычный день', 'Праздник'], rotation=0)\n",
    "plt.ylabel('Среднее количество поездок в день')\n",
    "plt.grid(axis='y')\n",
    "plt.tight_layout()\n",
    "plt.show()\n",
    "\n",
    "plt.figure(figsize=(10, 5))\n",
    "df.groupby('location_id')['rides_per_hour'].sum().sort_values(ascending=False).head(10).plot(kind='bar')\n",
    "plt.title('Топ-10 локаций по числу поездок')\n",
    "plt.xlabel('location_id')\n",
    "plt.ylabel('Количество поездок')\n",
    "plt.grid(True)\n",
    "plt.tight_layout()\n",
    "plt.show()\n",
    "\n",
    "plt.figure(figsize=(8, 5))\n",
    "df.groupby('weekday')['rides_per_hour'].sum().plot(kind='bar')\n",
    "plt.title('Распределение поездок по дням недели')\n",
    "plt.xlabel('День недели (0=Пн, 6=Вс)')\n",
    "plt.ylabel('Количество поездок')\n",
    "plt.grid(True)\n",
    "plt.tight_layout()\n",
    "plt.show()"
   ]
  },
  {
   "cell_type": "markdown",
   "id": "df6ae46f4b402652",
   "metadata": {
    "collapsed": false
   },
   "source": [
    "Исходя из графиков видно, что в праздничные дни заказов больше. Больше всего заказов в пт и в 18 часов вечера"
   ]
  },
  {
   "cell_type": "code",
   "execution_count": 18,
   "id": "a658a5b1b0506208",
   "metadata": {
    "ExecuteTime": {
     "end_time": "2025-05-17T05:16:27.724189Z",
     "start_time": "2025-05-16T20:26:17.735488Z"
    },
    "collapsed": false
   },
   "outputs": [
    {
     "name": "stdout",
     "output_type": "stream",
     "text": [
      "Epoch 1/12\n",
      "\u001b[1m13084/13084\u001b[0m \u001b[32m━━━━━━━━━━━━━━━━━━━━\u001b[0m\u001b[37m\u001b[0m \u001b[1m2073s\u001b[0m 158ms/step - loss: 0.2880 - mae: 0.2416 - mape: 116.6941 - val_loss: 0.0766 - val_mae: 0.1195 - val_mape: 66.2161 - learning_rate: 1.0000e-04\n",
      "Epoch 2/12\n",
      "\u001b[1m13084/13084\u001b[0m \u001b[32m━━━━━━━━━━━━━━━━━━━━\u001b[0m\u001b[37m\u001b[0m \u001b[1m2467s\u001b[0m 189ms/step - loss: 0.1325 - mae: 0.1650 - mape: 88.0926 - val_loss: 0.0673 - val_mae: 0.1117 - val_mape: 62.7192 - learning_rate: 1.0000e-04\n",
      "Epoch 3/12\n",
      "\u001b[1m13084/13084\u001b[0m \u001b[32m━━━━━━━━━━━━━━━━━━━━\u001b[0m\u001b[37m\u001b[0m \u001b[1m2530s\u001b[0m 193ms/step - loss: 0.1127 - mae: 0.1524 - mape: 82.3293 - val_loss: 0.0603 - val_mae: 0.1058 - val_mape: 57.1274 - learning_rate: 1.0000e-04\n",
      "Epoch 4/12\n",
      "\u001b[1m13084/13084\u001b[0m \u001b[32m━━━━━━━━━━━━━━━━━━━━\u001b[0m\u001b[37m\u001b[0m \u001b[1m2424s\u001b[0m 185ms/step - loss: 0.1008 - mae: 0.1441 - mape: 78.9587 - val_loss: 0.0588 - val_mae: 0.1048 - val_mape: 58.4786 - learning_rate: 1.0000e-04\n",
      "Epoch 5/12\n",
      "\u001b[1m13084/13084\u001b[0m \u001b[32m━━━━━━━━━━━━━━━━━━━━\u001b[0m\u001b[37m\u001b[0m \u001b[1m2501s\u001b[0m 191ms/step - loss: 0.0930 - mae: 0.1390 - mape: 76.5099 - val_loss: 0.0584 - val_mae: 0.1039 - val_mape: 59.0927 - learning_rate: 1.0000e-04\n",
      "Epoch 6/12\n",
      "\u001b[1m13084/13084\u001b[0m \u001b[32m━━━━━━━━━━━━━━━━━━━━\u001b[0m\u001b[37m\u001b[0m \u001b[1m2605s\u001b[0m 199ms/step - loss: 0.0874 - mae: 0.1353 - mape: 75.5920 - val_loss: 0.0557 - val_mae: 0.0994 - val_mape: 54.2859 - learning_rate: 1.0000e-04\n",
      "Epoch 7/12\n",
      "\u001b[1m13084/13084\u001b[0m \u001b[32m━━━━━━━━━━━━━━━━━━━━\u001b[0m\u001b[37m\u001b[0m \u001b[1m2606s\u001b[0m 199ms/step - loss: 0.0830 - mae: 0.1321 - mape: 74.3560 - val_loss: 0.0550 - val_mae: 0.0992 - val_mape: 53.1109 - learning_rate: 1.0000e-04\n",
      "Epoch 8/12\n",
      "\u001b[1m13084/13084\u001b[0m \u001b[32m━━━━━━━━━━━━━━━━━━━━\u001b[0m\u001b[37m\u001b[0m \u001b[1m2666s\u001b[0m 204ms/step - loss: 0.0785 - mae: 0.1290 - mape: 72.7565 - val_loss: 0.0522 - val_mae: 0.0964 - val_mape: 50.6125 - learning_rate: 1.0000e-04\n",
      "Epoch 9/12\n",
      "\u001b[1m13084/13084\u001b[0m \u001b[32m━━━━━━━━━━━━━━━━━━━━\u001b[0m\u001b[37m\u001b[0m \u001b[1m2709s\u001b[0m 207ms/step - loss: 0.0755 - mae: 0.1269 - mape: 71.7370 - val_loss: 0.0532 - val_mae: 0.0956 - val_mape: 48.7766 - learning_rate: 1.0000e-04\n",
      "Epoch 10/12\n",
      "\u001b[1m13084/13084\u001b[0m \u001b[32m━━━━━━━━━━━━━━━━━━━━\u001b[0m\u001b[37m\u001b[0m \u001b[1m2786s\u001b[0m 213ms/step - loss: 0.0742 - mae: 0.1257 - mape: 70.9370 - val_loss: 0.0509 - val_mae: 0.0942 - val_mape: 48.7523 - learning_rate: 1.0000e-04\n",
      "Epoch 11/12\n",
      "\u001b[1m13084/13084\u001b[0m \u001b[32m━━━━━━━━━━━━━━━━━━━━\u001b[0m\u001b[37m\u001b[0m \u001b[1m2864s\u001b[0m 219ms/step - loss: 0.0712 - mae: 0.1238 - mape: 70.2069 - val_loss: 0.0507 - val_mae: 0.0947 - val_mape: 50.8082 - learning_rate: 1.0000e-04\n",
      "Epoch 12/12\n",
      "\u001b[1m13084/13084\u001b[0m \u001b[32m━━━━━━━━━━━━━━━━━━━━\u001b[0m\u001b[37m\u001b[0m \u001b[1m2910s\u001b[0m 222ms/step - loss: 0.0693 - mae: 0.1222 - mape: 69.4485 - val_loss: 0.0505 - val_mae: 0.0943 - val_mape: 48.9985 - learning_rate: 1.0000e-04\n",
      "\u001b[1m8723/8723\u001b[0m \u001b[32m━━━━━━━━━━━━━━━━━━━━\u001b[0m\u001b[37m\u001b[0m \u001b[1m498s\u001b[0m 57ms/step\n",
      "                 MAE        RMSE      MAPE        R2  Composite\n",
      "LSTM       18.158443   40.185860  0.689391  0.906812  14.781721\n",
      "LinearReg  26.407629   54.251757  1.343546  0.830156  20.543194\n",
      "MovingAvg  48.478928   90.166353  2.638215  0.530833  35.438166\n",
      "Naive      60.763157  119.347461  2.715824  0.177548  45.912224\n",
      "Seasonal   64.986031  125.876144  2.881713  0.085312  48.664644\n"
     ]
    }
   ],
   "source": [
    "import pandas as pd\n",
    "import numpy as np\n",
    "\n",
    "from sklearn.preprocessing import StandardScaler\n",
    "from sklearn.metrics import (\n",
    "    mean_absolute_error,\n",
    "    mean_squared_error,\n",
    "    mean_absolute_percentage_error,\n",
    "    r2_score\n",
    ")\n",
    "from sklearn.linear_model import LinearRegression\n",
    "from sklearn.multioutput import MultiOutputRegressor\n",
    "\n",
    "from tensorflow import keras\n",
    "from tensorflow.keras import layers, callbacks, mixed_precision\n",
    "from tensorflow.keras.optimizers import Adam\n",
    "\n",
    "mixed_precision.set_global_policy('mixed_float16')\n",
    "\n",
    "df = pd.read_csv('dataset.csv')\n",
    "df['datetime'] = pd.to_datetime(df['datetime'])\n",
    "df = df.sort_values(['location_id', 'datetime']).reset_index(drop=True)\n",
    "\n",
    "def create_sequences(df, past_steps=72, future_steps=24):\n",
    "    seqs, tars = [], []\n",
    "    def cyclic_encode(arr, period):\n",
    "        sin = np.sin(2*np.pi*arr/period)\n",
    "        cos = np.cos(2*np.pi*arr/period)\n",
    "        return np.stack([sin, cos], axis=1)\n",
    "    \n",
    "    for loc in df['location_id'].unique():\n",
    "        sub = df[df['location_id']==loc].sort_values('datetime')\n",
    "        rides = sub['rides_per_hour'].values\n",
    "        hours = cyclic_encode(sub['datetime'].dt.hour.values, 24)\n",
    "        dow   = cyclic_encode(sub['datetime'].dt.dayofweek.values, 7)\n",
    "        hol   = sub['is_holiday'].astype(int).values.reshape(-1,1)\n",
    "        \n",
    "        for i in range(past_steps, len(rides)-future_steps+1):\n",
    "            window = np.concatenate([\n",
    "                rides[i-past_steps:i].reshape(-1,1),\n",
    "                hours[i-past_steps:i],\n",
    "                dow[i-past_steps:i],\n",
    "                hol[i-past_steps:i]\n",
    "            ], axis=1)\n",
    "            seqs.append(window)\n",
    "            tars.append(rides[i:i+future_steps].flatten())\n",
    "    \n",
    "    return (\n",
    "        np.array(seqs, dtype='float32'),\n",
    "        np.array(tars, dtype='float32')\n",
    "    )\n",
    "\n",
    "X, y_raw = create_sequences(df)\n",
    "\n",
    "n = len(X)\n",
    "cut1, cut2 = int(0.6*n), int(0.8*n)\n",
    "X_train, X_val,   X_test  = X[:cut1], X[cut1:cut2], X[cut2:]\n",
    "y_train_raw, y_val_raw, y_test_raw = y_raw[:cut1], y_raw[cut1:cut2], y_raw[cut2:]\n",
    "\n",
    "target_scaler = StandardScaler().fit(y_train_raw.reshape(-1,1))\n",
    "y_train = target_scaler.transform(y_train_raw.reshape(-1,1)).reshape(y_train_raw.shape)\n",
    "y_val   = target_scaler.transform(y_val_raw.reshape(-1,1)).reshape(y_val_raw.shape)\n",
    "y_test  = y_test_raw\n",
    "\n",
    "def naive_forecast(X, h=24):\n",
    "    return np.tile(X[:,-1,0:1], (1,h))\n",
    "\n",
    "def seasonal_forecast(X, season=72, h=24):\n",
    "    return np.tile(X[:,-season,0:1], (1,h))\n",
    "\n",
    "def moving_avg_forecast(X, w=72, h=24):\n",
    "    ma = np.mean(X[:,-w:,0], axis=1)\n",
    "    return np.tile(ma.reshape(-1,1),(1,h))\n",
    "\n",
    "X_train_flat = X_train.reshape(len(X_train), -1)\n",
    "X_test_flat  = X_test.reshape(len(X_test),  -1)\n",
    "reg = MultiOutputRegressor(LinearRegression())\n",
    "reg.fit(X_train_flat, y_train_raw)\n",
    "y_reg = reg.predict(X_test_flat)\n",
    "\n",
    "def build_lstm_model(input_shape, output_steps):\n",
    "    inp = keras.Input(shape=input_shape)\n",
    "    x = layers.LSTM(128, return_sequences=True)(inp)\n",
    "    x = layers.Dropout(0.3)(x)\n",
    "    x = layers.LSTM(64)(x)\n",
    "    x = layers.Dropout(0.2)(x)\n",
    "    x = layers.Dense(64, activation='relu')(x)\n",
    "    out = layers.Dense(output_steps)(x)\n",
    "    m = keras.Model(inp, out)\n",
    "    m.compile(\n",
    "        optimizer=Adam(1e-4),\n",
    "        loss='mse',\n",
    "        metrics=['mae','mape']\n",
    "    )\n",
    "    return m\n",
    "\n",
    "lstm = build_lstm_model(X_train.shape[1:], y_train.shape[1])\n",
    "\n",
    "es = callbacks.EarlyStopping(monitor='val_loss', patience=10, restore_best_weights=True)\n",
    "rl = callbacks.ReduceLROnPlateau(monitor='val_loss', factor=0.2, patience=5, min_lr=1e-6)\n",
    "\n",
    "lstm.fit(\n",
    "    X_train, y_train,\n",
    "    validation_data=(X_val, y_val),\n",
    "    epochs=12, batch_size=64,\n",
    "    callbacks=[es, rl], verbose=1\n",
    ")\n",
    "\n",
    "y_lstm_scaled = lstm.predict(X_test)\n",
    "y_lstm = target_scaler.inverse_transform(\n",
    "    y_lstm_scaled.reshape(-1,1)\n",
    ").reshape(y_lstm_scaled.shape)\n",
    "\n",
    "def evaluate(y_true, y_pred):\n",
    "    mae  = mean_absolute_error(y_true, y_pred)\n",
    "    rmse = np.sqrt(mean_squared_error(y_true, y_pred))\n",
    "    mape = mean_absolute_percentage_error(y_true, y_pred)\n",
    "    r2   = r2_score(y_true, y_pred, multioutput='uniform_average')\n",
    "    comp = (mae + rmse + mape + (1-r2)) / 4\n",
    "    return {'MAE': mae, 'RMSE': rmse, 'MAPE': mape, 'R2': r2, 'Composite': comp}\n",
    "\n",
    "results = {\n",
    "    'Naive':    evaluate(y_test_raw, naive_forecast(X_test)),\n",
    "    'Seasonal': evaluate(y_test_raw, seasonal_forecast(X_test)),\n",
    "    'MovingAvg':evaluate(y_test_raw, moving_avg_forecast(X_test)),\n",
    "    'LinearReg':evaluate(y_test_raw, y_reg),\n",
    "    'LSTM':     evaluate(y_test_raw, y_lstm)\n",
    "}\n",
    "\n",
    "import pandas as pd\n",
    "print(pd.DataFrame(results).T.sort_values('MAE'))\n"
   ]
  },
  {
   "cell_type": "markdown",
   "id": "cfd72efa4c04b6c1",
   "metadata": {
    "collapsed": false
   },
   "source": [
    "## Описание задачи\n",
    "\n",
    "### Что прогнозирует модель\n",
    "\n",
    "Модель прогнозирует **почасовой спрос на такси** в каждом районе (`location_id`) на горизонте **24 часа вперёд**, используя исторические данные за **последние 72 часа**.\n",
    "\n",
    "---\n",
    "\n",
    "### Используемые дополнительные признаки\n",
    "\n",
    "Для повышения точности прогноза, помимо нормализованного временного ряда (`rides_per_hour`), добавлены:\n",
    "\n",
    "- **Циклические признаки**:\n",
    "  - `sin(hour)`, `cos(hour)` — чтобы учесть суточную периодичность;\n",
    "  - `sin(day_of_week)`, `cos(day_of_week)` — чтобы уловить недельные шаблоны.\n",
    "- **Признак праздника** (`is_holiday`) — бинарный флаг для учёта скачков спроса в нерабочие дни.\n",
    "\n",
    "---\n",
    "\n",
    "### LSTM модель\n",
    "\n",
    "- **Архитектура**: два слоя LSTM (`128 → 64` units) + Dropout (0.3 и 0.2) + полносвязные слои.\n",
    "- **Форма входа**: последовательность длиной 72, где каждый шаг содержит 6 признаков.\n",
    "- **Форма выхода**: вектор длиной 24 — прогноз на каждый из следующих 24 часов.\n",
    "- **Функция потерь**: `MSE`.\n",
    "- **Метрики в обучении**: `MAE`, `MAPE`.\n",
    "\n",
    "---\n",
    "\n",
    "### Baseline-модели\n",
    "\n",
    "| Модель       | Описание                                                        |\n",
    "|--------------|------------------------------------------------------------------|\n",
    "| `Naive`      | повторяет последнее наблюдение (`t-1`)                          |\n",
    "| `Seasonal`   | использует значение из 72 часов назад (`t-72`)                  |\n",
    "| `MovingAvg`  | среднее по последним 72 часам                                   |\n",
    "| `LinearReg`  | мультивыходная линейная регрессия по входным признакам окна     |\n",
    "\n",
    "---\n",
    "\n",
    "### Выбор и цель метрик\n",
    "\n",
    "- **MAE** (Mean Absolute Error):  \n",
    "  Средняя абсолютная ошибка. Простая, интерпретируемая метрика.\n",
    "\n",
    "- **RMSE** (Root Mean Squared Error):  \n",
    "  Усиливает вклад больших ошибок, помогает выявить выбросы.\n",
    "\n",
    "- **MAPE** (Mean Absolute Percentage Error):  \n",
    "  Относительная ошибка в %. Удобна, когда важно понимать долю ошибки от истинного значения.\n",
    "\n",
    "- **R²-score** (Коэффициент детерминации):  \n",
    "  Показывает, насколько модель лучше наивного среднего. Значение от 0 до 1 (чем ближе к 1 — тем лучше).\n",
    "\n",
    "- **Composite метрика**:  \n",
    "  Среднее значение по четырём предыдущим метрикам (включая `1 − R²` как штраф за слабое объяснение).  \n",
    "  Используется как **сводная метрика качества** модели.\n",
    "\n",
    "---\n",
    "\n",
    "### Анализ результатов\n",
    "\n",
    "1. **LSTM**\n",
    "   - Показала наименьшие ошибки по абсолютным (MAE, RMSE) и относительным (MAPE) метрикам.\n",
    "   - Высокий R² указывает на то, что сеть объясняет большую часть флуктуаций спроса.\n",
    "   - Низкая Composite-метрика подтверждает сбалансированное качество прогноза.\n",
    "\n",
    "2. **Линейная регрессия (LinearReg)**\n",
    "   - Работает заметно хуже LSTM, но лучше простых базовых стратегий.\n",
    "   - Относительно высокая R² показывает, что часть сезонных и трэндовых закономерностей модель схватывает.\n",
    "   - Composite-метрика выше, чем у LSTM, что говорит об ограничениях линейного предположения.\n",
    "\n",
    "3. **Moving Average**\n",
    "   - Лучше наивного прогноза, но уступает и LSTM, и регрессии.\n",
    "   - Средняя прогнозная ошибка в разы больше, чем у LSTM.\n",
    "   - R² в районе 0.4–0.5 показывает, что метод ловит лишь часть общей динамики.\n",
    "\n",
    "4. **Наивный прогноз (Naive)**\n",
    "   - Повтор предыдущего значения даёт слишком грубую оценку: самые высокие MAE/RMSE и MAPE.\n",
    "   - R² близок к нулю — модель почти не улучшает случайный прогноз.\n",
    "   - Composite-метрика самая большая, классифицирует прогноз как некорректный.\n",
    "\n",
    "5. **Seasonal (лаг 3 дня)**\n",
    "   - Уступает всем остальным: самая большая ошибка и отрицательный R².\n",
    "   - Метод плохо адаптируется к изменению паттернов, резко отстаёт при пиковых загрузках.\n",
    "\n",
    "---\n",
    "\n",
    "- **LSTM** — оптимальный выбор для прогноза почасового спроса: сочетает низкую погрешность и высокую объясняющую способность.\n"
   ]
  },
  {
   "cell_type": "code",
   "execution_count": 18,
   "id": "b37bb0a902201f5a",
   "metadata": {
    "ExecuteTime": {
     "end_time": "2025-05-17T05:16:27.727544Z",
     "start_time": "2025-05-17T05:16:27.725192Z"
    },
    "collapsed": false
   },
   "outputs": [],
   "source": []
  }
 ],
 "metadata": {
  "kernelspec": {
   "display_name": "Python 3",
   "language": "python",
   "name": "python3"
  },
  "language_info": {
   "codemirror_mode": {
    "name": "ipython",
    "version": 2
   },
   "file_extension": ".py",
   "mimetype": "text/x-python",
   "name": "python",
   "nbconvert_exporter": "python",
   "pygments_lexer": "ipython2",
   "version": "2.7.6"
  }
 },
 "nbformat": 4,
 "nbformat_minor": 5
}
