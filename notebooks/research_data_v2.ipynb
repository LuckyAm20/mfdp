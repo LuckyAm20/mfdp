{
 "cells": [
  {
   "cell_type": "markdown",
   "source": [
    "# Прогноз часового спроса такси по районам — улучшенная версия"
   ],
   "metadata": {
    "collapsed": false
   },
   "id": "6aff30c8262e8007"
  },
  {
   "cell_type": "markdown",
   "source": [
    "## Пайплайн предобработки / FE / генерации данных"
   ],
   "metadata": {
    "collapsed": false
   },
   "id": "c009d4aebe5ba04"
  },
  {
   "cell_type": "code",
   "outputs": [],
   "source": [
    "import os\n",
    "import glob\n",
    "import zipfile\n",
    "import gdown\n",
    "import holidays\n",
    "import pandas as pd\n",
    "import numpy as np\n",
    "from meteostat import Stations, Hourly\n",
    "from datetime import datetime"
   ],
   "metadata": {
    "collapsed": false,
    "ExecuteTime": {
     "end_time": "2025-05-26T21:07:48.661192Z",
     "start_time": "2025-05-26T21:07:48.618092Z"
    }
   },
   "id": "d3ac6d4782c444ca",
   "execution_count": 49
  },
  {
   "cell_type": "code",
   "outputs": [],
   "source": [
    "def load_raw_data():\n",
    "    file_id = '1CnRB4eA5dZQrw9-tPkInfdudvvQ1EvFp'\n",
    "    archive = 'mfdp_data_v2.zip'\n",
    "    gdown.download(id=file_id, output=archive, quiet=False)\n",
    "    with zipfile.ZipFile(archive, 'r') as zip_ref:\n",
    "        zip_ref.extractall()\n",
    "    for f in os.listdir():\n",
    "        if f.startswith(archive): os.remove(f)\n",
    "    dfs = []\n",
    "    for path in glob.glob('mfdp_data/*.parquet'):\n",
    "        df = pd.read_parquet(path)\n",
    "        fname = path.lower()\n",
    "        if 'yellow' in fname:\n",
    "            df = df.rename(columns={'tpep_pickup_datetime': 'pickup_datetime', 'PULocationID': 'location_id'})\n",
    "        elif 'green' in fname:\n",
    "            df = df.rename(columns={'lpep_pickup_datetime': 'pickup_datetime', 'PULocationID': 'location_id'})\n",
    "        elif 'fhvhv' in fname:\n",
    "            df = df.rename(columns={'pickup_datetime': 'pickup_datetime', 'PULocationID': 'location_id'})\n",
    "        if 'pickup_datetime' in df.columns and 'location_id' in df.columns:\n",
    "            df = df[['pickup_datetime', 'location_id']]\n",
    "            df['pickup_datetime'] = pd.to_datetime(df['pickup_datetime'], errors='coerce')\n",
    "            df = df.dropna().drop_duplicates()\n",
    "            dfs.append(df)\n",
    "    combined = pd.concat(dfs, ignore_index=True).drop_duplicates().reset_index(drop=True)\n",
    "    combined = combined[(combined['pickup_datetime'] >= '2024-01-01') & (combined['pickup_datetime'] < '2025-03-01')]\n",
    "    combined['date'] = combined['pickup_datetime'].dt.date\n",
    "    combined['hour'] = combined['pickup_datetime'].dt.hour\n",
    "    combined = combined.drop(columns=['pickup_datetime'])\n",
    "    return combined"
   ],
   "metadata": {
    "collapsed": false,
    "ExecuteTime": {
     "end_time": "2025-05-26T21:07:48.681154Z",
     "start_time": "2025-05-26T21:07:48.667200Z"
    }
   },
   "id": "71038789cb42be63",
   "execution_count": 50
  },
  {
   "cell_type": "code",
   "outputs": [],
   "source": [
    "def aggregate_trips(df):\n",
    "    return df.groupby(['date', 'hour', 'location_id']).size().reset_index(name='trips_count')"
   ],
   "metadata": {
    "collapsed": false,
    "ExecuteTime": {
     "end_time": "2025-05-26T21:07:48.687661Z",
     "start_time": "2025-05-26T21:07:48.681154Z"
    }
   },
   "id": "848857260138675d",
   "execution_count": 51
  },
  {
   "cell_type": "code",
   "outputs": [],
   "source": [
    "def engineer_features(df):\n",
    "    \"\"\"Engineer calendar, lag, cyclic and rolling features.\"\"\"\n",
    "    us_holidays = holidays.US()\n",
    "    non_working = {'New Year\\'s Day', 'MLK Day', 'Washington\\'s Birthday', 'Memorial Day',\n",
    "                   'Juneteenth', 'Independence Day', 'Labor Day', 'Thanksgiving', 'Christmas Day'}\n",
    "    df['date'] = pd.to_datetime(df['date'])\n",
    "    df['day_of_week'] = df['date'].dt.dayofweek\n",
    "    df['month'] = df['date'].dt.month\n",
    "    df['is_weekend'] = (df['day_of_week'] >= 5).astype(int)\n",
    "    df['is_holiday'] = df['date'].apply(lambda d: us_holidays.get(d.date()) in non_working)\n",
    "    df['is_month_start'] = df['date'].dt.is_month_start.astype(int)\n",
    "    df['is_month_end'] = df['date'].dt.is_month_end.astype(int)\n",
    "    df['day_of_year'] = df['date'].dt.dayofyear\n",
    "    df['week_of_year'] = df['date'].dt.isocalendar().week.astype(int)\n",
    "    df['is_pre_holiday'] = df['date'].shift(-1).apply(lambda d: us_holidays.get(d.date()) in non_working)\n",
    "    df['is_post_holiday'] = df['date'].shift(1).apply(lambda d: us_holidays.get(d.date()) in non_working)\n",
    "    df['lag_1h'] = df.groupby('location_id')['trips_count'].shift(1).bfill()\n",
    "    df['lag_24h'] = df.groupby('location_id')['trips_count'].shift(24).bfill()\n",
    "    df['lag_168h'] = df.groupby('location_id')['trips_count'].shift(168).bfill()\n",
    "    df['hour_sin'] = np.sin(2 * np.pi * df['hour'] / 24)\n",
    "    df['hour_cos'] = np.cos(2 * np.pi * df['hour'] / 24)\n",
    "    df['dow_sin'] = np.sin(2 * np.pi * df['day_of_week'] / 7)\n",
    "    df['dow_cos'] = np.cos(2 * np.pi * df['day_of_week'] / 7)\n",
    "    roll = df.groupby('location_id')['trips_count'].rolling(168, min_periods=1)\n",
    "    df['roll_168h_mean'] = roll.mean().reset_index(level=0, drop=True)\n",
    "    df['roll_168h_median'] = roll.median().reset_index(level=0, drop=True)\n",
    "    df['roll_168h_std'] = roll.std().reset_index(level=0, drop=True).fillna(0)\n",
    "    df['time_idx'] = df.groupby('location_id').cumcount()\n",
    "    return df"
   ],
   "metadata": {
    "collapsed": false,
    "ExecuteTime": {
     "end_time": "2025-05-26T21:07:48.702615Z",
     "start_time": "2025-05-26T21:07:48.688667Z"
    }
   },
   "id": "889e3209881f1e70",
   "execution_count": 52
  },
  {
   "cell_type": "code",
   "outputs": [],
   "source": [
    "def merge_weather(df):\n",
    "    start = datetime(2024, 1, 1)\n",
    "    end = datetime(2025, 5, 1)\n",
    "    station = Stations().nearby(40.7128, -74.0060).fetch(1).index[0]\n",
    "    weather = Hourly(station, start, end).fetch().reset_index()\n",
    "    weather['date'] = weather['time'].dt.date\n",
    "    weather['hour'] = weather['time'].dt.hour\n",
    "    weather = weather[['date', 'hour', 'temp', 'prcp', 'wspd']]\n",
    "    weather['date'] = pd.to_datetime(weather['date'])\n",
    "    return df.merge(weather, on=['date', 'hour'], how='left')"
   ],
   "metadata": {
    "collapsed": false,
    "ExecuteTime": {
     "end_time": "2025-05-26T21:07:48.710833Z",
     "start_time": "2025-05-26T21:07:48.704623Z"
    }
   },
   "id": "d279b513fbc5c2",
   "execution_count": 53
  },
  {
   "cell_type": "code",
   "outputs": [],
   "source": [
    "def save_data(df, output='result_lstm.csv'):\n",
    "    df['datetime'] = pd.to_datetime(df['date'].dt.strftime('%Y-%m-%d') + ' ' + df['hour'].astype(str) + ':00')\n",
    "    df = df.sort_values(['location_id', 'datetime']).reset_index(drop=True)\n",
    "    df = df.drop(['datetime'], axis=1)\n",
    "    df.to_csv(output, index=False)\n",
    "    df.head(n=100).to_csv('result_lstm_test.csv', index=False)\n",
    "    return df"
   ],
   "metadata": {
    "collapsed": false,
    "ExecuteTime": {
     "end_time": "2025-05-26T21:07:48.715797Z",
     "start_time": "2025-05-26T21:07:48.711839Z"
    }
   },
   "id": "3f3f8adb6adacbbb",
   "execution_count": 54
  },
  {
   "cell_type": "code",
   "outputs": [],
   "source": [
    "def pipeline():\n",
    "    df = load_raw_data()\n",
    "    df = aggregate_trips(df)\n",
    "    df = engineer_features(df)\n",
    "    df = merge_weather(df)\n",
    "    df = save_data(df)\n",
    "    return df"
   ],
   "metadata": {
    "collapsed": false,
    "ExecuteTime": {
     "end_time": "2025-05-26T21:07:48.719578Z",
     "start_time": "2025-05-26T21:07:48.716804Z"
    }
   },
   "id": "dfd216db996ee2cd",
   "execution_count": 55
  },
  {
   "cell_type": "code",
   "outputs": [
    {
     "name": "stderr",
     "output_type": "stream",
     "text": [
      "Downloading...\n",
      "From (original): https://drive.google.com/uc?id=1CnRB4eA5dZQrw9-tPkInfdudvvQ1EvFp\n",
      "From (redirected): https://drive.google.com/uc?id=1CnRB4eA5dZQrw9-tPkInfdudvvQ1EvFp&confirm=t&uuid=52531899-6f15-473e-9432-d7ea8bc46f04\n",
      "To: C:\\Users\\Misha\\PycharmProjects\\mfdp\\mfdp_data_v2.zip\n",
      "100%|██████████| 1.87G/1.87G [02:41<00:00, 11.6MB/s]\n"
     ]
    },
    {
     "data": {
      "text/plain": "   location_id        date  hour\n0          149  2024-02-01     0\n1          127  2024-02-01     0\n2          127  2024-02-01     0\n3          169  2024-02-01     0\n4          142  2024-02-01     0",
      "text/html": "<div>\n<style scoped>\n    .dataframe tbody tr th:only-of-type {\n        vertical-align: middle;\n    }\n\n    .dataframe tbody tr th {\n        vertical-align: top;\n    }\n\n    .dataframe thead th {\n        text-align: right;\n    }\n</style>\n<table border=\"1\" class=\"dataframe\">\n  <thead>\n    <tr style=\"text-align: right;\">\n      <th></th>\n      <th>location_id</th>\n      <th>date</th>\n      <th>hour</th>\n    </tr>\n  </thead>\n  <tbody>\n    <tr>\n      <th>0</th>\n      <td>149</td>\n      <td>2024-02-01</td>\n      <td>0</td>\n    </tr>\n    <tr>\n      <th>1</th>\n      <td>127</td>\n      <td>2024-02-01</td>\n      <td>0</td>\n    </tr>\n    <tr>\n      <th>2</th>\n      <td>127</td>\n      <td>2024-02-01</td>\n      <td>0</td>\n    </tr>\n    <tr>\n      <th>3</th>\n      <td>169</td>\n      <td>2024-02-01</td>\n      <td>0</td>\n    </tr>\n    <tr>\n      <th>4</th>\n      <td>142</td>\n      <td>2024-02-01</td>\n      <td>0</td>\n    </tr>\n  </tbody>\n</table>\n</div>"
     },
     "execution_count": 56,
     "metadata": {},
     "output_type": "execute_result"
    }
   ],
   "source": [
    "df1 = load_raw_data()\n",
    "df1.head()"
   ],
   "metadata": {
    "collapsed": false,
    "ExecuteTime": {
     "end_time": "2025-05-26T21:12:25.023348Z",
     "start_time": "2025-05-26T21:07:48.719578Z"
    }
   },
   "id": "b394f57c49f0c417",
   "execution_count": 56
  },
  {
   "cell_type": "code",
   "outputs": [
    {
     "data": {
      "text/plain": "         date  hour  location_id  trips_count\n0  2024-01-01     0            4           24\n1  2024-01-01     0            7            4\n2  2024-01-01     0            9            1\n3  2024-01-01     0           10            6\n4  2024-01-01     0           12            4",
      "text/html": "<div>\n<style scoped>\n    .dataframe tbody tr th:only-of-type {\n        vertical-align: middle;\n    }\n\n    .dataframe tbody tr th {\n        vertical-align: top;\n    }\n\n    .dataframe thead th {\n        text-align: right;\n    }\n</style>\n<table border=\"1\" class=\"dataframe\">\n  <thead>\n    <tr style=\"text-align: right;\">\n      <th></th>\n      <th>date</th>\n      <th>hour</th>\n      <th>location_id</th>\n      <th>trips_count</th>\n    </tr>\n  </thead>\n  <tbody>\n    <tr>\n      <th>0</th>\n      <td>2024-01-01</td>\n      <td>0</td>\n      <td>4</td>\n      <td>24</td>\n    </tr>\n    <tr>\n      <th>1</th>\n      <td>2024-01-01</td>\n      <td>0</td>\n      <td>7</td>\n      <td>4</td>\n    </tr>\n    <tr>\n      <th>2</th>\n      <td>2024-01-01</td>\n      <td>0</td>\n      <td>9</td>\n      <td>1</td>\n    </tr>\n    <tr>\n      <th>3</th>\n      <td>2024-01-01</td>\n      <td>0</td>\n      <td>10</td>\n      <td>6</td>\n    </tr>\n    <tr>\n      <th>4</th>\n      <td>2024-01-01</td>\n      <td>0</td>\n      <td>12</td>\n      <td>4</td>\n    </tr>\n  </tbody>\n</table>\n</div>"
     },
     "execution_count": 57,
     "metadata": {},
     "output_type": "execute_result"
    }
   ],
   "source": [
    "df2 = aggregate_trips(df1)\n",
    "df2.head()"
   ],
   "metadata": {
    "collapsed": false,
    "ExecuteTime": {
     "end_time": "2025-05-26T21:12:37.143829Z",
     "start_time": "2025-05-26T21:12:25.024353Z"
    }
   },
   "id": "18e61e511d4b930f",
   "execution_count": 57
  },
  {
   "cell_type": "code",
   "outputs": [
    {
     "data": {
      "text/plain": "        date  hour  location_id  trips_count  day_of_week  month  is_weekend  \\\n0 2024-01-01     0            4           24            0      1           0   \n1 2024-01-01     0            7            4            0      1           0   \n2 2024-01-01     0            9            1            0      1           0   \n3 2024-01-01     0           10            6            0      1           0   \n4 2024-01-01     0           12            4            0      1           0   \n\n   is_holiday  is_month_start  is_month_end  ...  lag_24h  lag_168h  hour_sin  \\\n0        True               1             0  ...     35.0     146.0       0.0   \n1        True               1             0  ...     35.0     146.0       0.0   \n2        True               1             0  ...     35.0     146.0       0.0   \n3        True               1             0  ...     35.0     146.0       0.0   \n4        True               1             0  ...     35.0     146.0       0.0   \n\n   hour_cos  dow_sin  dow_cos  roll_168h_mean  roll_168h_median  \\\n0       1.0      0.0      1.0            24.0              24.0   \n1       1.0      0.0      1.0             4.0               4.0   \n2       1.0      0.0      1.0             1.0               1.0   \n3       1.0      0.0      1.0             6.0               6.0   \n4       1.0      0.0      1.0             4.0               4.0   \n\n   roll_168h_std  time_idx  \n0            0.0         0  \n1            0.0         0  \n2            0.0         0  \n3            0.0         0  \n4            0.0         0  \n\n[5 rows x 25 columns]",
      "text/html": "<div>\n<style scoped>\n    .dataframe tbody tr th:only-of-type {\n        vertical-align: middle;\n    }\n\n    .dataframe tbody tr th {\n        vertical-align: top;\n    }\n\n    .dataframe thead th {\n        text-align: right;\n    }\n</style>\n<table border=\"1\" class=\"dataframe\">\n  <thead>\n    <tr style=\"text-align: right;\">\n      <th></th>\n      <th>date</th>\n      <th>hour</th>\n      <th>location_id</th>\n      <th>trips_count</th>\n      <th>day_of_week</th>\n      <th>month</th>\n      <th>is_weekend</th>\n      <th>is_holiday</th>\n      <th>is_month_start</th>\n      <th>is_month_end</th>\n      <th>...</th>\n      <th>lag_24h</th>\n      <th>lag_168h</th>\n      <th>hour_sin</th>\n      <th>hour_cos</th>\n      <th>dow_sin</th>\n      <th>dow_cos</th>\n      <th>roll_168h_mean</th>\n      <th>roll_168h_median</th>\n      <th>roll_168h_std</th>\n      <th>time_idx</th>\n    </tr>\n  </thead>\n  <tbody>\n    <tr>\n      <th>0</th>\n      <td>2024-01-01</td>\n      <td>0</td>\n      <td>4</td>\n      <td>24</td>\n      <td>0</td>\n      <td>1</td>\n      <td>0</td>\n      <td>True</td>\n      <td>1</td>\n      <td>0</td>\n      <td>...</td>\n      <td>35.0</td>\n      <td>146.0</td>\n      <td>0.0</td>\n      <td>1.0</td>\n      <td>0.0</td>\n      <td>1.0</td>\n      <td>24.0</td>\n      <td>24.0</td>\n      <td>0.0</td>\n      <td>0</td>\n    </tr>\n    <tr>\n      <th>1</th>\n      <td>2024-01-01</td>\n      <td>0</td>\n      <td>7</td>\n      <td>4</td>\n      <td>0</td>\n      <td>1</td>\n      <td>0</td>\n      <td>True</td>\n      <td>1</td>\n      <td>0</td>\n      <td>...</td>\n      <td>35.0</td>\n      <td>146.0</td>\n      <td>0.0</td>\n      <td>1.0</td>\n      <td>0.0</td>\n      <td>1.0</td>\n      <td>4.0</td>\n      <td>4.0</td>\n      <td>0.0</td>\n      <td>0</td>\n    </tr>\n    <tr>\n      <th>2</th>\n      <td>2024-01-01</td>\n      <td>0</td>\n      <td>9</td>\n      <td>1</td>\n      <td>0</td>\n      <td>1</td>\n      <td>0</td>\n      <td>True</td>\n      <td>1</td>\n      <td>0</td>\n      <td>...</td>\n      <td>35.0</td>\n      <td>146.0</td>\n      <td>0.0</td>\n      <td>1.0</td>\n      <td>0.0</td>\n      <td>1.0</td>\n      <td>1.0</td>\n      <td>1.0</td>\n      <td>0.0</td>\n      <td>0</td>\n    </tr>\n    <tr>\n      <th>3</th>\n      <td>2024-01-01</td>\n      <td>0</td>\n      <td>10</td>\n      <td>6</td>\n      <td>0</td>\n      <td>1</td>\n      <td>0</td>\n      <td>True</td>\n      <td>1</td>\n      <td>0</td>\n      <td>...</td>\n      <td>35.0</td>\n      <td>146.0</td>\n      <td>0.0</td>\n      <td>1.0</td>\n      <td>0.0</td>\n      <td>1.0</td>\n      <td>6.0</td>\n      <td>6.0</td>\n      <td>0.0</td>\n      <td>0</td>\n    </tr>\n    <tr>\n      <th>4</th>\n      <td>2024-01-01</td>\n      <td>0</td>\n      <td>12</td>\n      <td>4</td>\n      <td>0</td>\n      <td>1</td>\n      <td>0</td>\n      <td>True</td>\n      <td>1</td>\n      <td>0</td>\n      <td>...</td>\n      <td>35.0</td>\n      <td>146.0</td>\n      <td>0.0</td>\n      <td>1.0</td>\n      <td>0.0</td>\n      <td>1.0</td>\n      <td>4.0</td>\n      <td>4.0</td>\n      <td>0.0</td>\n      <td>0</td>\n    </tr>\n  </tbody>\n</table>\n<p>5 rows × 25 columns</p>\n</div>"
     },
     "execution_count": 58,
     "metadata": {},
     "output_type": "execute_result"
    }
   ],
   "source": [
    "df3 = engineer_features(df2)\n",
    "df3.head()"
   ],
   "metadata": {
    "collapsed": false,
    "ExecuteTime": {
     "end_time": "2025-05-26T21:12:43.635956Z",
     "start_time": "2025-05-26T21:12:37.144833Z"
    }
   },
   "id": "5d949550f9ac6a03",
   "execution_count": 58
  },
  {
   "cell_type": "code",
   "outputs": [
    {
     "data": {
      "text/plain": "        date  hour  location_id  trips_count  day_of_week  month  is_weekend  \\\n0 2024-01-01     0            4           24            0      1           0   \n1 2024-01-01     0            7            4            0      1           0   \n2 2024-01-01     0            9            1            0      1           0   \n3 2024-01-01     0           10            6            0      1           0   \n4 2024-01-01     0           12            4            0      1           0   \n\n   is_holiday  is_month_start  is_month_end  ...  hour_cos  dow_sin  dow_cos  \\\n0        True               1             0  ...       1.0      0.0      1.0   \n1        True               1             0  ...       1.0      0.0      1.0   \n2        True               1             0  ...       1.0      0.0      1.0   \n3        True               1             0  ...       1.0      0.0      1.0   \n4        True               1             0  ...       1.0      0.0      1.0   \n\n   roll_168h_mean  roll_168h_median  roll_168h_std  time_idx  temp  prcp  wspd  \n0            24.0              24.0            0.0         0   6.0   0.0  11.0  \n1             4.0               4.0            0.0         0   6.0   0.0  11.0  \n2             1.0               1.0            0.0         0   6.0   0.0  11.0  \n3             6.0               6.0            0.0         0   6.0   0.0  11.0  \n4             4.0               4.0            0.0         0   6.0   0.0  11.0  \n\n[5 rows x 28 columns]",
      "text/html": "<div>\n<style scoped>\n    .dataframe tbody tr th:only-of-type {\n        vertical-align: middle;\n    }\n\n    .dataframe tbody tr th {\n        vertical-align: top;\n    }\n\n    .dataframe thead th {\n        text-align: right;\n    }\n</style>\n<table border=\"1\" class=\"dataframe\">\n  <thead>\n    <tr style=\"text-align: right;\">\n      <th></th>\n      <th>date</th>\n      <th>hour</th>\n      <th>location_id</th>\n      <th>trips_count</th>\n      <th>day_of_week</th>\n      <th>month</th>\n      <th>is_weekend</th>\n      <th>is_holiday</th>\n      <th>is_month_start</th>\n      <th>is_month_end</th>\n      <th>...</th>\n      <th>hour_cos</th>\n      <th>dow_sin</th>\n      <th>dow_cos</th>\n      <th>roll_168h_mean</th>\n      <th>roll_168h_median</th>\n      <th>roll_168h_std</th>\n      <th>time_idx</th>\n      <th>temp</th>\n      <th>prcp</th>\n      <th>wspd</th>\n    </tr>\n  </thead>\n  <tbody>\n    <tr>\n      <th>0</th>\n      <td>2024-01-01</td>\n      <td>0</td>\n      <td>4</td>\n      <td>24</td>\n      <td>0</td>\n      <td>1</td>\n      <td>0</td>\n      <td>True</td>\n      <td>1</td>\n      <td>0</td>\n      <td>...</td>\n      <td>1.0</td>\n      <td>0.0</td>\n      <td>1.0</td>\n      <td>24.0</td>\n      <td>24.0</td>\n      <td>0.0</td>\n      <td>0</td>\n      <td>6.0</td>\n      <td>0.0</td>\n      <td>11.0</td>\n    </tr>\n    <tr>\n      <th>1</th>\n      <td>2024-01-01</td>\n      <td>0</td>\n      <td>7</td>\n      <td>4</td>\n      <td>0</td>\n      <td>1</td>\n      <td>0</td>\n      <td>True</td>\n      <td>1</td>\n      <td>0</td>\n      <td>...</td>\n      <td>1.0</td>\n      <td>0.0</td>\n      <td>1.0</td>\n      <td>4.0</td>\n      <td>4.0</td>\n      <td>0.0</td>\n      <td>0</td>\n      <td>6.0</td>\n      <td>0.0</td>\n      <td>11.0</td>\n    </tr>\n    <tr>\n      <th>2</th>\n      <td>2024-01-01</td>\n      <td>0</td>\n      <td>9</td>\n      <td>1</td>\n      <td>0</td>\n      <td>1</td>\n      <td>0</td>\n      <td>True</td>\n      <td>1</td>\n      <td>0</td>\n      <td>...</td>\n      <td>1.0</td>\n      <td>0.0</td>\n      <td>1.0</td>\n      <td>1.0</td>\n      <td>1.0</td>\n      <td>0.0</td>\n      <td>0</td>\n      <td>6.0</td>\n      <td>0.0</td>\n      <td>11.0</td>\n    </tr>\n    <tr>\n      <th>3</th>\n      <td>2024-01-01</td>\n      <td>0</td>\n      <td>10</td>\n      <td>6</td>\n      <td>0</td>\n      <td>1</td>\n      <td>0</td>\n      <td>True</td>\n      <td>1</td>\n      <td>0</td>\n      <td>...</td>\n      <td>1.0</td>\n      <td>0.0</td>\n      <td>1.0</td>\n      <td>6.0</td>\n      <td>6.0</td>\n      <td>0.0</td>\n      <td>0</td>\n      <td>6.0</td>\n      <td>0.0</td>\n      <td>11.0</td>\n    </tr>\n    <tr>\n      <th>4</th>\n      <td>2024-01-01</td>\n      <td>0</td>\n      <td>12</td>\n      <td>4</td>\n      <td>0</td>\n      <td>1</td>\n      <td>0</td>\n      <td>True</td>\n      <td>1</td>\n      <td>0</td>\n      <td>...</td>\n      <td>1.0</td>\n      <td>0.0</td>\n      <td>1.0</td>\n      <td>4.0</td>\n      <td>4.0</td>\n      <td>0.0</td>\n      <td>0</td>\n      <td>6.0</td>\n      <td>0.0</td>\n      <td>11.0</td>\n    </tr>\n  </tbody>\n</table>\n<p>5 rows × 28 columns</p>\n</div>"
     },
     "execution_count": 59,
     "metadata": {},
     "output_type": "execute_result"
    }
   ],
   "source": [
    "df4 = merge_weather(df3)\n",
    "df4.head()"
   ],
   "metadata": {
    "collapsed": false,
    "ExecuteTime": {
     "end_time": "2025-05-26T21:12:43.885811Z",
     "start_time": "2025-05-26T21:12:43.636961Z"
    }
   },
   "id": "17fb20229ce9a130",
   "execution_count": 59
  },
  {
   "cell_type": "code",
   "outputs": [
    {
     "data": {
      "text/plain": "        date  hour  location_id  trips_count  day_of_week  month  is_weekend  \\\n0 2024-01-01     5            1            1            0      1           0   \n1 2024-01-01     6            1            3            0      1           0   \n2 2024-01-01    13            1            3            0      1           0   \n3 2024-01-01    14            1            6            0      1           0   \n4 2024-01-01    15            1            2            0      1           0   \n\n   is_holiday  is_month_start  is_month_end  ...      hour_cos  dow_sin  \\\n0        True               1             0  ...  2.588190e-01      0.0   \n1        True               1             0  ...  6.123234e-17      0.0   \n2        True               1             0  ... -9.659258e-01      0.0   \n3        True               1             0  ... -8.660254e-01      0.0   \n4        True               1             0  ... -7.071068e-01      0.0   \n\n   dow_cos  roll_168h_mean  roll_168h_median  roll_168h_std  time_idx  temp  \\\n0      1.0        1.000000               1.0       0.000000         0   5.6   \n1      1.0        2.000000               2.0       1.414214         1   5.6   \n2      1.0        2.333333               3.0       1.154701         2   5.0   \n3      1.0        3.250000               3.0       2.061553         3   5.0   \n4      1.0        3.000000               3.0       1.870829         4   5.6   \n\n   prcp  wspd  \n0   0.0  14.8  \n1   0.0  14.8  \n2   0.0   0.0  \n3   0.0   9.4  \n4   0.0   7.6  \n\n[5 rows x 28 columns]",
      "text/html": "<div>\n<style scoped>\n    .dataframe tbody tr th:only-of-type {\n        vertical-align: middle;\n    }\n\n    .dataframe tbody tr th {\n        vertical-align: top;\n    }\n\n    .dataframe thead th {\n        text-align: right;\n    }\n</style>\n<table border=\"1\" class=\"dataframe\">\n  <thead>\n    <tr style=\"text-align: right;\">\n      <th></th>\n      <th>date</th>\n      <th>hour</th>\n      <th>location_id</th>\n      <th>trips_count</th>\n      <th>day_of_week</th>\n      <th>month</th>\n      <th>is_weekend</th>\n      <th>is_holiday</th>\n      <th>is_month_start</th>\n      <th>is_month_end</th>\n      <th>...</th>\n      <th>hour_cos</th>\n      <th>dow_sin</th>\n      <th>dow_cos</th>\n      <th>roll_168h_mean</th>\n      <th>roll_168h_median</th>\n      <th>roll_168h_std</th>\n      <th>time_idx</th>\n      <th>temp</th>\n      <th>prcp</th>\n      <th>wspd</th>\n    </tr>\n  </thead>\n  <tbody>\n    <tr>\n      <th>0</th>\n      <td>2024-01-01</td>\n      <td>5</td>\n      <td>1</td>\n      <td>1</td>\n      <td>0</td>\n      <td>1</td>\n      <td>0</td>\n      <td>True</td>\n      <td>1</td>\n      <td>0</td>\n      <td>...</td>\n      <td>2.588190e-01</td>\n      <td>0.0</td>\n      <td>1.0</td>\n      <td>1.000000</td>\n      <td>1.0</td>\n      <td>0.000000</td>\n      <td>0</td>\n      <td>5.6</td>\n      <td>0.0</td>\n      <td>14.8</td>\n    </tr>\n    <tr>\n      <th>1</th>\n      <td>2024-01-01</td>\n      <td>6</td>\n      <td>1</td>\n      <td>3</td>\n      <td>0</td>\n      <td>1</td>\n      <td>0</td>\n      <td>True</td>\n      <td>1</td>\n      <td>0</td>\n      <td>...</td>\n      <td>6.123234e-17</td>\n      <td>0.0</td>\n      <td>1.0</td>\n      <td>2.000000</td>\n      <td>2.0</td>\n      <td>1.414214</td>\n      <td>1</td>\n      <td>5.6</td>\n      <td>0.0</td>\n      <td>14.8</td>\n    </tr>\n    <tr>\n      <th>2</th>\n      <td>2024-01-01</td>\n      <td>13</td>\n      <td>1</td>\n      <td>3</td>\n      <td>0</td>\n      <td>1</td>\n      <td>0</td>\n      <td>True</td>\n      <td>1</td>\n      <td>0</td>\n      <td>...</td>\n      <td>-9.659258e-01</td>\n      <td>0.0</td>\n      <td>1.0</td>\n      <td>2.333333</td>\n      <td>3.0</td>\n      <td>1.154701</td>\n      <td>2</td>\n      <td>5.0</td>\n      <td>0.0</td>\n      <td>0.0</td>\n    </tr>\n    <tr>\n      <th>3</th>\n      <td>2024-01-01</td>\n      <td>14</td>\n      <td>1</td>\n      <td>6</td>\n      <td>0</td>\n      <td>1</td>\n      <td>0</td>\n      <td>True</td>\n      <td>1</td>\n      <td>0</td>\n      <td>...</td>\n      <td>-8.660254e-01</td>\n      <td>0.0</td>\n      <td>1.0</td>\n      <td>3.250000</td>\n      <td>3.0</td>\n      <td>2.061553</td>\n      <td>3</td>\n      <td>5.0</td>\n      <td>0.0</td>\n      <td>9.4</td>\n    </tr>\n    <tr>\n      <th>4</th>\n      <td>2024-01-01</td>\n      <td>15</td>\n      <td>1</td>\n      <td>2</td>\n      <td>0</td>\n      <td>1</td>\n      <td>0</td>\n      <td>True</td>\n      <td>1</td>\n      <td>0</td>\n      <td>...</td>\n      <td>-7.071068e-01</td>\n      <td>0.0</td>\n      <td>1.0</td>\n      <td>3.000000</td>\n      <td>3.0</td>\n      <td>1.870829</td>\n      <td>4</td>\n      <td>5.6</td>\n      <td>0.0</td>\n      <td>7.6</td>\n    </tr>\n  </tbody>\n</table>\n<p>5 rows × 28 columns</p>\n</div>"
     },
     "execution_count": 60,
     "metadata": {},
     "output_type": "execute_result"
    }
   ],
   "source": [
    "df5 = save_data(df4)\n",
    "df5.head()"
   ],
   "metadata": {
    "collapsed": false,
    "ExecuteTime": {
     "end_time": "2025-05-26T21:12:57.506079Z",
     "start_time": "2025-05-26T21:12:43.886818Z"
    }
   },
   "id": "6f3d311c0314037e",
   "execution_count": 60
  },
  {
   "cell_type": "markdown",
   "source": [
    "## Улучшенная архитектура модели"
   ],
   "metadata": {
    "collapsed": false
   },
   "id": "4c5eeddf4e71d999"
  },
  {
   "cell_type": "markdown",
   "source": [
    "### Данные\n",
    "– Добавил набор новых признаков, расширив датасет по «ширине»:\n",
    "• Календарные: `month`, `is_weekend`, `is_month_start`, `is_month_end`, `day_of_year`, `week_of_year`, `is_pre_holiday`, `is_post_holiday`\n",
    "• Лаговые: `lag_1h`, `lag_24h`, `lag_168h`\n",
    "• Статистики за неделю: `roll_168h_mean`, `roll_168h_median`, `roll_168h_std`\n",
    "• Абсолютный индекс времени: `time_idx`\n",
    "• Метео-фичи: `temp`, `prcp`, `wspd`\n",
    "\n",
    "– Добавил метку района (`region_id`) в саму входную последовательность, чтобы модель учитывала географический контекст.\n",
    "\n",
    "– Благодаря этому размерность датасета по признакам заметно выросла, что дало модели больше контекста и улучшило качество прогнозирования.\n",
    "\n",
    "– И сам объём данных для анализа был расширен за счёт добавления новых записей.\n",
    "\n",
    "### Модель\n",
    "\n",
    "* **Глубже:** три LSTM-слоя (return\\_sequences→return\\_sequences→final) вместо двух.\n",
    "* **Residual-связь:** Add(\\[x1, x2]) между первыми двумя слоями для стабильного градиента.\n",
    "* **Быстрее сходится:** Adam с lr=1e-3 вместо 1e-4.\n",
    "\n"
   ],
   "metadata": {
    "collapsed": false
   },
   "id": "29772171add65a9a"
  },
  {
   "cell_type": "code",
   "outputs": [],
   "source": [
    "import pandas as pd\n",
    "import numpy as np\n",
    "from sklearn.preprocessing import StandardScaler, OneHotEncoder\n",
    "from sklearn.metrics import mean_absolute_error, mean_squared_error, mean_absolute_percentage_error, r2_score\n",
    "from sklearn.linear_model import LinearRegression\n",
    "from sklearn.multioutput import MultiOutputRegressor\n",
    "from tensorflow.keras import Model, Input, callbacks\n",
    "from tensorflow.keras.layers import LSTM, Dropout, Dense, Add, Embedding, Flatten, concatenate"
   ],
   "metadata": {
    "collapsed": false,
    "ExecuteTime": {
     "end_time": "2025-05-31T13:39:50.149689Z",
     "start_time": "2025-05-31T13:39:45.629916Z"
    }
   },
   "id": "6b74469017329bae",
   "execution_count": 2
  },
  {
   "cell_type": "code",
   "outputs": [],
   "source": [
    "def create_sequences(df, past_steps=72, future_steps=24):\n",
    "    locs = df['location_id'].unique()\n",
    "    loc2idx = {loc: idx for idx, loc in enumerate(locs)}\n",
    "    seqs, tars, regions = [], [], []\n",
    "    features_cols = [\n",
    "        'trips_count', 'hour_sin', 'hour_cos', 'dow_sin', 'dow_cos',\n",
    "        'is_holiday', 'month', 'is_weekend', 'is_month_start', 'is_month_end',\n",
    "        'day_of_year', 'week_of_year', 'is_pre_holiday', 'is_post_holiday',\n",
    "        'lag_1h', 'lag_24h', 'lag_168h', 'roll_168h_mean', 'roll_168h_median', 'roll_168h_std',\n",
    "        'time_idx', 'temp', 'prcp', 'wspd'\n",
    "    ]\n",
    "    for loc in locs:\n",
    "        sub = df[df['location_id'] == loc]\n",
    "        features = np.stack([sub[c].values for c in features_cols], axis=1)\n",
    "        rides = sub['trips_count'].values\n",
    "        for i in range(past_steps, len(features) - future_steps + 1):\n",
    "            seqs.append(features[i - past_steps:i])\n",
    "            tars.append(rides[i:i + future_steps])\n",
    "            regions.append(loc2idx[loc])\n",
    "    return np.array(seqs, dtype='float32'), np.array(tars, dtype='float32'), np.array(regions), loc2idx"
   ],
   "metadata": {
    "collapsed": false,
    "ExecuteTime": {
     "end_time": "2025-05-31T13:39:50.154511Z",
     "start_time": "2025-05-31T13:39:50.149689Z"
    }
   },
   "id": "583779c88f34b26c",
   "execution_count": 3
  },
  {
   "cell_type": "code",
   "outputs": [],
   "source": [
    "def prepare_data(X, y, regions):\n",
    "    n = len(X)\n",
    "    cut1, cut2 = int(0.6 * n), int(0.8 * n)\n",
    "\n",
    "    X_train, y_train, regions_train = X[:cut1], y[:cut1], regions[:cut1]\n",
    "    X_val  , y_val  , regions_val   = X[cut1:cut2], y[cut1:cut2], regions[cut1:cut2]\n",
    "    X_test , y_test , regions_test  = X[cut2:],    y[cut2:],    regions[cut2:]\n",
    "    \n",
    "    scaler_y = StandardScaler().fit(y_train.reshape(-1, 1))\n",
    "    y_train_s = scaler_y.transform(y_train.reshape(-1, 1)).reshape(y_train.shape)\n",
    "    y_val_s = scaler_y.transform(y_val.reshape(-1, 1)).reshape(y_val.shape)\n",
    "    \n",
    "    n_features = X_train.shape[2]\n",
    "    means = np.nanmean(X_train.reshape(-1, n_features), axis=0)\n",
    "    means = np.nan_to_num(means, nan=0.0)\n",
    "    for arr in (X_train, X_val, X_test):\n",
    "        mask = np.isnan(arr)\n",
    "        arr[mask] = np.take(means, np.where(mask)[2])\n",
    "        \n",
    "    scaler_X = StandardScaler().fit(X_train.reshape(-1, n_features))\n",
    "    \n",
    "    def scale_split(X_split):\n",
    "        flat = X_split.reshape(-1, n_features)\n",
    "        return scaler_X.transform(flat).reshape(X_split.shape)\n",
    "    X_train_s, X_val_s, X_test_s = scale_split(X_train), scale_split(X_val), scale_split(X_test)\n",
    "    return X_train_s, X_val_s, X_test_s, y_train, y_val, y_test, y_train_s, y_val_s, scaler_y, scaler_X, regions_train, regions_val, regions_test"
   ],
   "metadata": {
    "collapsed": false,
    "ExecuteTime": {
     "end_time": "2025-05-31T13:39:53.470017Z",
     "start_time": "2025-05-31T13:39:53.464045Z"
    }
   },
   "id": "a1e3c01186df65a2",
   "execution_count": 4
  },
  {
   "cell_type": "code",
   "outputs": [],
   "source": [
    "def build_lstm(input_shape, output_steps):\n",
    "    seq_input = Input(shape=input_shape, name='seq_input')\n",
    "    x1 = LSTM(128, return_sequences=True)(seq_input)\n",
    "    x1 = Dropout(0.3)(x1)\n",
    "    x2 = LSTM(128, return_sequences=True)(x1)\n",
    "    x2 = Dropout(0.3)(x2)\n",
    "    r = Add()([x1, x2])\n",
    "    x = LSTM(64)(r)\n",
    "    x = Dropout(0.2)(x)\n",
    "    out = Dense(output_steps)(x)\n",
    "    model = Model(seq_input, out)\n",
    "    model.compile('adam', 'mse', metrics=['mae', 'mape'])\n",
    "    return model"
   ],
   "metadata": {
    "collapsed": false,
    "ExecuteTime": {
     "end_time": "2025-05-31T13:39:56.030975Z",
     "start_time": "2025-05-31T13:39:56.026751Z"
    }
   },
   "id": "b340e160cacb8ea4",
   "execution_count": 5
  },
  {
   "cell_type": "markdown",
   "source": [
    "## Постобработка"
   ],
   "metadata": {
    "collapsed": false
   },
   "id": "92e092581f8cd7f1"
  },
  {
   "cell_type": "code",
   "outputs": [],
   "source": [
    "def evaluate(y_true, y_pred):\n",
    "    mae = mean_absolute_error(y_true, y_pred)\n",
    "    rmse = np.sqrt(mean_squared_error(y_true, y_pred))\n",
    "    mape = mean_absolute_percentage_error(y_true, y_pred)\n",
    "    r2 = r2_score(y_true, y_pred, multioutput='uniform_average')\n",
    "    comp = (mae + rmse + mape + (1 - r2)) / 4\n",
    "    return {'MAE': mae, 'RMSE': rmse, 'MAPE': mape, 'R2': r2, 'Composite': comp}"
   ],
   "metadata": {
    "collapsed": false,
    "ExecuteTime": {
     "end_time": "2025-05-31T13:39:59.171812Z",
     "start_time": "2025-05-31T13:39:59.168303Z"
    }
   },
   "id": "48100f9abf32654a",
   "execution_count": 6
  },
  {
   "cell_type": "code",
   "outputs": [],
   "source": [
    "def post_process(\n",
    "    y_pred_s: np.ndarray,\n",
    "    scaler_y: StandardScaler,\n",
    "):\n",
    "    y = y_pred_s.copy()\n",
    "    y = scaler_y.inverse_transform(y.reshape(-1, 1)).reshape(y.shape)\n",
    "    y = np.clip(y, 0, None)\n",
    "    y = np.round(y)\n",
    "    return y"
   ],
   "metadata": {
    "collapsed": false,
    "ExecuteTime": {
     "end_time": "2025-05-31T13:40:01.587520Z",
     "start_time": "2025-05-31T13:40:01.583917Z"
    }
   },
   "id": "572d8b27d7b4ae25",
   "execution_count": 7
  },
  {
   "cell_type": "markdown",
   "source": [
    "## Анализ"
   ],
   "metadata": {
    "collapsed": false
   },
   "id": "ebf5fbc71ebdf845"
  },
  {
   "cell_type": "code",
   "outputs": [
    {
     "name": "stdout",
     "output_type": "stream",
     "text": [
      "Epoch 1/15\n",
      "\u001B[1m16462/16462\u001B[0m \u001B[32m━━━━━━━━━━━━━━━━━━━━\u001B[0m\u001B[37m\u001B[0m \u001B[1m2509s\u001B[0m 152ms/step - loss: 0.1351 - mae: 0.1968 - mape: 604.4818 - val_loss: 0.0382 - val_mae: 0.1073 - val_mape: 393.5527\n",
      "Epoch 2/15\n",
      "\u001B[1m16462/16462\u001B[0m \u001B[32m━━━━━━━━━━━━━━━━━━━━\u001B[0m\u001B[37m\u001B[0m \u001B[1m2375s\u001B[0m 144ms/step - loss: 0.0734 - mae: 0.1510 - mape: 486.9588 - val_loss: 0.0339 - val_mae: 0.0968 - val_mape: 382.3183\n",
      "Epoch 3/15\n",
      "\u001B[1m16462/16462\u001B[0m \u001B[32m━━━━━━━━━━━━━━━━━━━━\u001B[0m\u001B[37m\u001B[0m \u001B[1m2578s\u001B[0m 157ms/step - loss: 0.0641 - mae: 0.1421 - mape: 455.0258 - val_loss: 0.0322 - val_mae: 0.0941 - val_mape: 381.4602\n",
      "Epoch 4/15\n",
      "\u001B[1m16462/16462\u001B[0m \u001B[32m━━━━━━━━━━━━━━━━━━━━\u001B[0m\u001B[37m\u001B[0m \u001B[1m2594s\u001B[0m 158ms/step - loss: 0.0595 - mae: 0.1378 - mape: 438.1502 - val_loss: 0.0310 - val_mae: 0.0926 - val_mape: 352.4243\n",
      "Epoch 5/15\n",
      "\u001B[1m16462/16462\u001B[0m \u001B[32m━━━━━━━━━━━━━━━━━━━━\u001B[0m\u001B[37m\u001B[0m \u001B[1m2761s\u001B[0m 168ms/step - loss: 0.0565 - mae: 0.1349 - mape: 435.7511 - val_loss: 0.0289 - val_mae: 0.0890 - val_mape: 358.1992\n",
      "Epoch 6/15\n",
      "\u001B[1m16462/16462\u001B[0m \u001B[32m━━━━━━━━━━━━━━━━━━━━\u001B[0m\u001B[37m\u001B[0m \u001B[1m2936s\u001B[0m 178ms/step - loss: 0.0542 - mae: 0.1327 - mape: 427.8837 - val_loss: 0.0290 - val_mae: 0.0892 - val_mape: 360.9680\n",
      "Epoch 7/15\n",
      "\u001B[1m16462/16462\u001B[0m \u001B[32m━━━━━━━━━━━━━━━━━━━━\u001B[0m\u001B[37m\u001B[0m \u001B[1m3135s\u001B[0m 190ms/step - loss: 0.0524 - mae: 0.1312 - mape: 421.0580 - val_loss: 0.0284 - val_mae: 0.0876 - val_mape: 353.5500\n",
      "Epoch 8/15\n",
      "\u001B[1m16462/16462\u001B[0m \u001B[32m━━━━━━━━━━━━━━━━━━━━\u001B[0m\u001B[37m\u001B[0m \u001B[1m3285s\u001B[0m 200ms/step - loss: 0.0511 - mae: 0.1298 - mape: 417.7958 - val_loss: 0.0290 - val_mae: 0.0879 - val_mape: 349.7108\n",
      "Epoch 9/15\n",
      "\u001B[1m16462/16462\u001B[0m \u001B[32m━━━━━━━━━━━━━━━━━━━━\u001B[0m\u001B[37m\u001B[0m \u001B[1m3454s\u001B[0m 210ms/step - loss: 0.0501 - mae: 0.1289 - mape: 412.4143 - val_loss: 0.0281 - val_mae: 0.0871 - val_mape: 350.8306\n",
      "Epoch 10/15\n",
      "\u001B[1m16462/16462\u001B[0m \u001B[32m━━━━━━━━━━━━━━━━━━━━\u001B[0m\u001B[37m\u001B[0m \u001B[1m3745s\u001B[0m 228ms/step - loss: 0.0488 - mae: 0.1276 - mape: 411.9375 - val_loss: 0.0295 - val_mae: 0.0881 - val_mape: 341.6138\n",
      "Epoch 11/15\n",
      "\u001B[1m16462/16462\u001B[0m \u001B[32m━━━━━━━━━━━━━━━━━━━━\u001B[0m\u001B[37m\u001B[0m \u001B[1m4010s\u001B[0m 244ms/step - loss: 0.0479 - mae: 0.1269 - mape: 407.5009 - val_loss: 0.0280 - val_mae: 0.0864 - val_mape: 346.1825\n",
      "Epoch 12/15\n",
      "\u001B[1m16462/16462\u001B[0m \u001B[32m━━━━━━━━━━━━━━━━━━━━\u001B[0m\u001B[37m\u001B[0m \u001B[1m4210s\u001B[0m 256ms/step - loss: 0.0478 - mae: 0.1266 - mape: 410.1188 - val_loss: 0.0275 - val_mae: 0.0862 - val_mape: 350.9525\n",
      "Epoch 13/15\n",
      "\u001B[1m16462/16462\u001B[0m \u001B[32m━━━━━━━━━━━━━━━━━━━━\u001B[0m\u001B[37m\u001B[0m \u001B[1m4240s\u001B[0m 258ms/step - loss: 0.0468 - mae: 0.1256 - mape: 406.1436 - val_loss: 0.0296 - val_mae: 0.0879 - val_mape: 350.4138\n",
      "Epoch 14/15\n",
      "\u001B[1m16462/16462\u001B[0m \u001B[32m━━━━━━━━━━━━━━━━━━━━\u001B[0m\u001B[37m\u001B[0m \u001B[1m4181s\u001B[0m 254ms/step - loss: 0.0466 - mae: 0.1254 - mape: 400.5433 - val_loss: 0.0283 - val_mae: 0.0860 - val_mape: 332.6247\n",
      "Epoch 15/15\n",
      "\u001B[1m16462/16462\u001B[0m \u001B[32m━━━━━━━━━━━━━━━━━━━━\u001B[0m\u001B[37m\u001B[0m \u001B[1m4254s\u001B[0m 258ms/step - loss: 0.0457 - mae: 0.1245 - mape: 399.6998 - val_loss: 0.0292 - val_mae: 0.0871 - val_mape: 357.1951\n",
      "\u001B[1m10975/10975\u001B[0m \u001B[32m━━━━━━━━━━━━━━━━━━━━\u001B[0m\u001B[37m\u001B[0m \u001B[1m854s\u001B[0m 78ms/step\n",
      "                 MAE       RMSE      MAPE        R2  Composite\n",
      "LSTM       17.407387  35.233486  0.508800  0.942178  13.301874\n",
      "LinearReg  41.693626  71.811116  3.178532  0.759804  29.230868\n"
     ]
    }
   ],
   "source": [
    "df = pd.read_csv('result_lstm.csv')\n",
    "X, y, regions, loc2idx = create_sequences(df)\n",
    "X_train, X_val, X_test, y_train, y_val, y_test, y_train_s, y_val_s, scaler_y, scaler_X, regions_train, regions_val, regions_test = prepare_data(X, y, regions)\n",
    "\n",
    "X_tr_flat = X_train.reshape(len(X_train), -1)\n",
    "X_te_flat = X_test.reshape(len(X_test), -1)\n",
    "reg = MultiOutputRegressor(LinearRegression())\n",
    "reg.fit(X_tr_flat, y_train)\n",
    "y_reg = reg.predict(X_te_flat)\n",
    "lstm = build_lstm(X_train.shape[1:], y_train_s.shape[1])\n",
    "es = callbacks.EarlyStopping(monitor='val_loss', patience=5, restore_best_weights=True)\n",
    "lstm.fit(X_train, y_train_s, validation_data=(X_val, y_val_s), epochs=15, batch_size=64, callbacks=[es], verbose=1)\n",
    "y_l_s = lstm.predict(X_test)\n",
    "y_l = post_process(\n",
    "        y_pred_s=y_l_s,\n",
    "        scaler_y=scaler_y,\n",
    "    )\n",
    "results = {\n",
    "        'LinearReg': evaluate(y_test, y_reg),\n",
    "        'LSTM': evaluate(y_test, y_l)\n",
    "    }\n",
    "print(pd.DataFrame(results).T.sort_values('MAE'))\n",
    "np.save('y_test1.npy', y_test)\n",
    "np.save('y_l1.npy', y_l)"
   ],
   "metadata": {
    "collapsed": false,
    "ExecuteTime": {
     "end_time": "2025-05-28T12:03:58.147595Z",
     "start_time": "2025-05-27T21:28:48.846755Z"
    }
   },
   "id": "699408399c5c1fa7",
   "execution_count": 42
  },
  {
   "cell_type": "code",
   "outputs": [],
   "source": [
    "import numpy as np\n",
    "import pandas as pd\n",
    "from sklearn.metrics import mean_absolute_error, mean_squared_error, r2_score\n",
    "import matplotlib.pyplot as plt\n",
    "import seaborn as sns\n",
    "from IPython.display import display, Markdown\n",
    "def detailed_analysis(y_true, y_pred, top_n=10):\n",
    "    idx2loc = {v: k for k, v in loc2idx.items()}\n",
    "    n_samples, n_regions = y_true.shape\n",
    "    hours_in_day = 24\n",
    "    n_days = n_samples // hours_in_day\n",
    "    max_rows = n_days * hours_in_day\n",
    "\n",
    "    y_true_cut = y_true[:max_rows]\n",
    "    y_pred_cut = y_pred[:max_rows]\n",
    "\n",
    "    y_true_d = y_true_cut.reshape(n_days, hours_in_day, n_regions)\n",
    "    y_pred_d = y_pred_cut.reshape(n_days, hours_in_day, n_regions)\n",
    "\n",
    "    metrics_by_hod = []\n",
    "    for h in range(hours_in_day):\n",
    "        t = y_true_d[:, h, :].ravel()\n",
    "        p = y_pred_d[:, h, :].ravel()\n",
    "        mae = mean_absolute_error(t, p)\n",
    "        rmse = np.sqrt(mean_squared_error(t, p))\n",
    "        mape = np.mean(np.abs((t - p) / t))\n",
    "        r2 = r2_score(t, p)\n",
    "        composite = (mae + rmse + mape + (1 - r2)) / 4\n",
    "        metrics_by_hod.append([mae, rmse, mape, r2, composite])\n",
    "    hours_df = pd.DataFrame(\n",
    "        metrics_by_hod,\n",
    "        index=np.arange(hours_in_day),\n",
    "        columns=['MAE', 'RMSE', 'MAPE', 'R2', 'Composite']\n",
    "    )\n",
    "\n",
    "    maes = {}\n",
    "    for idx in np.unique(regions_test):\n",
    "        mask = regions_test == idx\n",
    "        t = y_true[mask].ravel()\n",
    "        p = y_pred[mask].ravel()\n",
    "        maes[idx2loc[idx]] = mean_absolute_error(t, p)\n",
    "\n",
    "    regions_mae_df = pd.DataFrame.from_dict(\n",
    "        maes,\n",
    "        orient='index',\n",
    "        columns=['MAE']\n",
    "    )\n",
    "    regions_mae_df.index.name = 'Region'\n",
    "    regions_mae_df.columns.name = 'Metric'\n",
    "\n",
    "    top_hours = hours_df.nsmallest(top_n, 'Composite')\n",
    "    display(Markdown(f'**Топ {top_n} часов суток (по Composite):**'))\n",
    "    display(top_hours)\n",
    "    \n",
    "    top_regions = regions_mae_df.nsmallest(top_n, 'MAE')\n",
    "    display(Markdown(f'**Топ {top_n} районов (по MAE):**'))\n",
    "    display(top_regions)\n",
    "\n",
    "\n",
    "    plt.figure(figsize=(8, 4))\n",
    "    plt.plot(hours_df.index, hours_df['MAE'], marker='o')\n",
    "    plt.xlabel('Час суток')\n",
    "    plt.ylabel('MAE')\n",
    "    plt.title('MAE по часам суток')\n",
    "    plt.grid(True)\n",
    "    plt.show()\n",
    "    region_ids = np.unique(regions_test)\n",
    "    err_matrix = np.zeros((hours_in_day, len(region_ids)))\n",
    "    for j, idx in enumerate(region_ids):\n",
    "        mask = (regions_test == idx)\n",
    "        for h in range(hours_in_day):\n",
    "            t = y_true[mask, h]\n",
    "            p = y_pred[mask, h]\n",
    "            err_matrix[h, j] = np.mean(np.abs(t - p))\n",
    "    region_names = [idx2loc[idx] for idx in region_ids]\n",
    "\n",
    "    plt.figure(figsize=(12, 6))\n",
    "    sns.heatmap(\n",
    "        err_matrix,\n",
    "        cmap='YlOrRd',\n",
    "        xticklabels=region_names,\n",
    "        yticklabels=np.arange(hours_in_day)\n",
    "    )\n",
    "    plt.xticks(rotation=90)\n",
    "    plt.xlabel('Region')\n",
    "    plt.ylabel('Hour of Day')\n",
    "    plt.title('Heatmap of Mean Absolute Error by Hour and Region')\n",
    "    plt.show()"
   ],
   "metadata": {
    "collapsed": false,
    "ExecuteTime": {
     "end_time": "2025-05-28T12:20:58.787378Z",
     "start_time": "2025-05-28T12:20:58.772838Z"
    }
   },
   "id": "c5408880b049c536",
   "execution_count": 43
  },
  {
   "cell_type": "code",
   "outputs": [
    {
     "data": {
      "text/plain": "<IPython.core.display.Markdown object>",
      "text/markdown": "**Топ 10 часов суток (по Composite):**"
     },
     "metadata": {},
     "output_type": "display_data"
    },
    {
     "data": {
      "text/plain": "          MAE       RMSE      MAPE        R2  Composite\n5   17.317535  34.941298  0.507438  0.943182  13.205772\n4   17.339064  35.027675  0.508040  0.942894  13.232971\n6   17.338282  35.071854  0.505731  0.942765  13.243275\n3   17.372515  35.048709  0.509208  0.942851  13.246895\n20  17.375694  35.089162  0.513573  0.942682  13.258937\n7   17.336582  35.147910  0.503301  0.942525  13.261317\n2   17.399521  35.105842  0.508356  0.942648  13.267768\n18  17.385542  35.129224  0.512218  0.942551  13.271108\n19  17.407793  35.131382  0.512515  0.942538  13.277288\n21  17.399323  35.166311  0.514652  0.942432  13.284464",
      "text/html": "<div>\n<style scoped>\n    .dataframe tbody tr th:only-of-type {\n        vertical-align: middle;\n    }\n\n    .dataframe tbody tr th {\n        vertical-align: top;\n    }\n\n    .dataframe thead th {\n        text-align: right;\n    }\n</style>\n<table border=\"1\" class=\"dataframe\">\n  <thead>\n    <tr style=\"text-align: right;\">\n      <th></th>\n      <th>MAE</th>\n      <th>RMSE</th>\n      <th>MAPE</th>\n      <th>R2</th>\n      <th>Composite</th>\n    </tr>\n  </thead>\n  <tbody>\n    <tr>\n      <th>5</th>\n      <td>17.317535</td>\n      <td>34.941298</td>\n      <td>0.507438</td>\n      <td>0.943182</td>\n      <td>13.205772</td>\n    </tr>\n    <tr>\n      <th>4</th>\n      <td>17.339064</td>\n      <td>35.027675</td>\n      <td>0.508040</td>\n      <td>0.942894</td>\n      <td>13.232971</td>\n    </tr>\n    <tr>\n      <th>6</th>\n      <td>17.338282</td>\n      <td>35.071854</td>\n      <td>0.505731</td>\n      <td>0.942765</td>\n      <td>13.243275</td>\n    </tr>\n    <tr>\n      <th>3</th>\n      <td>17.372515</td>\n      <td>35.048709</td>\n      <td>0.509208</td>\n      <td>0.942851</td>\n      <td>13.246895</td>\n    </tr>\n    <tr>\n      <th>20</th>\n      <td>17.375694</td>\n      <td>35.089162</td>\n      <td>0.513573</td>\n      <td>0.942682</td>\n      <td>13.258937</td>\n    </tr>\n    <tr>\n      <th>7</th>\n      <td>17.336582</td>\n      <td>35.147910</td>\n      <td>0.503301</td>\n      <td>0.942525</td>\n      <td>13.261317</td>\n    </tr>\n    <tr>\n      <th>2</th>\n      <td>17.399521</td>\n      <td>35.105842</td>\n      <td>0.508356</td>\n      <td>0.942648</td>\n      <td>13.267768</td>\n    </tr>\n    <tr>\n      <th>18</th>\n      <td>17.385542</td>\n      <td>35.129224</td>\n      <td>0.512218</td>\n      <td>0.942551</td>\n      <td>13.271108</td>\n    </tr>\n    <tr>\n      <th>19</th>\n      <td>17.407793</td>\n      <td>35.131382</td>\n      <td>0.512515</td>\n      <td>0.942538</td>\n      <td>13.277288</td>\n    </tr>\n    <tr>\n      <th>21</th>\n      <td>17.399323</td>\n      <td>35.166311</td>\n      <td>0.514652</td>\n      <td>0.942432</td>\n      <td>13.284464</td>\n    </tr>\n  </tbody>\n</table>\n</div>"
     },
     "metadata": {},
     "output_type": "display_data"
    },
    {
     "data": {
      "text/plain": "<IPython.core.display.Markdown object>",
      "text/markdown": "**Топ 10 районов (по MAE):**"
     },
     "metadata": {},
     "output_type": "display_data"
    },
    {
     "data": {
      "text/plain": "Metric       MAE\nRegion          \n265     3.575820\n251     4.999743\n240     5.153440\n245     5.234077\n222     5.248620\n252     5.348238\n264     5.620077\n221     6.605175\n219     7.015167\n257     7.099742",
      "text/html": "<div>\n<style scoped>\n    .dataframe tbody tr th:only-of-type {\n        vertical-align: middle;\n    }\n\n    .dataframe tbody tr th {\n        vertical-align: top;\n    }\n\n    .dataframe thead th {\n        text-align: right;\n    }\n</style>\n<table border=\"1\" class=\"dataframe\">\n  <thead>\n    <tr style=\"text-align: right;\">\n      <th>Metric</th>\n      <th>MAE</th>\n    </tr>\n    <tr>\n      <th>Region</th>\n      <th></th>\n    </tr>\n  </thead>\n  <tbody>\n    <tr>\n      <th>265</th>\n      <td>3.575820</td>\n    </tr>\n    <tr>\n      <th>251</th>\n      <td>4.999743</td>\n    </tr>\n    <tr>\n      <th>240</th>\n      <td>5.153440</td>\n    </tr>\n    <tr>\n      <th>245</th>\n      <td>5.234077</td>\n    </tr>\n    <tr>\n      <th>222</th>\n      <td>5.248620</td>\n    </tr>\n    <tr>\n      <th>252</th>\n      <td>5.348238</td>\n    </tr>\n    <tr>\n      <th>264</th>\n      <td>5.620077</td>\n    </tr>\n    <tr>\n      <th>221</th>\n      <td>6.605175</td>\n    </tr>\n    <tr>\n      <th>219</th>\n      <td>7.015167</td>\n    </tr>\n    <tr>\n      <th>257</th>\n      <td>7.099742</td>\n    </tr>\n  </tbody>\n</table>\n</div>"
     },
     "metadata": {},
     "output_type": "display_data"
    },
    {
     "data": {
      "text/plain": "<Figure size 800x400 with 1 Axes>",
      "image/png": "[encoded data removed]"
     },
     "metadata": {},
     "output_type": "display_data"
    },
    {
     "data": {
      "text/plain": "<Figure size 1200x600 with 2 Axes>",
      "image/png": "[encoded data removed]"
     },
     "metadata": {},
     "output_type": "display_data"
    }
   ],
   "source": [
    "y_test = np.load('y_test.npy')\n",
    "y_l = np.load('y_l.npy')\n",
    "detailed_analysis(y_test, y_l, top_n=10)"
   ],
   "metadata": {
    "collapsed": false,
    "ExecuteTime": {
     "end_time": "2025-05-29T15:24:01.119443Z",
     "start_time": "2025-05-29T15:23:58.931942Z"
    }
   },
   "id": "59331cc105dff78c",
   "execution_count": 47
  },
  {
   "cell_type": "markdown",
   "source": [
    "**Анализ качества предсказаний модели**\n",
    "\n",
    "---\n",
    "\n",
    "## 1. Топ 10 часов суток (по Composite)\n",
    "\n",
    "* **Лучшее время работы модели** — утро (4–6 ч).\n",
    "* **Минимальный Composite** ≈ 13.2 в 05:00, что означает наибольшую «усреднённую» точность в этот час.\n",
    "* **Днём (13 - 16 ч)** и **вечерние (20 - 23 ч)** Composite чуть выше, т.е. модель там ошибается сильнее.\n",
    "\n",
    "---\n",
    "\n",
    "## 2. Топ 10 районов (по MAE)\n",
    "\n",
    "* **Самый «простой» район** для предсказания — 265 (MAE ≈ 3.6), там модель работает в 2–3 раза точнее, чем в среднем по городу.\n",
    "* Второй и третий по точности (240, 251) тоже демонстрируют относительно стабильный спрос.\n",
    "* Наименее предсказуемые районы (за пределами топ-10) имеют MAE > 10–15, что указывает на высокую волатильность заказов или малое количество данных.\n",
    "\n",
    "---\n",
    "\n",
    "## 3. MAE по часам суток\n",
    "\n",
    "* **Минимальная MAE** наблюдается около 4–5 ч (\\~18.19), т. е. в «тихие» предутренние часы.\n",
    "* **Пик ошибок** — около 14-15 ч, MAE достигает \\~17.5. Скорее всего, модель хуже справляется с дневным изменением спроса.\n",
    "* В целом колебания MAE по часам невелики (диапазон \\~0.2–0.3), что говорит об относительно стабильной работе модели в разные часы.\n",
    "\n",
    "---\n",
    "\n",
    "## 4. Тепловая карта средней абсолютной ошибки\n",
    "\n",
    "* **Яркие вертикальные полосы** (например, регионы ≈ 230, 237, 246 и т. д.) свидетельствуют о районах с высокой ошибкой во всех/почти всех часах.\n",
    "* В подавляющем большинстве «тихих» районов и часов ошибка лежит в диапазоне 5–10 заказов, тогда как в «проблемных» регионах она превышает 40–50 заказов.\n",
    "\n"
   ],
   "metadata": {
    "collapsed": false
   },
   "id": "1d13cf5ae73ca74c"
  },
  {
   "cell_type": "markdown",
   "source": [
    "**Сравнение моделей: LSTM V2 vs Linear Regression vs LSTM V1**\n",
    "\n",
    "Моя новая LSTM-модель значительно превосходит простую линейную регрессию и старую модель LSTM по всем ключевым показателям качества:\n",
    "\n",
    "* **MAE (Mean Absolute Error)**\n",
    "  LSTM демонстрирует заметно меньшую среднюю абсолютную ошибку, то есть в среднем её прогнозы ближе к реальным значениям.\n",
    "\n",
    "* **RMSE (Root Mean Squared Error)**\n",
    "  Благодаря более низкому RMS-показателю LSTM лучше справляется с крупными отклонениями и «пиковыми» значениями спроса.\n",
    "\n",
    "* **MAPE (Mean Absolute Percentage Error)**\n",
    "  Низкое процентное отклонение говорит о том, что LSTM сохраняет высокую относительную точность даже в районах с разным уровнем спроса.\n",
    "\n",
    "* **R² (коэффициент детерминации)**\n",
    "  Более высокий R² означает, что LSTM объясняет большую долю вариативности реальных данных и в целом лучше подстраивается под их динамику.\n",
    "\n",
    "* **Composite-метрика**\n",
    "  Взятие в расчёт объединённого показателя подтверждает превосходство LSTM сразу по всем четырём базовым метрикам.\n",
    "\n",
    "---\n",
    "\n",
    "**Вывод:**\n",
    "LSTM-модель V2 обеспечивает более точные и устойчивые прогнозы спроса на такси во времени и по районам по сравнению с линейной регрессией, делая её предпочтительным выбором для предиктивной аналитики городской мобильности.\n"
   ],
   "metadata": {
    "collapsed": false
   },
   "id": "a9494e22e30ac04d"
  }
 ],
 "metadata": {
  "kernelspec": {
   "display_name": "Python 3",
   "language": "python",
   "name": "python3"
  },
  "language_info": {
   "codemirror_mode": {
    "name": "ipython",
    "version": 2
   },
   "file_extension": ".py",
   "mimetype": "text/x-python",
   "name": "python",
   "nbconvert_exporter": "python",
   "pygments_lexer": "ipython2",
   "version": "2.7.6"
  }
 },
 "nbformat": 4,
 "nbformat_minor": 5
}
