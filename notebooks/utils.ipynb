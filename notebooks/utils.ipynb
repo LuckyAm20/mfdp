{
 "cells": [
  {
   "cell_type": "code",
   "execution_count": null,
   "id": "initial_id",
   "metadata": {
    "collapsed": true
   },
   "outputs": [],
   "source": [
    "from joblib import dump\n",
    "\n",
    "df = pd.read_csv('result_lstm.csv')\n",
    "X, y, regions, loc2idx = create_sequences(df)\n",
    "X_train, X_val, X_test, y_train, y_val, y_test, y_train_s, y_val_s, scaler_y, scaler_X, regions_train, regions_val, regions_test = prepare_data(X, y, regions)\n",
    "\n",
    "X_tr_flat = X_train.reshape(len(X_train), -1)\n",
    "X_te_flat = X_test.reshape(len(X_test), -1)\n",
    "reg = MultiOutputRegressor(LinearRegression())\n",
    "reg.fit(X_tr_flat, y_train)\n",
    "y_reg = reg.predict(X_te_flat)\n",
    "lstm = build_lstm(X_train.shape[1:], y_train_s.shape[1])\n",
    "es = callbacks.EarlyStopping(monitor='val_loss', patience=5, restore_best_weights=True)\n",
    "lstm.fit(X_train, y_train_s, validation_data=(X_val, y_val_s), epochs=5, batch_size=128, callbacks=[es], verbose=1)\n",
    "y_l_s = lstm.predict(X_test)\n",
    "y_l = post_process(\n",
    "        y_pred_s=y_l_s,\n",
    "        scaler_y=scaler_y,\n",
    "    )\n",
    "results = {\n",
    "        'LinearReg': evaluate(y_test, y_reg),\n",
    "        'LSTM': evaluate(y_test, y_l)\n",
    "    }\n",
    "print(pd.DataFrame(results).T.sort_values('MAE'))\n",
    "\n",
    "dump(scaler_X, 'scaler_X.joblib')  \n",
    "dump(scaler_y, 'scaler_y.joblib')  \n",
    "\n",
    "lstm.save('lstm.keras')"
   ]
  }
 ],
 "metadata": {
  "kernelspec": {
   "display_name": "Python 3",
   "language": "python",
   "name": "python3"
  },
  "language_info": {
   "codemirror_mode": {
    "name": "ipython",
    "version": 2
   },
   "file_extension": ".py",
   "mimetype": "text/x-python",
   "name": "python",
   "nbconvert_exporter": "python",
   "pygments_lexer": "ipython2",
   "version": "2.7.6"
  }
 },
 "nbformat": 4,
 "nbformat_minor": 5
}
