{
 "cells": [
  {
   "cell_type": "markdown",
   "source": [
    "# Прогноз часового спроса такси по районам — улучшенная версия"
   ],
   "metadata": {
    "collapsed": false
   },
   "id": "6aff30c8262e8007"
  },
  {
   "cell_type": "markdown",
   "source": [
    "## Пайплайн предобработки / FE / генерации данных"
   ],
   "metadata": {
    "collapsed": false
   },
   "id": "c009d4aebe5ba04"
  },
  {
   "cell_type": "code",
   "outputs": [],
   "source": [
    "import os\n",
    "import glob\n",
    "import zipfile\n",
    "import gdown\n",
    "import holidays\n",
    "import pandas as pd\n",
    "import numpy as np\n",
    "from meteostat import Stations, Hourly\n",
    "from datetime import datetime\n",
    "from pathlib import Path"
   ],
   "metadata": {
    "collapsed": false,
    "ExecuteTime": {
     "end_time": "2025-06-27T00:14:09.704534Z",
     "start_time": "2025-06-27T00:14:09.701192Z"
    }
   },
   "id": "d3ac6d4782c444ca",
   "execution_count": 22
  },
  {
   "cell_type": "code",
   "outputs": [],
   "source": [
    "def load_raw_data() -> pd.DataFrame:\n",
    "    current_dir = Path().resolve()\n",
    "    target_dir = current_dir.parent / 'mfdp_data'\n",
    "\n",
    "    file_paths = [f for f in target_dir.iterdir() if f.is_file()]\n",
    "    dfs = []\n",
    "    for path in file_paths:\n",
    "        df = pd.read_parquet(path)\n",
    "        fname = str(path).lower()\n",
    "        if 'yellow' in fname:\n",
    "            df = df.rename(columns={'tpep_pickup_datetime': 'pickup_datetime', 'PULocationID': 'location_id'})\n",
    "        elif 'green' in fname:\n",
    "            df = df.rename(columns={'lpep_pickup_datetime': 'pickup_datetime', 'PULocationID': 'location_id'})\n",
    "        elif 'fhvhv' in fname:\n",
    "            df = df.rename(columns={'pickup_datetime': 'pickup_datetime', 'PULocationID': 'location_id'})\n",
    "        if 'pickup_datetime' in df.columns and 'location_id' in df.columns:\n",
    "            df = df[['pickup_datetime', 'location_id']]\n",
    "            df['pickup_datetime'] = pd.to_datetime(df['pickup_datetime'], errors='coerce')\n",
    "            df = df.dropna().drop_duplicates()\n",
    "            dfs.append(df)\n",
    "    combined = pd.concat(dfs, ignore_index=True).drop_duplicates().reset_index(drop=True)\n",
    "    combined = combined[(combined['pickup_datetime'] >= '2024-01-01') & (combined['pickup_datetime'] < '2025-04-01')]\n",
    "    combined['date'] = combined['pickup_datetime'].dt.date\n",
    "    combined['hour'] = combined['pickup_datetime'].dt.hour\n",
    "    combined = combined.drop(columns=['pickup_datetime'])\n",
    "    return combined"
   ],
   "metadata": {
    "collapsed": false,
    "ExecuteTime": {
     "end_time": "2025-06-27T00:14:09.748789Z",
     "start_time": "2025-06-27T00:14:09.744087Z"
    }
   },
   "id": "71038789cb42be63",
   "execution_count": 23
  },
  {
   "cell_type": "code",
   "outputs": [],
   "source": [
    "def aggregate_trips(df: pd.DataFrame) -> pd.DataFrame:\n",
    "    return df.groupby(['date', 'hour', 'location_id']).size().reset_index(name='trips_count')"
   ],
   "metadata": {
    "collapsed": false,
    "ExecuteTime": {
     "end_time": "2025-06-27T00:14:09.764114Z",
     "start_time": "2025-06-27T00:14:09.761794Z"
    }
   },
   "id": "848857260138675d",
   "execution_count": 24
  },
  {
   "cell_type": "code",
   "outputs": [],
   "source": [
    "def engineer_features(df: pd.DataFrame) -> pd.DataFrame:\n",
    "    us_holidays = holidays.US()\n",
    "    non_working = {'New Year\\'s Day', 'MLK Day', 'Washington\\'s Birthday', 'Memorial Day',\n",
    "                   'Juneteenth', 'Independence Day', 'Labor Day', 'Thanksgiving', 'Christmas Day'}\n",
    "    df['date'] = pd.to_datetime(df['date'])\n",
    "    df['day_of_week'] = df['date'].dt.dayofweek\n",
    "    df['month'] = df['date'].dt.month\n",
    "    df['is_weekend'] = (df['day_of_week'] >= 5).astype(int)\n",
    "    df['is_holiday'] = df['date'].apply(lambda d: us_holidays.get(d.date()) in non_working)\n",
    "    df['is_month_start'] = df['date'].dt.is_month_start.astype(int)\n",
    "    df['is_month_end'] = df['date'].dt.is_month_end.astype(int)\n",
    "    df['day_of_year'] = df['date'].dt.dayofyear\n",
    "    df['week_of_year'] = df['date'].dt.isocalendar().week.astype(int)\n",
    "    df['is_pre_holiday'] = df['date'].shift(-1).apply(lambda d: us_holidays.get(d.date()) in non_working)\n",
    "    df['is_post_holiday'] = df['date'].shift(1).apply(lambda d: us_holidays.get(d.date()) in non_working)\n",
    "    df['lag_1h'] = df.groupby('location_id')['trips_count'].shift(1).fillna(0)\n",
    "    df['lag_24h'] = df.groupby('location_id')['trips_count'].shift(24).fillna(0)\n",
    "    df['lag_168h'] = df.groupby('location_id')['trips_count'].shift(168).fillna(0)\n",
    "    df['hour_sin'] = np.sin(2 * np.pi * df['hour'] / 24)\n",
    "    df['hour_cos'] = np.cos(2 * np.pi * df['hour'] / 24)\n",
    "    df['dow_sin'] = np.sin(2 * np.pi * df['day_of_week'] / 7)\n",
    "    df['dow_cos'] = np.cos(2 * np.pi * df['day_of_week'] / 7)\n",
    "    roll = df.groupby('location_id')['trips_count'].rolling(168, min_periods=1)\n",
    "    df['roll_168h_mean'] = roll.mean().reset_index(level=0, drop=True)\n",
    "    df['roll_168h_median'] = roll.median().reset_index(level=0, drop=True)\n",
    "    df['roll_168h_std'] = roll.std().reset_index(level=0, drop=True).fillna(0)\n",
    "    df['time_idx'] = df.groupby('location_id').cumcount()\n",
    "    return df"
   ],
   "metadata": {
    "collapsed": false,
    "ExecuteTime": {
     "end_time": "2025-06-27T00:14:09.773688Z",
     "start_time": "2025-06-27T00:14:09.768118Z"
    }
   },
   "id": "889e3209881f1e70",
   "execution_count": 25
  },
  {
   "cell_type": "code",
   "outputs": [],
   "source": [
    "def merge_weather(df: pd.DataFrame) -> pd.DataFrame:\n",
    "    start = datetime(2024, 1, 1)\n",
    "    end = datetime(2025, 5, 1)\n",
    "    station = Stations().nearby(40.7128, -74.0060).fetch(1).index[0]\n",
    "    weather = Hourly(station, start, end).fetch().reset_index()\n",
    "    weather['date'] = weather['time'].dt.date\n",
    "    weather['hour'] = weather['time'].dt.hour\n",
    "    weather = weather[['date', 'hour', 'temp', 'prcp', 'wspd']]\n",
    "    weather['date'] = pd.to_datetime(weather['date'])\n",
    "    return df.merge(weather, on=['date', 'hour'], how='left')"
   ],
   "metadata": {
    "collapsed": false,
    "ExecuteTime": {
     "end_time": "2025-06-27T00:14:09.781792Z",
     "start_time": "2025-06-27T00:14:09.778688Z"
    }
   },
   "id": "d279b513fbc5c2",
   "execution_count": 26
  },
  {
   "cell_type": "code",
   "outputs": [],
   "source": [
    "def save_data(df: pd.DataFrame, output: str='result_lstm.csv') -> pd.DataFrame:\n",
    "    df['datetime'] = pd.to_datetime(df['date'].dt.strftime('%Y-%m-%d') + ' ' + df['hour'].astype(str) + ':00')\n",
    "    df = df.sort_values(['location_id', 'datetime']).reset_index(drop=True)\n",
    "    df = df.drop(['datetime'], axis=1)\n",
    "    df.to_csv(output, index=False)\n",
    "    df.head(n=100).to_csv('result_lstm_test.csv', index=False)\n",
    "    return df"
   ],
   "metadata": {
    "collapsed": false,
    "ExecuteTime": {
     "end_time": "2025-06-27T00:14:09.785345Z",
     "start_time": "2025-06-27T00:14:09.781792Z"
    }
   },
   "id": "3f3f8adb6adacbbb",
   "execution_count": 27
  },
  {
   "cell_type": "code",
   "outputs": [],
   "source": [
    "def pipeline() -> pd.DataFrame:\n",
    "    df = load_raw_data()\n",
    "    df = aggregate_trips(df)\n",
    "    df = engineer_features(df)\n",
    "    df = merge_weather(df)\n",
    "    df = save_data(df)\n",
    "    return df"
   ],
   "metadata": {
    "collapsed": false,
    "ExecuteTime": {
     "end_time": "2025-06-27T00:14:09.798663Z",
     "start_time": "2025-06-27T00:14:09.796351Z"
    }
   },
   "id": "dfd216db996ee2cd",
   "execution_count": 28
  },
  {
   "cell_type": "code",
   "outputs": [
    {
     "data": {
      "text/plain": "   location_id        date  hour\n0          161  2024-01-01     0\n1          137  2024-01-01     0\n2           79  2024-01-01     0\n3          234  2024-01-01     0\n4          148  2024-01-01     0",
      "text/html": "<div>\n<style scoped>\n    .dataframe tbody tr th:only-of-type {\n        vertical-align: middle;\n    }\n\n    .dataframe tbody tr th {\n        vertical-align: top;\n    }\n\n    .dataframe thead th {\n        text-align: right;\n    }\n</style>\n<table border=\"1\" class=\"dataframe\">\n  <thead>\n    <tr style=\"text-align: right;\">\n      <th></th>\n      <th>location_id</th>\n      <th>date</th>\n      <th>hour</th>\n    </tr>\n  </thead>\n  <tbody>\n    <tr>\n      <th>0</th>\n      <td>161</td>\n      <td>2024-01-01</td>\n      <td>0</td>\n    </tr>\n    <tr>\n      <th>1</th>\n      <td>137</td>\n      <td>2024-01-01</td>\n      <td>0</td>\n    </tr>\n    <tr>\n      <th>2</th>\n      <td>79</td>\n      <td>2024-01-01</td>\n      <td>0</td>\n    </tr>\n    <tr>\n      <th>3</th>\n      <td>234</td>\n      <td>2024-01-01</td>\n      <td>0</td>\n    </tr>\n    <tr>\n      <th>4</th>\n      <td>148</td>\n      <td>2024-01-01</td>\n      <td>0</td>\n    </tr>\n  </tbody>\n</table>\n</div>"
     },
     "execution_count": 29,
     "metadata": {},
     "output_type": "execute_result"
    }
   ],
   "source": [
    "df1 = load_raw_data()\n",
    "df1.head()"
   ],
   "metadata": {
    "collapsed": false,
    "ExecuteTime": {
     "end_time": "2025-06-27T00:18:16.204417Z",
     "start_time": "2025-06-27T00:14:09.808667Z"
    }
   },
   "id": "b394f57c49f0c417",
   "execution_count": 29
  },
  {
   "cell_type": "code",
   "outputs": [
    {
     "data": {
      "text/plain": "         date  hour  location_id  trips_count\n0  2024-01-01     0            3           73\n1  2024-01-01     0            4          281\n2  2024-01-01     0            5           19\n3  2024-01-01     0            6           32\n4  2024-01-01     0            7          579",
      "text/html": "<div>\n<style scoped>\n    .dataframe tbody tr th:only-of-type {\n        vertical-align: middle;\n    }\n\n    .dataframe tbody tr th {\n        vertical-align: top;\n    }\n\n    .dataframe thead th {\n        text-align: right;\n    }\n</style>\n<table border=\"1\" class=\"dataframe\">\n  <thead>\n    <tr style=\"text-align: right;\">\n      <th></th>\n      <th>date</th>\n      <th>hour</th>\n      <th>location_id</th>\n      <th>trips_count</th>\n    </tr>\n  </thead>\n  <tbody>\n    <tr>\n      <th>0</th>\n      <td>2024-01-01</td>\n      <td>0</td>\n      <td>3</td>\n      <td>73</td>\n    </tr>\n    <tr>\n      <th>1</th>\n      <td>2024-01-01</td>\n      <td>0</td>\n      <td>4</td>\n      <td>281</td>\n    </tr>\n    <tr>\n      <th>2</th>\n      <td>2024-01-01</td>\n      <td>0</td>\n      <td>5</td>\n      <td>19</td>\n    </tr>\n    <tr>\n      <th>3</th>\n      <td>2024-01-01</td>\n      <td>0</td>\n      <td>6</td>\n      <td>32</td>\n    </tr>\n    <tr>\n      <th>4</th>\n      <td>2024-01-01</td>\n      <td>0</td>\n      <td>7</td>\n      <td>579</td>\n    </tr>\n  </tbody>\n</table>\n</div>"
     },
     "execution_count": 30,
     "metadata": {},
     "output_type": "execute_result"
    }
   ],
   "source": [
    "df2 = aggregate_trips(df1)\n",
    "df2.head()"
   ],
   "metadata": {
    "collapsed": false,
    "ExecuteTime": {
     "end_time": "2025-06-27T00:18:44.401626Z",
     "start_time": "2025-06-27T00:18:16.221422Z"
    }
   },
   "id": "18e61e511d4b930f",
   "execution_count": 30
  },
  {
   "cell_type": "code",
   "outputs": [
    {
     "data": {
      "text/plain": "        date  hour  location_id  trips_count  day_of_week  month  is_weekend  \\\n0 2024-01-01     0            3           73            0      1           0   \n1 2024-01-01     0            4          281            0      1           0   \n2 2024-01-01     0            5           19            0      1           0   \n3 2024-01-01     0            6           32            0      1           0   \n4 2024-01-01     0            7          579            0      1           0   \n\n   is_holiday  is_month_start  is_month_end  ...  lag_24h  lag_168h  hour_sin  \\\n0        True               1             0  ...      0.0       0.0       0.0   \n1        True               1             0  ...      0.0       0.0       0.0   \n2        True               1             0  ...      0.0       0.0       0.0   \n3        True               1             0  ...      0.0       0.0       0.0   \n4        True               1             0  ...      0.0       0.0       0.0   \n\n   hour_cos  dow_sin  dow_cos  roll_168h_mean  roll_168h_median  \\\n0       1.0      0.0      1.0            73.0              73.0   \n1       1.0      0.0      1.0           281.0             281.0   \n2       1.0      0.0      1.0            19.0              19.0   \n3       1.0      0.0      1.0            32.0              32.0   \n4       1.0      0.0      1.0           579.0             579.0   \n\n   roll_168h_std  time_idx  \n0            0.0         0  \n1            0.0         0  \n2            0.0         0  \n3            0.0         0  \n4            0.0         0  \n\n[5 rows x 25 columns]",
      "text/html": "<div>\n<style scoped>\n    .dataframe tbody tr th:only-of-type {\n        vertical-align: middle;\n    }\n\n    .dataframe tbody tr th {\n        vertical-align: top;\n    }\n\n    .dataframe thead th {\n        text-align: right;\n    }\n</style>\n<table border=\"1\" class=\"dataframe\">\n  <thead>\n    <tr style=\"text-align: right;\">\n      <th></th>\n      <th>date</th>\n      <th>hour</th>\n      <th>location_id</th>\n      <th>trips_count</th>\n      <th>day_of_week</th>\n      <th>month</th>\n      <th>is_weekend</th>\n      <th>is_holiday</th>\n      <th>is_month_start</th>\n      <th>is_month_end</th>\n      <th>...</th>\n      <th>lag_24h</th>\n      <th>lag_168h</th>\n      <th>hour_sin</th>\n      <th>hour_cos</th>\n      <th>dow_sin</th>\n      <th>dow_cos</th>\n      <th>roll_168h_mean</th>\n      <th>roll_168h_median</th>\n      <th>roll_168h_std</th>\n      <th>time_idx</th>\n    </tr>\n  </thead>\n  <tbody>\n    <tr>\n      <th>0</th>\n      <td>2024-01-01</td>\n      <td>0</td>\n      <td>3</td>\n      <td>73</td>\n      <td>0</td>\n      <td>1</td>\n      <td>0</td>\n      <td>True</td>\n      <td>1</td>\n      <td>0</td>\n      <td>...</td>\n      <td>0.0</td>\n      <td>0.0</td>\n      <td>0.0</td>\n      <td>1.0</td>\n      <td>0.0</td>\n      <td>1.0</td>\n      <td>73.0</td>\n      <td>73.0</td>\n      <td>0.0</td>\n      <td>0</td>\n    </tr>\n    <tr>\n      <th>1</th>\n      <td>2024-01-01</td>\n      <td>0</td>\n      <td>4</td>\n      <td>281</td>\n      <td>0</td>\n      <td>1</td>\n      <td>0</td>\n      <td>True</td>\n      <td>1</td>\n      <td>0</td>\n      <td>...</td>\n      <td>0.0</td>\n      <td>0.0</td>\n      <td>0.0</td>\n      <td>1.0</td>\n      <td>0.0</td>\n      <td>1.0</td>\n      <td>281.0</td>\n      <td>281.0</td>\n      <td>0.0</td>\n      <td>0</td>\n    </tr>\n    <tr>\n      <th>2</th>\n      <td>2024-01-01</td>\n      <td>0</td>\n      <td>5</td>\n      <td>19</td>\n      <td>0</td>\n      <td>1</td>\n      <td>0</td>\n      <td>True</td>\n      <td>1</td>\n      <td>0</td>\n      <td>...</td>\n      <td>0.0</td>\n      <td>0.0</td>\n      <td>0.0</td>\n      <td>1.0</td>\n      <td>0.0</td>\n      <td>1.0</td>\n      <td>19.0</td>\n      <td>19.0</td>\n      <td>0.0</td>\n      <td>0</td>\n    </tr>\n    <tr>\n      <th>3</th>\n      <td>2024-01-01</td>\n      <td>0</td>\n      <td>6</td>\n      <td>32</td>\n      <td>0</td>\n      <td>1</td>\n      <td>0</td>\n      <td>True</td>\n      <td>1</td>\n      <td>0</td>\n      <td>...</td>\n      <td>0.0</td>\n      <td>0.0</td>\n      <td>0.0</td>\n      <td>1.0</td>\n      <td>0.0</td>\n      <td>1.0</td>\n      <td>32.0</td>\n      <td>32.0</td>\n      <td>0.0</td>\n      <td>0</td>\n    </tr>\n    <tr>\n      <th>4</th>\n      <td>2024-01-01</td>\n      <td>0</td>\n      <td>7</td>\n      <td>579</td>\n      <td>0</td>\n      <td>1</td>\n      <td>0</td>\n      <td>True</td>\n      <td>1</td>\n      <td>0</td>\n      <td>...</td>\n      <td>0.0</td>\n      <td>0.0</td>\n      <td>0.0</td>\n      <td>1.0</td>\n      <td>0.0</td>\n      <td>1.0</td>\n      <td>579.0</td>\n      <td>579.0</td>\n      <td>0.0</td>\n      <td>0</td>\n    </tr>\n  </tbody>\n</table>\n<p>5 rows × 25 columns</p>\n</div>"
     },
     "execution_count": 31,
     "metadata": {},
     "output_type": "execute_result"
    }
   ],
   "source": [
    "df3 = engineer_features(df2)\n",
    "df3.head()"
   ],
   "metadata": {
    "collapsed": false,
    "ExecuteTime": {
     "end_time": "2025-06-27T00:18:55.284097Z",
     "start_time": "2025-06-27T00:18:44.402630Z"
    }
   },
   "id": "5d949550f9ac6a03",
   "execution_count": 31
  },
  {
   "cell_type": "code",
   "outputs": [
    {
     "data": {
      "text/plain": "        date  hour  location_id  trips_count  day_of_week  month  is_weekend  \\\n0 2024-01-01     0            3           73            0      1           0   \n1 2024-01-01     0            4          281            0      1           0   \n2 2024-01-01     0            5           19            0      1           0   \n3 2024-01-01     0            6           32            0      1           0   \n4 2024-01-01     0            7          579            0      1           0   \n\n   is_holiday  is_month_start  is_month_end  ...  hour_cos  dow_sin  dow_cos  \\\n0        True               1             0  ...       1.0      0.0      1.0   \n1        True               1             0  ...       1.0      0.0      1.0   \n2        True               1             0  ...       1.0      0.0      1.0   \n3        True               1             0  ...       1.0      0.0      1.0   \n4        True               1             0  ...       1.0      0.0      1.0   \n\n   roll_168h_mean  roll_168h_median  roll_168h_std  time_idx  temp  prcp  wspd  \n0            73.0              73.0            0.0         0   6.0   0.0  11.0  \n1           281.0             281.0            0.0         0   6.0   0.0  11.0  \n2            19.0              19.0            0.0         0   6.0   0.0  11.0  \n3            32.0              32.0            0.0         0   6.0   0.0  11.0  \n4           579.0             579.0            0.0         0   6.0   0.0  11.0  \n\n[5 rows x 28 columns]",
      "text/html": "<div>\n<style scoped>\n    .dataframe tbody tr th:only-of-type {\n        vertical-align: middle;\n    }\n\n    .dataframe tbody tr th {\n        vertical-align: top;\n    }\n\n    .dataframe thead th {\n        text-align: right;\n    }\n</style>\n<table border=\"1\" class=\"dataframe\">\n  <thead>\n    <tr style=\"text-align: right;\">\n      <th></th>\n      <th>date</th>\n      <th>hour</th>\n      <th>location_id</th>\n      <th>trips_count</th>\n      <th>day_of_week</th>\n      <th>month</th>\n      <th>is_weekend</th>\n      <th>is_holiday</th>\n      <th>is_month_start</th>\n      <th>is_month_end</th>\n      <th>...</th>\n      <th>hour_cos</th>\n      <th>dow_sin</th>\n      <th>dow_cos</th>\n      <th>roll_168h_mean</th>\n      <th>roll_168h_median</th>\n      <th>roll_168h_std</th>\n      <th>time_idx</th>\n      <th>temp</th>\n      <th>prcp</th>\n      <th>wspd</th>\n    </tr>\n  </thead>\n  <tbody>\n    <tr>\n      <th>0</th>\n      <td>2024-01-01</td>\n      <td>0</td>\n      <td>3</td>\n      <td>73</td>\n      <td>0</td>\n      <td>1</td>\n      <td>0</td>\n      <td>True</td>\n      <td>1</td>\n      <td>0</td>\n      <td>...</td>\n      <td>1.0</td>\n      <td>0.0</td>\n      <td>1.0</td>\n      <td>73.0</td>\n      <td>73.0</td>\n      <td>0.0</td>\n      <td>0</td>\n      <td>6.0</td>\n      <td>0.0</td>\n      <td>11.0</td>\n    </tr>\n    <tr>\n      <th>1</th>\n      <td>2024-01-01</td>\n      <td>0</td>\n      <td>4</td>\n      <td>281</td>\n      <td>0</td>\n      <td>1</td>\n      <td>0</td>\n      <td>True</td>\n      <td>1</td>\n      <td>0</td>\n      <td>...</td>\n      <td>1.0</td>\n      <td>0.0</td>\n      <td>1.0</td>\n      <td>281.0</td>\n      <td>281.0</td>\n      <td>0.0</td>\n      <td>0</td>\n      <td>6.0</td>\n      <td>0.0</td>\n      <td>11.0</td>\n    </tr>\n    <tr>\n      <th>2</th>\n      <td>2024-01-01</td>\n      <td>0</td>\n      <td>5</td>\n      <td>19</td>\n      <td>0</td>\n      <td>1</td>\n      <td>0</td>\n      <td>True</td>\n      <td>1</td>\n      <td>0</td>\n      <td>...</td>\n      <td>1.0</td>\n      <td>0.0</td>\n      <td>1.0</td>\n      <td>19.0</td>\n      <td>19.0</td>\n      <td>0.0</td>\n      <td>0</td>\n      <td>6.0</td>\n      <td>0.0</td>\n      <td>11.0</td>\n    </tr>\n    <tr>\n      <th>3</th>\n      <td>2024-01-01</td>\n      <td>0</td>\n      <td>6</td>\n      <td>32</td>\n      <td>0</td>\n      <td>1</td>\n      <td>0</td>\n      <td>True</td>\n      <td>1</td>\n      <td>0</td>\n      <td>...</td>\n      <td>1.0</td>\n      <td>0.0</td>\n      <td>1.0</td>\n      <td>32.0</td>\n      <td>32.0</td>\n      <td>0.0</td>\n      <td>0</td>\n      <td>6.0</td>\n      <td>0.0</td>\n      <td>11.0</td>\n    </tr>\n    <tr>\n      <th>4</th>\n      <td>2024-01-01</td>\n      <td>0</td>\n      <td>7</td>\n      <td>579</td>\n      <td>0</td>\n      <td>1</td>\n      <td>0</td>\n      <td>True</td>\n      <td>1</td>\n      <td>0</td>\n      <td>...</td>\n      <td>1.0</td>\n      <td>0.0</td>\n      <td>1.0</td>\n      <td>579.0</td>\n      <td>579.0</td>\n      <td>0.0</td>\n      <td>0</td>\n      <td>6.0</td>\n      <td>0.0</td>\n      <td>11.0</td>\n    </tr>\n  </tbody>\n</table>\n<p>5 rows × 28 columns</p>\n</div>"
     },
     "execution_count": 32,
     "metadata": {},
     "output_type": "execute_result"
    }
   ],
   "source": [
    "df4 = merge_weather(df3)\n",
    "df4.head()"
   ],
   "metadata": {
    "collapsed": false,
    "ExecuteTime": {
     "end_time": "2025-06-27T00:18:55.873459Z",
     "start_time": "2025-06-27T00:18:55.286101Z"
    }
   },
   "id": "17fb20229ce9a130",
   "execution_count": 32
  },
  {
   "cell_type": "code",
   "outputs": [
    {
     "data": {
      "text/plain": "        date  hour  location_id  trips_count  day_of_week  month  is_weekend  \\\n0 2024-01-01     5            1            1            0      1           0   \n1 2024-01-01     6            1            3            0      1           0   \n2 2024-01-01    13            1            3            0      1           0   \n3 2024-01-01    14            1            6            0      1           0   \n4 2024-01-01    15            1            2            0      1           0   \n\n   is_holiday  is_month_start  is_month_end  ...      hour_cos  dow_sin  \\\n0        True               1             0  ...  2.588190e-01      0.0   \n1        True               1             0  ...  6.123234e-17      0.0   \n2        True               1             0  ... -9.659258e-01      0.0   \n3        True               1             0  ... -8.660254e-01      0.0   \n4        True               1             0  ... -7.071068e-01      0.0   \n\n   dow_cos  roll_168h_mean  roll_168h_median  roll_168h_std  time_idx  temp  \\\n0      1.0        1.000000               1.0       0.000000         0   5.6   \n1      1.0        2.000000               2.0       1.414214         1   5.6   \n2      1.0        2.333333               3.0       1.154701         2   5.0   \n3      1.0        3.250000               3.0       2.061553         3   5.0   \n4      1.0        3.000000               3.0       1.870829         4   5.6   \n\n   prcp  wspd  \n0   0.0  14.8  \n1   0.0  14.8  \n2   0.0   0.0  \n3   0.0   9.4  \n4   0.0   7.6  \n\n[5 rows x 28 columns]",
      "text/html": "<div>\n<style scoped>\n    .dataframe tbody tr th:only-of-type {\n        vertical-align: middle;\n    }\n\n    .dataframe tbody tr th {\n        vertical-align: top;\n    }\n\n    .dataframe thead th {\n        text-align: right;\n    }\n</style>\n<table border=\"1\" class=\"dataframe\">\n  <thead>\n    <tr style=\"text-align: right;\">\n      <th></th>\n      <th>date</th>\n      <th>hour</th>\n      <th>location_id</th>\n      <th>trips_count</th>\n      <th>day_of_week</th>\n      <th>month</th>\n      <th>is_weekend</th>\n      <th>is_holiday</th>\n      <th>is_month_start</th>\n      <th>is_month_end</th>\n      <th>...</th>\n      <th>hour_cos</th>\n      <th>dow_sin</th>\n      <th>dow_cos</th>\n      <th>roll_168h_mean</th>\n      <th>roll_168h_median</th>\n      <th>roll_168h_std</th>\n      <th>time_idx</th>\n      <th>temp</th>\n      <th>prcp</th>\n      <th>wspd</th>\n    </tr>\n  </thead>\n  <tbody>\n    <tr>\n      <th>0</th>\n      <td>2024-01-01</td>\n      <td>5</td>\n      <td>1</td>\n      <td>1</td>\n      <td>0</td>\n      <td>1</td>\n      <td>0</td>\n      <td>True</td>\n      <td>1</td>\n      <td>0</td>\n      <td>...</td>\n      <td>2.588190e-01</td>\n      <td>0.0</td>\n      <td>1.0</td>\n      <td>1.000000</td>\n      <td>1.0</td>\n      <td>0.000000</td>\n      <td>0</td>\n      <td>5.6</td>\n      <td>0.0</td>\n      <td>14.8</td>\n    </tr>\n    <tr>\n      <th>1</th>\n      <td>2024-01-01</td>\n      <td>6</td>\n      <td>1</td>\n      <td>3</td>\n      <td>0</td>\n      <td>1</td>\n      <td>0</td>\n      <td>True</td>\n      <td>1</td>\n      <td>0</td>\n      <td>...</td>\n      <td>6.123234e-17</td>\n      <td>0.0</td>\n      <td>1.0</td>\n      <td>2.000000</td>\n      <td>2.0</td>\n      <td>1.414214</td>\n      <td>1</td>\n      <td>5.6</td>\n      <td>0.0</td>\n      <td>14.8</td>\n    </tr>\n    <tr>\n      <th>2</th>\n      <td>2024-01-01</td>\n      <td>13</td>\n      <td>1</td>\n      <td>3</td>\n      <td>0</td>\n      <td>1</td>\n      <td>0</td>\n      <td>True</td>\n      <td>1</td>\n      <td>0</td>\n      <td>...</td>\n      <td>-9.659258e-01</td>\n      <td>0.0</td>\n      <td>1.0</td>\n      <td>2.333333</td>\n      <td>3.0</td>\n      <td>1.154701</td>\n      <td>2</td>\n      <td>5.0</td>\n      <td>0.0</td>\n      <td>0.0</td>\n    </tr>\n    <tr>\n      <th>3</th>\n      <td>2024-01-01</td>\n      <td>14</td>\n      <td>1</td>\n      <td>6</td>\n      <td>0</td>\n      <td>1</td>\n      <td>0</td>\n      <td>True</td>\n      <td>1</td>\n      <td>0</td>\n      <td>...</td>\n      <td>-8.660254e-01</td>\n      <td>0.0</td>\n      <td>1.0</td>\n      <td>3.250000</td>\n      <td>3.0</td>\n      <td>2.061553</td>\n      <td>3</td>\n      <td>5.0</td>\n      <td>0.0</td>\n      <td>9.4</td>\n    </tr>\n    <tr>\n      <th>4</th>\n      <td>2024-01-01</td>\n      <td>15</td>\n      <td>1</td>\n      <td>2</td>\n      <td>0</td>\n      <td>1</td>\n      <td>0</td>\n      <td>True</td>\n      <td>1</td>\n      <td>0</td>\n      <td>...</td>\n      <td>-7.071068e-01</td>\n      <td>0.0</td>\n      <td>1.0</td>\n      <td>3.000000</td>\n      <td>3.0</td>\n      <td>1.870829</td>\n      <td>4</td>\n      <td>5.6</td>\n      <td>0.0</td>\n      <td>7.6</td>\n    </tr>\n  </tbody>\n</table>\n<p>5 rows × 28 columns</p>\n</div>"
     },
     "execution_count": 33,
     "metadata": {},
     "output_type": "execute_result"
    }
   ],
   "source": [
    "df5 = save_data(df4)\n",
    "df5.head()"
   ],
   "metadata": {
    "collapsed": false,
    "ExecuteTime": {
     "end_time": "2025-06-27T00:19:17.832858Z",
     "start_time": "2025-06-27T00:18:55.874465Z"
    }
   },
   "id": "6f3d311c0314037e",
   "execution_count": 33
  },
  {
   "cell_type": "markdown",
   "source": [
    "## Улучшенная архитектура модели"
   ],
   "metadata": {
    "collapsed": false
   },
   "id": "4c5eeddf4e71d999"
  },
  {
   "cell_type": "markdown",
   "source": [
    "### Данные\n",
    "– Добавил набор новых признаков, расширив датасет по «ширине»:\n",
    "• Календарные: `month`, `is_weekend`, `is_month_start`, `is_month_end`, `day_of_year`, `week_of_year`, `is_pre_holiday`, `is_post_holiday`\n",
    "• Лаговые: `lag_1h`, `lag_24h`, `lag_168h`\n",
    "• Статистики за неделю: `roll_168h_mean`, `roll_168h_median`, `roll_168h_std`\n",
    "• Абсолютный индекс времени: `time_idx`\n",
    "• Метео-фичи: `temp`, `prcp`, `wspd`\n",
    "\n",
    "– Добавил метку района (`region_id`) в саму входную последовательность, чтобы модель учитывала географический контекст.\n",
    "\n",
    "– Благодаря этому размерность датасета по признакам заметно выросла, что дало модели больше контекста и улучшило качество прогнозирования.\n",
    "\n",
    "– И сам объём данных для анализа был расширен за счёт добавления новых записей.\n",
    "\n",
    "---\n",
    "\n",
    "### Модель\n",
    "\n",
    "* **Глубже:** два LSTM-слоя с 128 и 64 нейронами, BatchNorm и Dropout после каждого.\n",
    "* **Нормализация:** BatchNormalization ускоряет обучение и стабилизирует градиенты.\n",
    "* **Регуляризация:** Dropout (0.2) помогает избежать переобучения.\n",
    "* **Быстрее сходится:** оптимизатор Adam с learning rate = 1e-3.\n",
    "* **Loss-функция:** Huber — устойчива к выбросам, подходит для регрессии.\n",
    "\n",
    "\n"
   ],
   "metadata": {
    "collapsed": false
   },
   "id": "29772171add65a9a"
  },
  {
   "cell_type": "code",
   "outputs": [],
   "source": [
    "import pandas as pd\n",
    "import numpy as np\n",
    "from sklearn.preprocessing import StandardScaler, OneHotEncoder\n",
    "from sklearn.metrics import mean_absolute_error, mean_squared_error, mean_absolute_percentage_error, r2_score\n",
    "from sklearn.linear_model import LinearRegression\n",
    "from sklearn.multioutput import MultiOutputRegressor\n",
    "from tensorflow.keras import Model, Input, callbacks\n",
    "from tensorflow.keras.layers import LSTM, Dropout, Dense, Add, Embedding, Flatten, concatenate"
   ],
   "metadata": {
    "collapsed": false,
    "ExecuteTime": {
     "end_time": "2025-06-27T00:19:17.848016Z",
     "start_time": "2025-06-27T00:19:17.833862Z"
    }
   },
   "id": "6b74469017329bae",
   "execution_count": 34
  },
  {
   "cell_type": "code",
   "outputs": [],
   "source": [
    "def create_sequences(\n",
    "    df: pd.DataFrame,\n",
    "    past_steps: int = 72,\n",
    "    future_steps: int = 24\n",
    ") -> tuple[np.ndarray, np.ndarray, np.ndarray, dict[int, int]]:\n",
    "    locs = df['location_id'].unique()\n",
    "    loc2idx = {loc: idx for idx, loc in enumerate(locs)}\n",
    "    seqs, tars, regions = [], [], []\n",
    "    features_cols = [\n",
    "        'trips_count', 'hour_sin', 'hour_cos', 'dow_sin', 'dow_cos',\n",
    "        'is_holiday', 'month', 'is_weekend', 'is_month_start', 'is_month_end',\n",
    "        'day_of_year', 'week_of_year', 'is_pre_holiday', 'is_post_holiday',\n",
    "        'lag_1h', 'lag_24h', 'lag_168h', 'roll_168h_mean', 'roll_168h_median', 'roll_168h_std',\n",
    "        'time_idx', 'temp', 'prcp', 'wspd'\n",
    "    ]\n",
    "    for loc in locs:\n",
    "        sub = df[df['location_id'] == loc]\n",
    "        features = np.stack([sub[c].values for c in features_cols], axis=1)\n",
    "        rides = sub['trips_count'].values\n",
    "        for i in range(past_steps, len(features) - future_steps + 1):\n",
    "            seqs.append(features[i - past_steps:i])\n",
    "            tars.append(rides[i:i + future_steps])\n",
    "            regions.append(loc2idx[loc])\n",
    "    return np.array(seqs, dtype='float32'), np.array(tars, dtype='float32'), np.array(regions), loc2idx"
   ],
   "metadata": {
    "collapsed": false,
    "ExecuteTime": {
     "end_time": "2025-06-27T00:19:17.861441Z",
     "start_time": "2025-06-27T00:19:17.849022Z"
    }
   },
   "id": "583779c88f34b26c",
   "execution_count": 35
  },
  {
   "cell_type": "code",
   "outputs": [],
   "source": [
    "from numpy import ndarray\n",
    "def prepare_data(\n",
    "    X: ndarray,\n",
    "    y: ndarray,\n",
    "    regions: ndarray\n",
    ") -> tuple[\n",
    "    ndarray,  # X_train_s\n",
    "    ndarray,  # X_val_s\n",
    "    ndarray,  # X_test_s\n",
    "    ndarray,  # y_train\n",
    "    ndarray,  # y_val\n",
    "    ndarray,  # y_test\n",
    "    ndarray,  # y_train_s\n",
    "    ndarray,  # y_val_s\n",
    "    StandardScaler,  # scaler_y\n",
    "    StandardScaler,  # scaler_X\n",
    "    ndarray,  # regions_train\n",
    "    ndarray,  # regions_val\n",
    "    ndarray   # regions_test\n",
    "]:\n",
    "    n = len(X)\n",
    "    cut1, cut2 = int(0.6 * n), int(0.8 * n)\n",
    "\n",
    "    X_train, y_train, regions_train = X[:cut1], y[:cut1], regions[:cut1]\n",
    "    X_val  , y_val  , regions_val   = X[cut1:cut2], y[cut1:cut2], regions[cut1:cut2]\n",
    "    X_test , y_test , regions_test  = X[cut2:],    y[cut2:],    regions[cut2:]\n",
    "    \n",
    "    scaler_y = StandardScaler().fit(y_train.reshape(-1, 1))\n",
    "    y_train_s = scaler_y.transform(y_train.reshape(-1, 1)).reshape(y_train.shape)\n",
    "    y_val_s = scaler_y.transform(y_val.reshape(-1, 1)).reshape(y_val.shape)\n",
    "    \n",
    "    n_features = X_train.shape[2]\n",
    "    means = np.nanmean(X_train.reshape(-1, n_features), axis=0)\n",
    "    means = np.nan_to_num(means, nan=0.0)\n",
    "    for arr in (X_train, X_val, X_test):\n",
    "        mask = np.isnan(arr)\n",
    "        arr[mask] = np.take(means, np.where(mask)[2])\n",
    "        \n",
    "    scaler_X = StandardScaler().fit(X_train.reshape(-1, n_features))\n",
    "    \n",
    "    def scale_split(X_split: ndarray) -> ndarray:\n",
    "        flat = X_split.reshape(-1, n_features)\n",
    "        return scaler_X.transform(flat).reshape(X_split.shape)\n",
    "    X_train_s, X_val_s, X_test_s = scale_split(X_train), scale_split(X_val), scale_split(X_test)\n",
    "    return (X_train_s, X_val_s, X_test_s, y_train, y_val, y_test, y_train_s,\n",
    "            y_val_s, scaler_y, scaler_X, regions_train, regions_val, regions_test)"
   ],
   "metadata": {
    "collapsed": false,
    "ExecuteTime": {
     "end_time": "2025-06-27T00:19:17.875046Z",
     "start_time": "2025-06-27T00:19:17.862446Z"
    }
   },
   "id": "a1e3c01186df65a2",
   "execution_count": 36
  },
  {
   "cell_type": "code",
   "outputs": [],
   "source": [
    "from tensorflow.keras import Model\n",
    "from tensorflow.keras.layers import Input, LSTM, Dropout, Dense, BatchNormalization\n",
    "from tensorflow.keras.optimizers import Adam\n",
    "from tensorflow.keras.losses import Huber\n",
    "\n",
    "def build_lstm(input_shape, output_steps):\n",
    "    seq_input = Input(shape=input_shape, name='seq_input')\n",
    "    x = LSTM(128, return_sequences=True, name='lstm_1')(seq_input)\n",
    "    x = BatchNormalization(name='bn_1')(x)\n",
    "    x = Dropout(0.2, name='do_1')(x)\n",
    "    \n",
    "    x = LSTM(64, return_sequences=False, name='lstm_2')(x)\n",
    "    x = BatchNormalization(name='bn_2')(x)\n",
    "    x = Dropout(0.2, name='do_2')(x)\n",
    "    \n",
    "    out = Dense(output_steps, activation='linear', name='forecast')(x)\n",
    "    \n",
    "    model = Model(inputs=seq_input, outputs=out, name='LSTM_simple')\n",
    "    opt = Adam(learning_rate=1e-3)\n",
    "    model.compile(\n",
    "        optimizer=opt,\n",
    "        loss=Huber(),\n",
    "        metrics=['mae', 'mape']\n",
    "    )\n",
    "    return model"
   ],
   "metadata": {
    "collapsed": false,
    "ExecuteTime": {
     "end_time": "2025-06-28T20:19:15.535856Z",
     "start_time": "2025-06-28T20:19:15.396802Z"
    }
   },
   "id": "154060ffbef7b061",
   "execution_count": 63
  },
  {
   "cell_type": "markdown",
   "source": [
    "## Постобработка"
   ],
   "metadata": {
    "collapsed": false
   },
   "id": "92e092581f8cd7f1"
  },
  {
   "cell_type": "code",
   "outputs": [],
   "source": [
    "def evaluate(y_true: np.ndarray, y_pred: np.ndarray) -> dict[str, float]:\n",
    "    mae = mean_absolute_error(y_true, y_pred)\n",
    "    rmse = np.sqrt(mean_squared_error(y_true, y_pred))\n",
    "    mape = mean_absolute_percentage_error(y_true, y_pred)\n",
    "    r2 = r2_score(y_true, y_pred, multioutput='uniform_average')\n",
    "    comp = (mae + rmse + mape + (1 - r2)) / 4\n",
    "    return {'MAE': mae, 'RMSE': rmse, 'MAPE': mape, 'R2': r2, 'Composite': comp}"
   ],
   "metadata": {
    "collapsed": false,
    "ExecuteTime": {
     "end_time": "2025-06-27T00:19:17.892634Z",
     "start_time": "2025-06-27T00:19:17.887099Z"
    }
   },
   "id": "48100f9abf32654a",
   "execution_count": 38
  },
  {
   "cell_type": "code",
   "outputs": [],
   "source": [
    "def post_process(\n",
    "    y_pred_s: np.ndarray,\n",
    "    scaler_y: StandardScaler,\n",
    ") -> np.ndarray:\n",
    "    y = y_pred_s.copy()\n",
    "    y = scaler_y.inverse_transform(y.reshape(-1, 1)).reshape(y.shape)\n",
    "    y = np.clip(y, 0, None)\n",
    "    y = np.round(y)\n",
    "    return y"
   ],
   "metadata": {
    "collapsed": false,
    "ExecuteTime": {
     "end_time": "2025-06-27T00:19:17.896592Z",
     "start_time": "2025-06-27T00:19:17.892634Z"
    }
   },
   "id": "572d8b27d7b4ae25",
   "execution_count": 39
  },
  {
   "cell_type": "markdown",
   "source": [
    "## Анализ"
   ],
   "metadata": {
    "collapsed": false
   },
   "id": "ebf5fbc71ebdf845"
  },
  {
   "cell_type": "code",
   "outputs": [
    {
     "name": "stdout",
     "output_type": "stream",
     "text": [
      "Epoch 1/10\n",
      "\u001B[1m23267/23267\u001B[0m \u001B[32m━━━━━━━━━━━━━━━━━━━━\u001B[0m\u001B[37m\u001B[0m \u001B[1m4306s\u001B[0m 185ms/step - loss: 0.0692 - mae: 0.2409 - mape: 122.4800 - val_loss: 0.0397 - val_mae: 0.1566 - val_mape: 74.8058\n",
      "Epoch 2/10\n",
      "\u001B[1m23267/23267\u001B[0m \u001B[32m━━━━━━━━━━━━━━━━━━━━\u001B[0m\u001B[37m\u001B[0m \u001B[1m4306s\u001B[0m 185ms/step - loss: 0.0386 - mae: 0.1855 - mape: 93.8325 - val_loss: 0.0368 - val_mae: 0.1417 - val_mape: 73.2763\n",
      "Epoch 3/10\n",
      "\u001B[1m23267/23267\u001B[0m \u001B[32m━━━━━━━━━━━━━━━━━━━━\u001B[0m\u001B[37m\u001B[0m \u001B[1m4559s\u001B[0m 196ms/step - loss: 0.0348 - mae: 0.1788 - mape: 90.5591 - val_loss: 0.0367 - val_mae: 0.1442 - val_mape: 73.5616\n",
      "Epoch 4/10\n",
      "\u001B[1m23267/23267\u001B[0m \u001B[32m━━━━━━━━━━━━━━━━━━━━\u001B[0m\u001B[37m\u001B[0m \u001B[1m4671s\u001B[0m 201ms/step - loss: 0.0329 - mae: 0.1754 - mape: 88.5428 - val_loss: 0.0362 - val_mae: 0.1379 - val_mape: 71.1134\n",
      "Epoch 5/10\n",
      "\u001B[1m23267/23267\u001B[0m \u001B[32m━━━━━━━━━━━━━━━━━━━━\u001B[0m\u001B[37m\u001B[0m \u001B[1m4807s\u001B[0m 207ms/step - loss: 0.0321 - mae: 0.1740 - mape: 87.7687 - val_loss: 0.0349 - val_mae: 0.1384 - val_mape: 67.6731\n",
      "Epoch 6/10\n",
      "\u001B[1m23267/23267\u001B[0m \u001B[32m━━━━━━━━━━━━━━━━━━━━\u001B[0m\u001B[37m\u001B[0m \u001B[1m4946s\u001B[0m 213ms/step - loss: 0.0314 - mae: 0.1726 - mape: 87.4901 - val_loss: 0.0353 - val_mae: 0.1414 - val_mape: 66.2952\n",
      "Epoch 7/10\n",
      "\u001B[1m23267/23267\u001B[0m \u001B[32m━━━━━━━━━━━━━━━━━━━━\u001B[0m\u001B[37m\u001B[0m \u001B[1m5133s\u001B[0m 221ms/step - loss: 0.0309 - mae: 0.1718 - mape: 86.8961 - val_loss: 0.0350 - val_mae: 0.1352 - val_mape: 68.3012\n",
      "\u001B[1m15511/15511\u001B[0m \u001B[32m━━━━━━━━━━━━━━━━━━━━\u001B[0m\u001B[37m\u001B[0m \u001B[1m941s\u001B[0m 61ms/step\n",
      "                 MAE       RMSE      MAPE        R2  Composite\n",
      "LSTM       10.498756  14.550635  0.501045  0.921283   6.407288\n",
      "LinearReg  21.440674  30.229760  0.971337  0.660239  13.245383\n"
     ]
    }
   ],
   "source": [
    "df = pd.read_csv('result_lstm.csv')\n",
    "X, y, regions, loc2idx = create_sequences(df)\n",
    "X_train, X_val, X_test, y_train, y_val, y_test, y_train_s, y_val_s, scaler_y, scaler_X, regions_train, regions_val, regions_test = prepare_data(X, y, regions)\n",
    "\n",
    "X_tr_flat = X_train.reshape(len(X_train), -1)\n",
    "X_te_flat = X_test.reshape(len(X_test), -1)\n",
    "reg = MultiOutputRegressor(LinearRegression())\n",
    "reg.fit(X_tr_flat, y_train)\n",
    "y_reg = reg.predict(X_te_flat)\n",
    "lstm = build_lstm(X_train.shape[1:], y_train_s.shape[1])\n",
    "es = callbacks.EarlyStopping(monitor='val_loss', patience=2, restore_best_weights=True)\n",
    "lstm.fit(X_train, y_train_s, validation_data=(X_val, y_val_s), epochs=10, batch_size=64, callbacks=[es], verbose=1)\n",
    "y_l_s = lstm.predict(X_test)\n",
    "y_l = post_process(\n",
    "        y_pred_s=y_l_s,\n",
    "        scaler_y=scaler_y,\n",
    "    )\n",
    "results = {\n",
    "        'LinearReg': evaluate(y_test, y_reg),\n",
    "        'LSTM': evaluate(y_test, y_l)\n",
    "    }\n",
    "print(pd.DataFrame(results).T.sort_values('MAE'))\n",
    "np.save('y_test1.npy', y_test)\n",
    "np.save('y_l1.npy', y_l)"
   ],
   "metadata": {
    "collapsed": false,
    "ExecuteTime": {
     "end_time": "2025-06-29T06:15:20.147876Z",
     "start_time": "2025-06-28T20:19:20.762672Z"
    }
   },
   "id": "699408399c5c1fa7",
   "execution_count": 64
  },
  {
   "cell_type": "code",
   "outputs": [],
   "source": [
    "import numpy as np\n",
    "import pandas as pd\n",
    "from sklearn.metrics import mean_absolute_error, mean_squared_error, r2_score\n",
    "import matplotlib.pyplot as plt\n",
    "import seaborn as sns\n",
    "from IPython.display import display, Markdown\n",
    "def detailed_analysis(\n",
    "    y_true: np.ndarray,\n",
    "    y_pred: np.ndarray,\n",
    "    top_n: int = 10\n",
    ") -> None:\n",
    "    idx2loc = {v: k for k, v in loc2idx.items()}\n",
    "    n_samples, n_regions = y_true.shape\n",
    "    hours_in_day = 24\n",
    "    n_days = n_samples // hours_in_day\n",
    "    max_rows = n_days * hours_in_day\n",
    "\n",
    "    y_true_cut = y_true[:max_rows]\n",
    "    y_pred_cut = y_pred[:max_rows]\n",
    "\n",
    "    y_true_d = y_true_cut.reshape(n_days, hours_in_day, n_regions)\n",
    "    y_pred_d = y_pred_cut.reshape(n_days, hours_in_day, n_regions)\n",
    "\n",
    "    metrics_by_hod = []\n",
    "    for h in range(hours_in_day):\n",
    "        t = y_true_d[:, h, :].ravel()\n",
    "        p = y_pred_d[:, h, :].ravel()\n",
    "        mae = mean_absolute_error(t, p)\n",
    "        rmse = np.sqrt(mean_squared_error(t, p))\n",
    "        mape = np.mean(np.abs((t - p) / t))\n",
    "        r2 = r2_score(t, p)\n",
    "        composite = (mae + rmse + mape + (1 - r2)) / 4\n",
    "        metrics_by_hod.append([mae, rmse, mape, r2, composite])\n",
    "    hours_df = pd.DataFrame(\n",
    "        metrics_by_hod,\n",
    "        index=np.arange(hours_in_day),\n",
    "        columns=['MAE', 'RMSE', 'MAPE', 'R2', 'Composite']\n",
    "    )\n",
    "\n",
    "    maes = {}\n",
    "    for idx in np.unique(regions_test):\n",
    "        mask = regions_test == idx\n",
    "        t = y_true[mask].ravel()\n",
    "        p = y_pred[mask].ravel()\n",
    "        maes[idx2loc[idx]] = mean_absolute_error(t, p)\n",
    "\n",
    "    regions_mae_df = pd.DataFrame.from_dict(\n",
    "        maes,\n",
    "        orient='index',\n",
    "        columns=['MAE']\n",
    "    )\n",
    "    regions_mae_df.index.name = 'Region'\n",
    "    regions_mae_df.columns.name = 'Metric'\n",
    "\n",
    "    top_hours = hours_df.nsmallest(top_n, 'Composite')\n",
    "    display(Markdown(f'**Топ {top_n} часов суток (по Composite):**'))\n",
    "    display(top_hours)\n",
    "    \n",
    "    top_regions = regions_mae_df.nsmallest(top_n, 'MAE')\n",
    "    display(Markdown(f'**Топ {top_n} районов (по MAE):**'))\n",
    "    display(top_regions)\n",
    "\n",
    "\n",
    "    plt.figure(figsize=(8, 4))\n",
    "    plt.plot(hours_df.index, hours_df['MAE'], marker='o')\n",
    "    plt.xlabel('Час суток')\n",
    "    plt.ylabel('MAE')\n",
    "    plt.title('MAE по часам суток')\n",
    "    plt.grid(True)\n",
    "    plt.show()\n",
    "    region_ids = np.unique(regions_test)\n",
    "    err_matrix = np.zeros((hours_in_day, len(region_ids)))\n",
    "    for j, idx in enumerate(region_ids):\n",
    "        mask = (regions_test == idx)\n",
    "        for h in range(hours_in_day):\n",
    "            t = y_true[mask, h]\n",
    "            p = y_pred[mask, h]\n",
    "            err_matrix[h, j] = np.mean(np.abs(t - p))\n",
    "    region_names = [idx2loc[idx] for idx in region_ids]\n",
    "\n",
    "    plt.figure(figsize=(12, 6))\n",
    "    sns.heatmap(\n",
    "        err_matrix,\n",
    "        cmap='YlOrRd',\n",
    "        xticklabels=region_names,\n",
    "        yticklabels=np.arange(hours_in_day)\n",
    "    )\n",
    "    plt.xticks(rotation=90)\n",
    "    plt.xlabel('Region')\n",
    "    plt.ylabel('Hour of Day')\n",
    "    plt.title('Heatmap of Mean Absolute Error by Hour and Region')\n",
    "    plt.show()"
   ],
   "metadata": {
    "collapsed": false,
    "ExecuteTime": {
     "end_time": "2025-06-29T06:15:20.217902Z",
     "start_time": "2025-06-29T06:15:20.163881Z"
    }
   },
   "id": "c5408880b049c536",
   "execution_count": 65
  },
  {
   "cell_type": "code",
   "outputs": [
    {
     "data": {
      "text/plain": "<IPython.core.display.Markdown object>",
      "text/markdown": "**Топ 10 часов суток (по Composite):**"
     },
     "metadata": {},
     "output_type": "display_data"
    },
    {
     "data": {
      "text/plain": "         MAE       RMSE      MAPE        R2  Composite\n1  10.379457  14.492306  0.490137  0.921881   6.360005\n6  10.422578  14.473218  0.492545  0.922092   6.366562\n2  10.385930  14.512820  0.490084  0.921659   6.366794\n4  10.406532  14.503573  0.490072  0.921765   6.369603\n0  10.404019  14.507182  0.492300  0.921723   6.370444\n3  10.395304  14.519178  0.490838  0.921591   6.370932\n5  10.418996  14.499049  0.490186  0.921816   6.371604\n7  10.466367  14.498034  0.495332  0.921827   6.384477\n8  10.486903  14.482277  0.499420  0.921995   6.386651\n9  10.507876  14.478761  0.503686  0.922038   6.392072",
      "text/html": "<div>\n<style scoped>\n    .dataframe tbody tr th:only-of-type {\n        vertical-align: middle;\n    }\n\n    .dataframe tbody tr th {\n        vertical-align: top;\n    }\n\n    .dataframe thead th {\n        text-align: right;\n    }\n</style>\n<table border=\"1\" class=\"dataframe\">\n  <thead>\n    <tr style=\"text-align: right;\">\n      <th></th>\n      <th>MAE</th>\n      <th>RMSE</th>\n      <th>MAPE</th>\n      <th>R2</th>\n      <th>Composite</th>\n    </tr>\n  </thead>\n  <tbody>\n    <tr>\n      <th>1</th>\n      <td>10.379457</td>\n      <td>14.492306</td>\n      <td>0.490137</td>\n      <td>0.921881</td>\n      <td>6.360005</td>\n    </tr>\n    <tr>\n      <th>6</th>\n      <td>10.422578</td>\n      <td>14.473218</td>\n      <td>0.492545</td>\n      <td>0.922092</td>\n      <td>6.366562</td>\n    </tr>\n    <tr>\n      <th>2</th>\n      <td>10.385930</td>\n      <td>14.512820</td>\n      <td>0.490084</td>\n      <td>0.921659</td>\n      <td>6.366794</td>\n    </tr>\n    <tr>\n      <th>4</th>\n      <td>10.406532</td>\n      <td>14.503573</td>\n      <td>0.490072</td>\n      <td>0.921765</td>\n      <td>6.369603</td>\n    </tr>\n    <tr>\n      <th>0</th>\n      <td>10.404019</td>\n      <td>14.507182</td>\n      <td>0.492300</td>\n      <td>0.921723</td>\n      <td>6.370444</td>\n    </tr>\n    <tr>\n      <th>3</th>\n      <td>10.395304</td>\n      <td>14.519178</td>\n      <td>0.490838</td>\n      <td>0.921591</td>\n      <td>6.370932</td>\n    </tr>\n    <tr>\n      <th>5</th>\n      <td>10.418996</td>\n      <td>14.499049</td>\n      <td>0.490186</td>\n      <td>0.921816</td>\n      <td>6.371604</td>\n    </tr>\n    <tr>\n      <th>7</th>\n      <td>10.466367</td>\n      <td>14.498034</td>\n      <td>0.495332</td>\n      <td>0.921827</td>\n      <td>6.384477</td>\n    </tr>\n    <tr>\n      <th>8</th>\n      <td>10.486903</td>\n      <td>14.482277</td>\n      <td>0.499420</td>\n      <td>0.921995</td>\n      <td>6.386651</td>\n    </tr>\n    <tr>\n      <th>9</th>\n      <td>10.507876</td>\n      <td>14.478761</td>\n      <td>0.503686</td>\n      <td>0.922038</td>\n      <td>6.392072</td>\n    </tr>\n  </tbody>\n</table>\n</div>"
     },
     "metadata": {},
     "output_type": "display_data"
    },
    {
     "data": {
      "text/plain": "<IPython.core.display.Markdown object>",
      "text/markdown": "**Топ 10 районов (по MAE):**"
     },
     "metadata": {},
     "output_type": "display_data"
    },
    {
     "data": {
      "text/plain": "Metric       MAE\nRegion          \n253     5.117801\n265     5.669168\n204     5.933354\n207     6.401508\n264     6.555818\n240     6.631508\n251     6.724457\n194     6.865925\n214     6.988583\n245     7.052032",
      "text/html": "<div>\n<style scoped>\n    .dataframe tbody tr th:only-of-type {\n        vertical-align: middle;\n    }\n\n    .dataframe tbody tr th {\n        vertical-align: top;\n    }\n\n    .dataframe thead th {\n        text-align: right;\n    }\n</style>\n<table border=\"1\" class=\"dataframe\">\n  <thead>\n    <tr style=\"text-align: right;\">\n      <th>Metric</th>\n      <th>MAE</th>\n    </tr>\n    <tr>\n      <th>Region</th>\n      <th></th>\n    </tr>\n  </thead>\n  <tbody>\n    <tr>\n      <th>253</th>\n      <td>5.117801</td>\n    </tr>\n    <tr>\n      <th>265</th>\n      <td>5.669168</td>\n    </tr>\n    <tr>\n      <th>204</th>\n      <td>5.933354</td>\n    </tr>\n    <tr>\n      <th>207</th>\n      <td>6.401508</td>\n    </tr>\n    <tr>\n      <th>264</th>\n      <td>6.555818</td>\n    </tr>\n    <tr>\n      <th>240</th>\n      <td>6.631508</td>\n    </tr>\n    <tr>\n      <th>251</th>\n      <td>6.724457</td>\n    </tr>\n    <tr>\n      <th>194</th>\n      <td>6.865925</td>\n    </tr>\n    <tr>\n      <th>214</th>\n      <td>6.988583</td>\n    </tr>\n    <tr>\n      <th>245</th>\n      <td>7.052032</td>\n    </tr>\n  </tbody>\n</table>\n</div>"
     },
     "metadata": {},
     "output_type": "display_data"
    },
    {
     "data": {
      "text/plain": "<Figure size 800x400 with 1 Axes>",
      "image/png": "[encoded data removed]"
     },
     "metadata": {},
     "output_type": "display_data"
    },
    {
     "data": {
      "text/plain": "<Figure size 1200x600 with 2 Axes>",
      "image/png": "[encoded data removed]"
     },
     "metadata": {},
     "output_type": "display_data"
    }
   ],
   "source": [
    "y_test = np.load('y_test1.npy')\n",
    "y_l = np.load('y_l1.npy')\n",
    "detailed_analysis(y_test, y_l, top_n=10)"
   ],
   "metadata": {
    "collapsed": false,
    "ExecuteTime": {
     "end_time": "2025-06-29T06:15:23.460879Z",
     "start_time": "2025-06-29T06:15:20.219501Z"
    }
   },
   "id": "59331cc105dff78c",
   "execution_count": 66
  },
  {
   "cell_type": "code",
   "outputs": [],
   "source": [
    "from joblib import dump\n",
    "dump(scaler_X, 'scaler_X.joblib')  \n",
    "dump(scaler_y, 'scaler_y.joblib')  \n",
    "\n",
    "lstm.save('lstm.keras')"
   ],
   "metadata": {
    "collapsed": false,
    "ExecuteTime": {
     "end_time": "2025-06-29T11:21:46.904092Z",
     "start_time": "2025-06-29T11:21:46.723627Z"
    }
   },
   "id": "9ae9d25db2722433",
   "execution_count": 67
  },
  {
   "cell_type": "markdown",
   "source": [
    "**Анализ качества предсказаний модели**\n",
    "\n",
    "---\n",
    "\n",
    "## 1. Топ 10 часов суток (по Composite)\n",
    "\n",
    "* **Лучшее время работы модели** — ночь (0-5 ч).\n",
    "\n",
    "---\n",
    "\n",
    "## 2. Топ 10 районов (по MAE)\n",
    "\n",
    "* **Самый «простой» район** для предсказания — 253 (MAE ≈ 5.1), там модель работает в 2 раза точнее, чем в среднем по городу.\n",
    "* Второй и третий по точности (265, 204) тоже демонстрируют относительно стабильный спрос.\n",
    "* Наименее предсказуемые районы (за пределами топ-10) имеют MAE > 15, что указывает на высокую волатильность заказов или малое количество данных.\n",
    "\n",
    "---\n",
    "\n",
    "## 3. MAE по часам суток\n",
    "\n",
    "* **Минимальная MAE** наблюдается около 1-2 ч (\\~10.35), т. е. в «тихие» предутренние часы.\n",
    "* **Пик ошибок** — около 18-19 ч, MAE достигает \\~10.65. Скорее всего, модель хуже справляется с дневным изменением спроса.\n",
    "* В целом колебания MAE по часам невелики (диапазон \\~0.2–0.3), что говорит об относительно стабильной работе модели в разные часы.\n",
    "\n",
    "---\n",
    "\n",
    "## 4. Тепловая карта средней абсолютной ошибки\n",
    "\n",
    "* **Яркие вертикальные полосы** (например, регионы ≈ 199 и т. д.) свидетельствуют о районах с высокой ошибкой во всех/почти всех часах.\n",
    "* В подавляющем большинстве «тихих» районов и часов ошибка лежит в диапазоне 5–10 заказов, тогда как в «проблемных» регионах она превышает 20 заказов.\n",
    "\n"
   ],
   "metadata": {
    "collapsed": false
   },
   "id": "1d13cf5ae73ca74c"
  },
  {
   "cell_type": "markdown",
   "source": [
    "**Сравнение моделей: LSTM final vs Linear Regression vs LSTM V1 V2**\n",
    "\n",
    "Моя новая LSTM-модель значительно превосходит простую линейную регрессию и старую модель LSTM по всем ключевым показателям качества:\n",
    "\n",
    "* **MAE (Mean Absolute Error)**\n",
    "  LSTM демонстрирует заметно меньшую среднюю абсолютную ошибку, то есть в среднем её прогнозы ближе к реальным значениям.\n",
    "\n",
    "* **RMSE (Root Mean Squared Error)**\n",
    "  Благодаря более низкому RMS-показателю LSTM лучше справляется с крупными отклонениями и «пиковыми» значениями спроса.\n",
    "\n",
    "* **MAPE (Mean Absolute Percentage Error)**\n",
    "  Низкое процентное отклонение говорит о том, что LSTM сохраняет высокую относительную точность даже в районах с разным уровнем спроса.\n",
    "\n",
    "* **R² (коэффициент детерминации)**\n",
    "  Более высокий R² означает, что LSTM объясняет большую долю вариативности реальных данных и в целом лучше подстраивается под их динамику.\n",
    "\n",
    "* **Composite-метрика**\n",
    "  Взятие в расчёт объединённого показателя подтверждает превосходство LSTM сразу по всем четырём базовым метрикам.\n",
    "\n",
    "---\n",
    "\n",
    "**Вывод:**\n",
    "LSTM-модель final обеспечивает более точные и устойчивые прогнозы спроса на такси во времени и по районам по сравнению с линейной регрессией, делая её предпочтительным выбором для предиктивной аналитики городской мобильности.\n"
   ],
   "metadata": {
    "collapsed": false
   },
   "id": "a9494e22e30ac04d"
  }
 ],
 "metadata": {
  "kernelspec": {
   "display_name": "Python 3",
   "language": "python",
   "name": "python3"
  },
  "language_info": {
   "codemirror_mode": {
    "name": "ipython",
    "version": 2
   },
   "file_extension": ".py",
   "mimetype": "text/x-python",
   "name": "python",
   "nbconvert_exporter": "python",
   "pygments_lexer": "ipython2",
   "version": "2.7.6"
  }
 },
 "nbformat": 4,
 "nbformat_minor": 5
}
